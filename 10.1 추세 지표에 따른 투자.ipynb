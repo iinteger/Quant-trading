{
 "cells": [
  {
   "cell_type": "markdown",
   "metadata": {
    "collapsed": true,
    "pycharm": {
     "name": "#%% md\n"
    }
   },
   "source": [
    "## 추세 지표에 따른 투자\n",
    "* 추세 : 주가가 진행하는 방향\n",
    "* 모멘텀, 방향성지수, 엔빌롭 등등.."
   ]
  },
  {
   "cell_type": "code",
   "execution_count": 1,
   "outputs": [
    {
     "name": "stderr",
     "output_type": "stream",
     "text": [
      "100%|██████████| 2170/2170 [00:19<00:00, 111.19it/s]\n"
     ]
    }
   ],
   "source": [
    "import os\n",
    "import pandas as pd\n",
    "from tqdm import tqdm\n",
    "\n",
    "sp_data_dict = dict()\n",
    "for file_name in tqdm(os.listdir(\"data/주가데이터\")):\n",
    "    sp_data = pd.read_csv(\"data/주가데이터/\" + file_name, parse_dates = ['Date'])\n",
    "    stock_name = file_name.replace('.csv', '')\n",
    "    sp_data_dict[stock_name] = sp_data"
   ],
   "metadata": {
    "collapsed": false,
    "pycharm": {
     "name": "#%%\n"
    }
   }
  },
  {
   "cell_type": "code",
   "execution_count": 2,
   "outputs": [],
   "source": [
    "import warnings\n",
    "warnings.filterwarnings(\"ignore\")"
   ],
   "metadata": {
    "collapsed": false,
    "pycharm": {
     "name": "#%%\n"
    }
   }
  },
  {
   "cell_type": "code",
   "execution_count": 3,
   "outputs": [],
   "source": [
    "import seaborn as sns\n",
    "from matplotlib import pyplot as plt\n",
    "from matplotlib import rcParams\n",
    "sns.set()\n",
    "%matplotlib inline\n",
    "rcParams['font.family'] = 'Malgun Gothic'\n",
    "rcParams['axes.unicode_minus'] = False"
   ],
   "metadata": {
    "collapsed": false,
    "pycharm": {
     "name": "#%%\n"
    }
   }
  },
  {
   "cell_type": "markdown",
   "source": [
    "## 모멘텀\n",
    "* 시장의 과매입 혹은 과매도 상태를 나타내는 지표. 일정 기간 동안의 주가 상승 및 하락을 알려주는 기초 추세 지표\n",
    "* 모멘텀_n = (금일 종가 - n 영업일 전 종가) / n영업일 전 종가 * 100 (%)\n",
    "* 모멘텀이 양ㅅ이면 현재 상승 추세에 있다고 판단하여 매수. 반대일때 매도\n"
   ],
   "metadata": {
    "collapsed": false,
    "pycharm": {
     "name": "#%% md\n"
    }
   }
  },
  {
   "cell_type": "code",
   "execution_count": 4,
   "outputs": [
    {
     "name": "stderr",
     "output_type": "stream",
     "text": [
      "100%|██████████| 2170/2170 [01:45<00:00, 20.66it/s]\n"
     ]
    }
   ],
   "source": [
    "import numpy as np\n",
    "\n",
    "mom_data = pd.DataFrame()\n",
    "for stock_name in tqdm(sp_data_dict.keys()):\n",
    "    sp_data = sp_data_dict[stock_name]\n",
    "    sp = sp_data[\"Close\"].values\n",
    "\n",
    "    # 모멘텀 계산\n",
    "    # 모멘텀은 단기 추세 지표이므로 5, 10, 20일 생성\n",
    "    mom_5 = (sp[5:] - sp[:-5]) / sp[:-5] * 100\n",
    "    mom_10 = (sp[10:] - sp[:-10]) / sp[:-10] * 100\n",
    "    mom_20 = (sp[20:] - sp[:-20]) / sp[:-20] * 100\n",
    "    mom_5 = np.insert(mom_5, [0] * 5, np.nan)\n",
    "    mom_10 = np.insert(mom_10, [0] * 10, np.nan)\n",
    "    mom_20 = np.insert(mom_20, [0] * 20, np.nan)\n",
    "\n",
    "    # 모멘텀 변수 추가\n",
    "    temp = pd.DataFrame({\"Date\":sp_data['Date'].values})\n",
    "    temp[\"모멘텀_5\"] = mom_5\n",
    "    temp[\"모멘텀_10\"] = mom_10\n",
    "    temp[\"모멘텀_20\"] = mom_20\n",
    "\n",
    "    # 수익률 추가\n",
    "    ror_5 = np.insert(mom_5, [-1] * 5, np.nan)[5:]\n",
    "    ror_10 = np.insert(mom_10, [-1] * 10, np.nan)[10:]\n",
    "    ror_20 = np.insert(mom_20, [-1] * 20, np.nan)[20:]\n",
    "    temp[\"수익률_5\"] = ror_5\n",
    "    temp[\"수익률_10\"] = ror_10\n",
    "    temp[\"수익률_20\"] = ror_20\n",
    "\n",
    "    temp.dropna(inplace = True)\n",
    "    mom_data = pd.concat([mom_data, temp], axis = 0, ignore_index = True)"
   ],
   "metadata": {
    "collapsed": false,
    "pycharm": {
     "name": "#%%\n"
    }
   }
  },
  {
   "cell_type": "code",
   "execution_count": 5,
   "outputs": [
    {
     "name": "stderr",
     "output_type": "stream",
     "text": [
      "100%|██████████| 2608/2608 [01:17<00:00, 33.63it/s]\n"
     ]
    }
   ],
   "source": [
    "# 리밸런싱\n",
    "\n",
    "result = []\n",
    "date_list = sorted(mom_data[\"Date\"].unique())\n",
    "for date in tqdm(date_list):\n",
    "    temp = mom_data.loc[mom_data['Date'] == date]\n",
    "    for n in [5, 10, 20]:\n",
    "        # 모멘텀 정도에 따라 0 ~ 4까지의 그룹으로 분류. 그룹 0이 가장 낮은 모멘텀을 가지는 그룹\n",
    "        temp[\"그룹\"] = pd.qcut(temp['모멘텀_' + str(n)], 5,labels = range(5)).astype(int)\n",
    "\n",
    "        for group in range(5):\n",
    "            ror_list = temp.loc[temp[\"그룹\"] == group, \"수익률_\" + str(n)].values\n",
    "            inve_per_stock = 10 ** 8 / sum(temp[\"그룹\"] == group)\n",
    "            profit = (inve_per_stock * ror_list / 100).sum()\n",
    "            profit_ratio = profit / 10 ** 8 * 100\n",
    "            result.append([n, group, profit_ratio])\n",
    "\n",
    "result = pd.DataFrame(result, columns = [\"영업일\", \"그룹\", \"수익률\"])"
   ],
   "metadata": {
    "collapsed": false,
    "pycharm": {
     "name": "#%%\n"
    }
   }
  },
  {
   "cell_type": "code",
   "execution_count": 6,
   "outputs": [
    {
     "data": {
      "text/plain": "<AxesSubplot:xlabel='영업일,그룹'>"
     },
     "execution_count": 6,
     "metadata": {},
     "output_type": "execute_result"
    },
    {
     "data": {
      "text/plain": "<Figure size 432x288 with 1 Axes>",
      "image/png": "[encoded data removed]"
     },
     "metadata": {
      "needs_background": "light"
     },
     "output_type": "display_data"
    }
   ],
   "source": [
    "result.groupby(['영업일', '그룹'])['수익률'].mean().round(2).plot(kind = 'bar')\n",
    "\n",
    "# 모멘텀이 가장 적은 0이 가장 높은 수익률을 보이고, 순서대로 낮아짐\n",
    "# 모든 그룹에서 0 이상의 수익률을 보임!"
   ],
   "metadata": {
    "collapsed": false,
    "pycharm": {
     "name": "#%%\n"
    }
   }
  },
  {
   "cell_type": "code",
   "execution_count": 7,
   "outputs": [
    {
     "data": {
      "text/plain": "<AxesSubplot:xlabel='영업일,그룹'>"
     },
     "execution_count": 7,
     "metadata": {},
     "output_type": "execute_result"
    },
    {
     "data": {
      "text/plain": "<Figure size 432x288 with 1 Axes>",
      "image/png": "[encoded data removed]"
     },
     "metadata": {
      "needs_background": "light"
     },
     "output_type": "display_data"
    }
   ],
   "source": [
    "result.groupby(['영업일', '그룹'])['수익률'].median().round(2).plot(kind = 'bar')\n",
    "\n",
    "# 10 영업일을 제외하고 중위수도 비슷한 형태를 보임\n",
    "# 이는 인식과 다르게 모멘텀이 낮은 그룹에 투자하는것이 좋은것을 의미"
   ],
   "metadata": {
    "collapsed": false,
    "pycharm": {
     "name": "#%%\n"
    }
   }
  },
  {
   "cell_type": "code",
   "execution_count": 8,
   "outputs": [
    {
     "name": "stdout",
     "output_type": "stream",
     "text": [
      "         count  mean   std    min   25%   50%   75%    max\n",
      "영업일 그룹                                                    \n",
      "5   0   2608.0  0.56  3.73 -33.55 -1.20  0.72  2.43  36.06\n",
      "    1   2608.0  0.44  3.21 -30.06 -0.95  0.68  2.00  29.11\n",
      "    2   2608.0  0.38  2.91 -29.21 -0.90  0.64  1.86  24.51\n",
      "    3   2608.0  0.27  2.74 -24.76 -0.90  0.54  1.75  19.94\n",
      "    4   2608.0  0.12  2.83 -20.79 -1.28  0.37  1.84  14.10\n",
      "10  0   2608.0  0.81  5.27 -42.37 -1.91  0.99  3.50  58.36\n",
      "    1   2608.0  0.74  4.52 -41.07 -1.45  1.00  3.00  46.67\n",
      "    2   2608.0  0.77  4.13 -37.58 -1.21  1.01  2.97  39.12\n",
      "    3   2608.0  0.66  3.84 -32.61 -1.25  1.00  2.85  29.38\n",
      "    4   2608.0  0.55  4.01 -27.55 -1.70  0.97  3.07  19.07\n",
      "20  0   2608.0  1.78  7.37 -42.76 -2.28  1.77  5.73  78.75\n",
      "    1   2608.0  1.57  6.42 -39.66 -1.72  1.59  5.06  65.12\n",
      "    2   2608.0  1.44  5.84 -39.25 -1.48  1.51  4.55  52.55\n",
      "    3   2608.0  1.37  5.45 -33.69 -1.47  1.51  4.46  43.98\n",
      "    4   2608.0  0.86  5.85 -40.76 -2.68  1.13  4.52  23.40\n"
     ]
    }
   ],
   "source": [
    "print(result.groupby(['영업일', '그룹'])['수익률'].describe().round(2))\n",
    "\n",
    "# 대부분의 지표에서 그룹 0이 가장 높음. 그러나 최소값과 1사분위수도 가장 낮음\n",
    "# 이는 수익과 손실 모두 크다는 것을 의미함. 그럼에도 평균값이 가장 높기 때문에 그룹 0에 투자하는것이 더 좋음"
   ],
   "metadata": {
    "collapsed": false,
    "pycharm": {
     "name": "#%%\n"
    }
   }
  }
 ],
 "metadata": {
  "kernelspec": {
   "display_name": "Python 3",
   "language": "python",
   "name": "python3"
  },
  "language_info": {
   "codemirror_mode": {
    "name": "ipython",
    "version": 2
   },
   "file_extension": ".py",
   "mimetype": "text/x-python",
   "name": "python",
   "nbconvert_exporter": "python",
   "pygments_lexer": "ipython2",
   "version": "2.7.6"
  }
 },
 "nbformat": 4,
 "nbformat_minor": 0
}