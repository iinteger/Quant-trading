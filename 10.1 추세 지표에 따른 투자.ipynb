{
 "cells": [
  {
   "cell_type": "markdown",
   "metadata": {
    "collapsed": true,
    "pycharm": {
     "name": "#%% md\n"
    }
   },
   "source": [
    "## 추세 지표에 따른 투자\n",
    "* 추세 : 주가가 진행하는 방향\n",
    "* 모멘텀, 방향성지수, 엔빌롭 등등.."
   ]
  },
  {
   "cell_type": "code",
   "execution_count": 1,
   "outputs": [
    {
     "name": "stderr",
     "output_type": "stream",
     "text": [
      "100%|██████████| 2170/2170 [00:19<00:00, 111.19it/s]\n"
     ]
    }
   ],
   "source": [
    "import os\n",
    "import pandas as pd\n",
    "from tqdm import tqdm\n",
    "\n",
    "sp_data_dict = dict()\n",
    "for file_name in tqdm(os.listdir(\"data/주가데이터\")):\n",
    "    sp_data = pd.read_csv(\"data/주가데이터/\" + file_name, parse_dates = ['Date'])\n",
    "    stock_name = file_name.replace('.csv', '')\n",
    "    sp_data_dict[stock_name] = sp_data"
   ],
   "metadata": {
    "collapsed": false,
    "pycharm": {
     "name": "#%%\n"
    }
   }
  },
  {
   "cell_type": "code",
   "execution_count": 2,
   "outputs": [],
   "source": [
    "import warnings\n",
    "warnings.filterwarnings(\"ignore\")"
   ],
   "metadata": {
    "collapsed": false,
    "pycharm": {
     "name": "#%%\n"
    }
   }
  },
  {
   "cell_type": "code",
   "execution_count": 3,
   "outputs": [],
   "source": [
    "import seaborn as sns\n",
    "from matplotlib import pyplot as plt\n",
    "from matplotlib import rcParams\n",
    "sns.set()\n",
    "%matplotlib inline\n",
    "rcParams['font.family'] = 'Malgun Gothic'\n",
    "rcParams['axes.unicode_minus'] = False"
   ],
   "metadata": {
    "collapsed": false,
    "pycharm": {
     "name": "#%%\n"
    }
   }
  },
  {
   "cell_type": "markdown",
   "source": [
    "## 모멘텀\n",
    "* 시장의 과매입 혹은 과매도 상태를 나타내는 지표. 일정 기간 동안의 주가 상승 및 하락을 알려주는 기초 추세 지표\n",
    "* 모멘텀_n = (금일 종가 - n 영업일 전 종가) / n영업일 전 종가 * 100 (%)\n",
    "* 모멘텀이 양ㅅ이면 현재 상승 추세에 있다고 판단하여 매수. 반대일때 매도\n"
   ],
   "metadata": {
    "collapsed": false,
    "pycharm": {
     "name": "#%% md\n"
    }
   }
  },
  {
   "cell_type": "code",
   "execution_count": 4,
   "outputs": [
    {
     "name": "stderr",
     "output_type": "stream",
     "text": [
      "100%|██████████| 2170/2170 [01:45<00:00, 20.66it/s]\n"
     ]
    }
   ],
   "source": [
    "import numpy as np\n",
    "\n",
    "mom_data = pd.DataFrame()\n",
    "for stock_name in tqdm(sp_data_dict.keys()):\n",
    "    sp_data = sp_data_dict[stock_name]\n",
    "    sp = sp_data[\"Close\"].values\n",
    "\n",
    "    # 모멘텀 계산\n",
    "    # 모멘텀은 단기 추세 지표이므로 5, 10, 20일 생성\n",
    "    mom_5 = (sp[5:] - sp[:-5]) / sp[:-5] * 100\n",
    "    mom_10 = (sp[10:] - sp[:-10]) / sp[:-10] * 100\n",
    "    mom_20 = (sp[20:] - sp[:-20]) / sp[:-20] * 100\n",
    "    mom_5 = np.insert(mom_5, [0] * 5, np.nan)\n",
    "    mom_10 = np.insert(mom_10, [0] * 10, np.nan)\n",
    "    mom_20 = np.insert(mom_20, [0] * 20, np.nan)\n",
    "\n",
    "    # 모멘텀 변수 추가\n",
    "    temp = pd.DataFrame({\"Date\":sp_data['Date'].values})\n",
    "    temp[\"모멘텀_5\"] = mom_5\n",
    "    temp[\"모멘텀_10\"] = mom_10\n",
    "    temp[\"모멘텀_20\"] = mom_20\n",
    "\n",
    "    # 수익률 추가\n",
    "    ror_5 = np.insert(mom_5, [-1] * 5, np.nan)[5:]\n",
    "    ror_10 = np.insert(mom_10, [-1] * 10, np.nan)[10:]\n",
    "    ror_20 = np.insert(mom_20, [-1] * 20, np.nan)[20:]\n",
    "    temp[\"수익률_5\"] = ror_5\n",
    "    temp[\"수익률_10\"] = ror_10\n",
    "    temp[\"수익률_20\"] = ror_20\n",
    "\n",
    "    temp.dropna(inplace = True)\n",
    "    mom_data = pd.concat([mom_data, temp], axis = 0, ignore_index = True)"
   ],
   "metadata": {
    "collapsed": false,
    "pycharm": {
     "name": "#%%\n"
    }
   }
  },
  {
   "cell_type": "code",
   "execution_count": 5,
   "outputs": [
    {
     "name": "stderr",
     "output_type": "stream",
     "text": [
      "100%|██████████| 2608/2608 [01:17<00:00, 33.63it/s]\n"
     ]
    }
   ],
   "source": [
    "# 리밸런싱\n",
    "\n",
    "result = []\n",
    "date_list = sorted(mom_data[\"Date\"].unique())\n",
    "for date in tqdm(date_list):\n",
    "    temp = mom_data.loc[mom_data['Date'] == date]\n",
    "    for n in [5, 10, 20]:\n",
    "        # 모멘텀 정도에 따라 0 ~ 4까지의 그룹으로 분류. 그룹 0이 가장 낮은 모멘텀을 가지는 그룹\n",
    "        temp[\"그룹\"] = pd.qcut(temp['모멘텀_' + str(n)], 5,labels = range(5)).astype(int)\n",
    "\n",
    "        for group in range(5):\n",
    "            ror_list = temp.loc[temp[\"그룹\"] == group, \"수익률_\" + str(n)].values\n",
    "            inve_per_stock = 10 ** 8 / sum(temp[\"그룹\"] == group)\n",
    "            profit = (inve_per_stock * ror_list / 100).sum()\n",
    "            profit_ratio = profit / 10 ** 8 * 100\n",
    "            result.append([n, group, profit_ratio])\n",
    "\n",
    "result = pd.DataFrame(result, columns = [\"영업일\", \"그룹\", \"수익률\"])"
   ],
   "metadata": {
    "collapsed": false,
    "pycharm": {
     "name": "#%%\n"
    }
   }
  },
  {
   "cell_type": "code",
   "execution_count": 6,
   "outputs": [
    {
     "data": {
      "text/plain": "<AxesSubplot:xlabel='영업일,그룹'>"
     },
     "execution_count": 6,
     "metadata": {},
     "output_type": "execute_result"
    },
    {
     "data": {
      "text/plain": "<Figure size 432x288 with 1 Axes>",
      "image/png": "[encoded data removed]"
     },
     "metadata": {
      "needs_background": "light"
     },
     "output_type": "display_data"
    }
   ],
   "source": [
    "result.groupby(['영업일', '그룹'])['수익률'].mean().round(2).plot(kind = 'bar')\n",
    "\n",
    "# 모멘텀이 가장 적은 0이 가장 높은 수익률을 보이고, 순서대로 낮아짐\n",
    "# 모든 그룹에서 0 이상의 수익률을 보임!"
   ],
   "metadata": {
    "collapsed": false,
    "pycharm": {
     "name": "#%%\n"
    }
   }
  },
  {
   "cell_type": "code",
   "execution_count": 7,
   "outputs": [
    {
     "data": {
      "text/plain": "<AxesSubplot:xlabel='영업일,그룹'>"
     },
     "execution_count": 7,
     "metadata": {},
     "output_type": "execute_result"
    },
    {
     "data": {
      "text/plain": "<Figure size 432x288 with 1 Axes>",
      "image/png": "[encoded data removed]"
     },
     "metadata": {
      "needs_background": "light"
     },
     "output_type": "display_data"
    }
   ],
   "source": [
    "result.groupby(['영업일', '그룹'])['수익률'].median().round(2).plot(kind = 'bar')\n",
    "\n",
    "# 10 영업일을 제외하고 중위수도 비슷한 형태를 보임\n",
    "# 이는 인식과 다르게 모멘텀이 낮은 그룹에 투자하는것이 좋은것을 의미"
   ],
   "metadata": {
    "collapsed": false,
    "pycharm": {
     "name": "#%%\n"
    }
   }
  },
  {
   "cell_type": "code",
   "execution_count": 8,
   "outputs": [
    {
     "name": "stdout",
     "output_type": "stream",
     "text": [
      "         count  mean   std    min   25%   50%   75%    max\n",
      "영업일 그룹                                                    \n",
      "5   0   2608.0  0.56  3.73 -33.55 -1.20  0.72  2.43  36.06\n",
      "    1   2608.0  0.44  3.21 -30.06 -0.95  0.68  2.00  29.11\n",
      "    2   2608.0  0.38  2.91 -29.21 -0.90  0.64  1.86  24.51\n",
      "    3   2608.0  0.27  2.74 -24.76 -0.90  0.54  1.75  19.94\n",
      "    4   2608.0  0.12  2.83 -20.79 -1.28  0.37  1.84  14.10\n",
      "10  0   2608.0  0.81  5.27 -42.37 -1.91  0.99  3.50  58.36\n",
      "    1   2608.0  0.74  4.52 -41.07 -1.45  1.00  3.00  46.67\n",
      "    2   2608.0  0.77  4.13 -37.58 -1.21  1.01  2.97  39.12\n",
      "    3   2608.0  0.66  3.84 -32.61 -1.25  1.00  2.85  29.38\n",
      "    4   2608.0  0.55  4.01 -27.55 -1.70  0.97  3.07  19.07\n",
      "20  0   2608.0  1.78  7.37 -42.76 -2.28  1.77  5.73  78.75\n",
      "    1   2608.0  1.57  6.42 -39.66 -1.72  1.59  5.06  65.12\n",
      "    2   2608.0  1.44  5.84 -39.25 -1.48  1.51  4.55  52.55\n",
      "    3   2608.0  1.37  5.45 -33.69 -1.47  1.51  4.46  43.98\n",
      "    4   2608.0  0.86  5.85 -40.76 -2.68  1.13  4.52  23.40\n"
     ]
    }
   ],
   "source": [
    "print(result.groupby(['영업일', '그룹'])['수익률'].describe().round(2))\n",
    "\n",
    "# 대부분의 지표에서 그룹 0이 가장 높음. 그러나 최소값과 1사분위수도 가장 낮음\n",
    "# 이는 수익과 손실 모두 크다는 것을 의미함. 그럼에도 평균값이 가장 높기 때문에 그룹 0에 투자하는것이 더 좋음"
   ],
   "metadata": {
    "collapsed": false,
    "pycharm": {
     "name": "#%%\n"
    }
   }
  },
  {
   "cell_type": "markdown",
   "source": [
    "## 방향성 지수\n",
    "* 방향성 지수(Directional Movement Index : DMI)는 시장의 추세와 강도를 측정하는데 사용\n",
    "* PDI와 MDI 지표로 매수와 매도 세력 중 어느 세력이 더 강한지 판단하고, ADX 지표로 그 강도를 판단. ADX가 25를 초과하면 추세가 강한것으로 판단\n",
    "* PDI = PDM(Plus Directional Movement) / TR(True Range) -> max(금일 고가 - 전일 고가, 0)\n",
    "* MDI = PDM(Minus Directional Movement) / TR(True Range) -> max (전일 저가 - 금일 저가, 0)\n",
    "* TR = max((|금일 고가 - 금일 저가|), (|금일 고가 - 전일 종가|), (|금일 저가 - 전일 저가|))"
   ],
   "metadata": {
    "collapsed": false,
    "pycharm": {
     "name": "#%% md\n"
    }
   }
  },
  {
   "cell_type": "code",
   "execution_count": 10,
   "outputs": [
    {
     "name": "stderr",
     "output_type": "stream",
     "text": [
      "100%|██████████| 2170/2170 [00:17<00:00, 121.08it/s]\n"
     ]
    }
   ],
   "source": [
    "dmi_data_dict = dict()\n",
    "for stock_name in tqdm(sp_data_dict.keys()):\n",
    "    sp_data = sp_data_dict[stock_name]\n",
    "    high_price = sp_data[\"High\"].values\n",
    "    low_price = sp_data[\"Low\"].values\n",
    "    close_price = sp_data[\"Close\"].values\n",
    "\n",
    "    # 당일, 전일의 고가, 저가, 종가\n",
    "    cur_high_price = high_price[1:]\n",
    "    pre_high_price = high_price[:-1]\n",
    "    cur_low_price = low_price[1:]\n",
    "    pre_low_price = low_price[:-1]\n",
    "    cur_close_price = close_price[1:]\n",
    "    pre_close_price = close_price[:-1]\n",
    "\n",
    "    # PDM, MDM\n",
    "    PDM = cur_high_price - pre_high_price\n",
    "    PDM[PDM < 0] = 0\n",
    "    MDM = cur_low_price - pre_low_price\n",
    "    MDM[MDM < 0] = 0\n",
    "\n",
    "    # TR\n",
    "    TR1 = np.abs(cur_high_price - cur_low_price)\n",
    "    TR2 = np.abs(cur_high_price - pre_close_price)\n",
    "    TR3 = np.abs(cur_low_price - pre_close_price)\n",
    "    TR = np.vstack([TR1, TR2, TR3]).max(axis=0)\n",
    "\n",
    "    dmi_data = pd.DataFrame({\"Close\":close_price})\n",
    "    dmi_data.drop(0, inplace = True)\n",
    "    dmi_data[\"PDM\"] = PDM\n",
    "    dmi_data[\"MDM\"] = MDM\n",
    "    dmi_data[\"TR\"] = TR\n",
    "\n",
    "    for n in [5, 10, 20]:\n",
    "        PDM_n = dmi_data[\"PDM\"].rolling(n).mean()\n",
    "        MDM_n = dmi_data[\"MDM\"].rolling(n).mean()\n",
    "        TR_n = dmi_data[\"TR\"].rolling(n).mean()\n",
    "\n",
    "        PDI_n = PDM_n / TR_n\n",
    "        MDI_n = MDM_n / TR_n\n",
    "        DX_n = (PDI_n - MDI_n) / (PDI_n + MDI_n) * 100\n",
    "        ADX_n = DX_n.rolling(n).mean()\n",
    "\n",
    "        dmi_data[\"PDI_\" + str(n)] = PDI_n\n",
    "        dmi_data[\"MDI_\" + str(n)] = MDI_n\n",
    "        dmi_data[\"ADX_\" + str(n)] = ADX_n\n",
    "\n",
    "    dmi_data.drop(['PDM', 'MDM', 'TR'], axis = 1, inplace = True)\n",
    "    dmi_data_dict[stock_name] = dmi_data"
   ],
   "metadata": {
    "collapsed": false,
    "pycharm": {
     "name": "#%%\n"
    }
   }
  },
  {
   "cell_type": "code",
   "execution_count": 12,
   "outputs": [
    {
     "name": "stderr",
     "output_type": "stream",
     "text": [
      "100%|██████████| 2170/2170 [12:06<00:00,  2.99it/s]\n",
      "  1%|          | 13/2170 [00:04<11:29,  3.13it/s]\n"
     ]
    },
    {
     "ename": "KeyboardInterrupt",
     "evalue": "",
     "output_type": "error",
     "traceback": [
      "\u001B[1;31m---------------------------------------------------------------------------\u001B[0m",
      "\u001B[1;31mKeyboardInterrupt\u001B[0m                         Traceback (most recent call last)",
      "\u001B[1;32m~\\AppData\\Local\\Temp/ipykernel_12332/774174995.py\u001B[0m in \u001B[0;36m<module>\u001B[1;34m\u001B[0m\n\u001B[0;32m     22\u001B[0m             \u001B[1;32mif\u001B[0m \u001B[1;33m(\u001B[0m\u001B[0msum\u001B[0m\u001B[1;33m(\u001B[0m\u001B[0mbp\u001B[0m\u001B[1;33m<\u001B[0m\u001B[0msp_list\u001B[0m\u001B[1;33m)\u001B[0m \u001B[1;33m>\u001B[0m \u001B[1;36m0\u001B[0m\u001B[1;33m)\u001B[0m \u001B[1;32mand\u001B[0m \u001B[1;33m(\u001B[0m\u001B[0mbp\u001B[0m \u001B[1;33m+\u001B[0m \u001B[1;36m1\u001B[0m \u001B[1;33m<=\u001B[0m \u001B[0mdmi_data\u001B[0m\u001B[1;33m.\u001B[0m\u001B[0mindex\u001B[0m\u001B[1;33m[\u001B[0m\u001B[1;33m-\u001B[0m\u001B[1;36m1\u001B[0m\u001B[1;33m]\u001B[0m\u001B[1;33m)\u001B[0m\u001B[1;33m:\u001B[0m\u001B[1;33m\u001B[0m\u001B[1;33m\u001B[0m\u001B[0m\n\u001B[0;32m     23\u001B[0m                 \u001B[0mbuy_price\u001B[0m \u001B[1;33m=\u001B[0m \u001B[0mdmi_data\u001B[0m\u001B[1;33m.\u001B[0m\u001B[0mloc\u001B[0m\u001B[1;33m[\u001B[0m\u001B[0mbp\u001B[0m \u001B[1;33m+\u001B[0m \u001B[1;36m1\u001B[0m\u001B[1;33m,\u001B[0m \u001B[1;34m\"Close\"\u001B[0m\u001B[1;33m]\u001B[0m\u001B[1;33m\u001B[0m\u001B[1;33m\u001B[0m\u001B[0m\n\u001B[1;32m---> 24\u001B[1;33m                 \u001B[0msp\u001B[0m \u001B[1;33m=\u001B[0m \u001B[0msp_list\u001B[0m\u001B[1;33m[\u001B[0m\u001B[0msp_list\u001B[0m \u001B[1;33m>\u001B[0m \u001B[0mbp\u001B[0m\u001B[1;33m]\u001B[0m\u001B[1;33m[\u001B[0m\u001B[1;36m0\u001B[0m\u001B[1;33m]\u001B[0m \u001B[1;33m+\u001B[0m \u001B[1;36m1\u001B[0m\u001B[1;33m\u001B[0m\u001B[1;33m\u001B[0m\u001B[0m\n\u001B[0m\u001B[0;32m     25\u001B[0m                 \u001B[1;32mif\u001B[0m \u001B[0msp\u001B[0m \u001B[1;33m<=\u001B[0m \u001B[0mdmi_data\u001B[0m\u001B[1;33m.\u001B[0m\u001B[0mindex\u001B[0m\u001B[1;33m[\u001B[0m\u001B[1;33m-\u001B[0m\u001B[1;36m1\u001B[0m\u001B[1;33m]\u001B[0m\u001B[1;33m:\u001B[0m\u001B[1;33m\u001B[0m\u001B[1;33m\u001B[0m\u001B[0m\n\u001B[0;32m     26\u001B[0m                     \u001B[0msell_price\u001B[0m \u001B[1;33m=\u001B[0m \u001B[0mdmi_data\u001B[0m\u001B[1;33m.\u001B[0m\u001B[0mloc\u001B[0m\u001B[1;33m[\u001B[0m\u001B[0msp\u001B[0m\u001B[1;33m,\u001B[0m \u001B[1;34m\"Close\"\u001B[0m\u001B[1;33m]\u001B[0m\u001B[1;33m\u001B[0m\u001B[1;33m\u001B[0m\u001B[0m\n",
      "\u001B[1;32m~\\anaconda3\\envs\\data\\lib\\site-packages\\pandas\\core\\ops\\common.py\u001B[0m in \u001B[0;36mnew_method\u001B[1;34m(self, other)\u001B[0m\n\u001B[0;32m     67\u001B[0m         \u001B[0mother\u001B[0m \u001B[1;33m=\u001B[0m \u001B[0mitem_from_zerodim\u001B[0m\u001B[1;33m(\u001B[0m\u001B[0mother\u001B[0m\u001B[1;33m)\u001B[0m\u001B[1;33m\u001B[0m\u001B[1;33m\u001B[0m\u001B[0m\n\u001B[0;32m     68\u001B[0m \u001B[1;33m\u001B[0m\u001B[0m\n\u001B[1;32m---> 69\u001B[1;33m         \u001B[1;32mreturn\u001B[0m \u001B[0mmethod\u001B[0m\u001B[1;33m(\u001B[0m\u001B[0mself\u001B[0m\u001B[1;33m,\u001B[0m \u001B[0mother\u001B[0m\u001B[1;33m)\u001B[0m\u001B[1;33m\u001B[0m\u001B[1;33m\u001B[0m\u001B[0m\n\u001B[0m\u001B[0;32m     70\u001B[0m \u001B[1;33m\u001B[0m\u001B[0m\n\u001B[0;32m     71\u001B[0m     \u001B[1;32mreturn\u001B[0m \u001B[0mnew_method\u001B[0m\u001B[1;33m\u001B[0m\u001B[1;33m\u001B[0m\u001B[0m\n",
      "\u001B[1;32m~\\anaconda3\\envs\\data\\lib\\site-packages\\pandas\\core\\arraylike.py\u001B[0m in \u001B[0;36m__gt__\u001B[1;34m(self, other)\u001B[0m\n\u001B[0;32m     46\u001B[0m     \u001B[1;33m@\u001B[0m\u001B[0munpack_zerodim_and_defer\u001B[0m\u001B[1;33m(\u001B[0m\u001B[1;34m\"__gt__\"\u001B[0m\u001B[1;33m)\u001B[0m\u001B[1;33m\u001B[0m\u001B[1;33m\u001B[0m\u001B[0m\n\u001B[0;32m     47\u001B[0m     \u001B[1;32mdef\u001B[0m \u001B[0m__gt__\u001B[0m\u001B[1;33m(\u001B[0m\u001B[0mself\u001B[0m\u001B[1;33m,\u001B[0m \u001B[0mother\u001B[0m\u001B[1;33m)\u001B[0m\u001B[1;33m:\u001B[0m\u001B[1;33m\u001B[0m\u001B[1;33m\u001B[0m\u001B[0m\n\u001B[1;32m---> 48\u001B[1;33m         \u001B[1;32mreturn\u001B[0m \u001B[0mself\u001B[0m\u001B[1;33m.\u001B[0m\u001B[0m_cmp_method\u001B[0m\u001B[1;33m(\u001B[0m\u001B[0mother\u001B[0m\u001B[1;33m,\u001B[0m \u001B[0moperator\u001B[0m\u001B[1;33m.\u001B[0m\u001B[0mgt\u001B[0m\u001B[1;33m)\u001B[0m\u001B[1;33m\u001B[0m\u001B[1;33m\u001B[0m\u001B[0m\n\u001B[0m\u001B[0;32m     49\u001B[0m \u001B[1;33m\u001B[0m\u001B[0m\n\u001B[0;32m     50\u001B[0m     \u001B[1;33m@\u001B[0m\u001B[0munpack_zerodim_and_defer\u001B[0m\u001B[1;33m(\u001B[0m\u001B[1;34m\"__ge__\"\u001B[0m\u001B[1;33m)\u001B[0m\u001B[1;33m\u001B[0m\u001B[1;33m\u001B[0m\u001B[0m\n",
      "\u001B[1;32m~\\anaconda3\\envs\\data\\lib\\site-packages\\pandas\\core\\indexes\\base.py\u001B[0m in \u001B[0;36m_cmp_method\u001B[1;34m(self, other, op)\u001B[0m\n\u001B[0;32m   6059\u001B[0m         \u001B[1;32melse\u001B[0m\u001B[1;33m:\u001B[0m\u001B[1;33m\u001B[0m\u001B[1;33m\u001B[0m\u001B[0m\n\u001B[0;32m   6060\u001B[0m             \u001B[1;32mwith\u001B[0m \u001B[0mnp\u001B[0m\u001B[1;33m.\u001B[0m\u001B[0merrstate\u001B[0m\u001B[1;33m(\u001B[0m\u001B[0mall\u001B[0m\u001B[1;33m=\u001B[0m\u001B[1;34m\"ignore\"\u001B[0m\u001B[1;33m)\u001B[0m\u001B[1;33m:\u001B[0m\u001B[1;33m\u001B[0m\u001B[1;33m\u001B[0m\u001B[0m\n\u001B[1;32m-> 6061\u001B[1;33m                 \u001B[0mresult\u001B[0m \u001B[1;33m=\u001B[0m \u001B[0mops\u001B[0m\u001B[1;33m.\u001B[0m\u001B[0mcomparison_op\u001B[0m\u001B[1;33m(\u001B[0m\u001B[0mself\u001B[0m\u001B[1;33m.\u001B[0m\u001B[0m_values\u001B[0m\u001B[1;33m,\u001B[0m \u001B[0mother\u001B[0m\u001B[1;33m,\u001B[0m \u001B[0mop\u001B[0m\u001B[1;33m)\u001B[0m\u001B[1;33m\u001B[0m\u001B[1;33m\u001B[0m\u001B[0m\n\u001B[0m\u001B[0;32m   6062\u001B[0m \u001B[1;33m\u001B[0m\u001B[0m\n\u001B[0;32m   6063\u001B[0m         \u001B[1;32mreturn\u001B[0m \u001B[0mresult\u001B[0m\u001B[1;33m\u001B[0m\u001B[1;33m\u001B[0m\u001B[0m\n",
      "\u001B[1;32m~\\anaconda3\\envs\\data\\lib\\site-packages\\numpy\\core\\_ufunc_config.py\u001B[0m in \u001B[0;36m__exit__\u001B[1;34m(self, *exc_info)\u001B[0m\n\u001B[0;32m    433\u001B[0m \u001B[1;33m\u001B[0m\u001B[0m\n\u001B[0;32m    434\u001B[0m     \u001B[1;32mdef\u001B[0m \u001B[0m__exit__\u001B[0m\u001B[1;33m(\u001B[0m\u001B[0mself\u001B[0m\u001B[1;33m,\u001B[0m \u001B[1;33m*\u001B[0m\u001B[0mexc_info\u001B[0m\u001B[1;33m)\u001B[0m\u001B[1;33m:\u001B[0m\u001B[1;33m\u001B[0m\u001B[1;33m\u001B[0m\u001B[0m\n\u001B[1;32m--> 435\u001B[1;33m         \u001B[0mseterr\u001B[0m\u001B[1;33m(\u001B[0m\u001B[1;33m**\u001B[0m\u001B[0mself\u001B[0m\u001B[1;33m.\u001B[0m\u001B[0moldstate\u001B[0m\u001B[1;33m)\u001B[0m\u001B[1;33m\u001B[0m\u001B[1;33m\u001B[0m\u001B[0m\n\u001B[0m\u001B[0;32m    436\u001B[0m         \u001B[1;32mif\u001B[0m \u001B[0mself\u001B[0m\u001B[1;33m.\u001B[0m\u001B[0mcall\u001B[0m \u001B[1;32mis\u001B[0m \u001B[1;32mnot\u001B[0m \u001B[0m_Unspecified\u001B[0m\u001B[1;33m:\u001B[0m\u001B[1;33m\u001B[0m\u001B[1;33m\u001B[0m\u001B[0m\n\u001B[0;32m    437\u001B[0m             \u001B[0mseterrcall\u001B[0m\u001B[1;33m(\u001B[0m\u001B[0mself\u001B[0m\u001B[1;33m.\u001B[0m\u001B[0moldcall\u001B[0m\u001B[1;33m)\u001B[0m\u001B[1;33m\u001B[0m\u001B[1;33m\u001B[0m\u001B[0m\n",
      "\u001B[1;31mKeyboardInterrupt\u001B[0m: "
     ]
    }
   ],
   "source": [
    "# PDI, MDI를 활용한 매매\n",
    "# PDI가 MDI보다 커지는 시점에 매수, MDI가 PDI보다 커지는 시점에 매도\n",
    "\n",
    "result_dict = {5:[], 10:[], 20:[]}\n",
    "for stock_name in tqdm(dmi_data_dict.keys()):\n",
    "    dmi_data = dmi_data_dict[stock_name]\n",
    "    for n in [5, 10, 20]:\n",
    "        PDI = dmi_data[\"PDI_\" + str(n)].values\n",
    "        MDI = dmi_data[\"MDI_\" + str(n)].values\n",
    "\n",
    "        # 매수 시점\n",
    "        bp_list = (PDI[1:] > MDI[1:]) & (PDI[:-1] <= MDI[:-1])\n",
    "        bp_list = np.insert(bp_list, 0, False)\n",
    "        bp_list = dmi_data.index[bp_list]\n",
    "\n",
    "        # 매도 시점\n",
    "        sp_list = (PDI[1:] < MDI[1:]) & (PDI[:-1] > MDI[:-1])\n",
    "        sp_list = np.insert(sp_list, 0, False)\n",
    "        sp_list = dmi_data.index[sp_list]\n",
    "\n",
    "        for bp in bp_list:\n",
    "            if (sum(bp<sp_list) > 0) and (bp + 1 <= dmi_data.index[-1]):\n",
    "                buy_price = dmi_data.loc[bp + 1, \"Close\"]\n",
    "                sp = sp_list[sp_list > bp][0] + 1\n",
    "                if sp <= dmi_data.index[-1]:\n",
    "                    sell_price = dmi_data.loc[sp, \"Close\"]\n",
    "                    profit = (sell_price - buy_price) / buy_price * 100\n",
    "                    result_dict[n].append(profit)\n",
    "            else:\n",
    "                break"
   ],
   "metadata": {
    "collapsed": false,
    "pycharm": {
     "name": "#%%\n"
    }
   }
  },
  {
   "cell_type": "code",
   "execution_count": 14,
   "outputs": [
    {
     "name": "stdout",
     "output_type": "stream",
     "text": [
      "                5            10           20\n",
      "count  3736.000000  2536.000000  1704.000000\n",
      "mean      0.098855     0.377636     0.525195\n",
      "std       7.233685     9.851170    16.860288\n",
      "min     -48.664577   -43.408072   -61.653997\n",
      "25%      -2.517904    -2.702440    -2.831027\n",
      "50%      -0.191866    -0.165446    -0.285646\n",
      "75%       2.165382     2.209376     2.174702\n",
      "max     112.547231   276.470588   511.738535\n"
     ]
    }
   ],
   "source": [
    "result = pd.DataFrame()\n",
    "\n",
    "for n in [5, 10, 20]:\n",
    "    result = pd.concat([result, pd.Series(result_dict[n]).describe()], axis = 1)\n",
    "result.columns = [5, 10, 20]\n",
    "\n",
    "print(result)\n",
    "\n",
    "# 모든 일자의 중위값이 음수\n",
    "# 평균도 0에 가까워서 결과는 좋지 않음"
   ],
   "metadata": {
    "collapsed": false,
    "pycharm": {
     "name": "#%%\n"
    }
   }
  },
  {
   "cell_type": "code",
   "execution_count": 15,
   "outputs": [
    {
     "name": "stderr",
     "output_type": "stream",
     "text": [
      "100%|██████████| 2170/2170 [00:40<00:00, 54.22it/s]\n"
     ]
    }
   ],
   "source": [
    "# PDI, MDI, ADX를 모두 활용한 전략\n",
    "# PDI가 MDI보다 크고 ADX가 25 이상 과열된 시점에 매수하고, PDI가 MDI보다 작고 ADX가 25이상일 때 매도\n",
    "\n",
    "result_dict = {5:[], 10:[], 20:[]}\n",
    "\n",
    "for stock_name in tqdm(dmi_data_dict.keys()):\n",
    "    dmi_data = dmi_data_dict[stock_name]\n",
    "    for n in [5, 10, 20]:\n",
    "        PDI = dmi_data[\"PDI_\" + str(n)].values\n",
    "        MDI = dmi_data[\"MDI_\" + str(n)].values\n",
    "        ADX = dmi_data[\"ADX_\" + str(n)].values\n",
    "\n",
    "        bp_list = ((PDI[1:] > MDI[1:]) & (ADX[1:] >= 25))\n",
    "        bp_list &= ((PDI[:-1] <= MDI[:-1]) | (ADX[:-1] < 25))\n",
    "        bp_list = np.insert(bp_list, 0, False)\n",
    "        bp_list = dmi_data.index[bp_list]\n",
    "\n",
    "        sp_list = ((PDI[1:] <= MDI[1:]) & (ADX[1:] >= 25))\n",
    "        sp_list &= ((PDI[:-1] > MDI[:-1]) | (ADX[:-1] < 25))\n",
    "        sp_list = np.insert(sp_list, 0, False)\n",
    "        sp_list = dmi_data.index[sp_list]\n",
    "\n",
    "        for bp in bp_list:\n",
    "            if (sum(bp < sp_list) > 0) and (bp + 1 <= dmi_data.index[-1]):\n",
    "                buy_price = dmi_data.loc[bp + 1, \"Close\"]\n",
    "                sp = sp_list[sp_list > bp][0] + 1\n",
    "                if sp <= dmi_data.index[-1]:\n",
    "                    sell_price = dmi_data.loc[sp, \"Close\"]\n",
    "                    profit = (sell_price - buy_price) / buy_price * 100\n",
    "                    result_dict[n].append(profit)\n",
    "            else:\n",
    "                break"
   ],
   "metadata": {
    "collapsed": false,
    "pycharm": {
     "name": "#%%\n"
    }
   }
  },
  {
   "cell_type": "code",
   "execution_count": 16,
   "outputs": [
    {
     "name": "stdout",
     "output_type": "stream",
     "text": [
      "                  5             10            20\n",
      "count  197711.000000  72445.000000  22352.000000\n",
      "mean        3.212069      4.983946      7.552699\n",
      "std        34.857518     45.263207     65.572077\n",
      "min       -98.893099    -97.829648    -99.105313\n",
      "25%        -7.120867     -9.050279    -12.392624\n",
      "50%        -0.626959     -1.041667     -1.712695\n",
      "75%         4.989269      5.644172      7.057649\n",
      "max      2518.985696   1309.395973   2669.335938\n"
     ]
    }
   ],
   "source": [
    "result = pd.DataFrame()\n",
    "\n",
    "for n in [5, 10, 20]:\n",
    "    result = pd.concat([result, pd.Series(result_dict[n]).describe()], axis = 1)\n",
    "result.columns = [5, 10, 20]\n",
    "\n",
    "print(result)\n",
    "\n",
    "# 위와 동일하게 중위값이 음수\n",
    "# 그러나 평균이 높음. 이는 투자의 과반이 손실을 보지만 수익이 날때 크게 난다는 것을 의미"
   ],
   "metadata": {
    "collapsed": false,
    "pycharm": {
     "name": "#%%\n"
    }
   }
  },
  {
   "cell_type": "markdown",
   "source": [
    "## 엔빌로프\n",
    "* N일 이동평균선에 각각 (1+a), (1-a)를 곱한 값을 저항선과 지지선으로 간주해서 사용하는 전략\n",
    "* 볼린저밴드와 유사하지만, 엔빌롭은 이동평균선을 단순히 이동시킨 값이고, 볼린저밴드는 주가의 변동성이 반영된 값\n",
    "* 지지선에 닿을때 매수, 저항선에 닿을때 매도"
   ],
   "metadata": {
    "collapsed": false,
    "pycharm": {
     "name": "#%% md\n"
    }
   }
  },
  {
   "cell_type": "code",
   "execution_count": 17,
   "outputs": [
    {
     "name": "stderr",
     "output_type": "stream",
     "text": [
      "100%|██████████| 2170/2170 [00:21<00:00, 101.97it/s]\n"
     ]
    }
   ],
   "source": [
    "env_data_dict = dict()\n",
    "\n",
    "for stock_name in tqdm(sp_data_dict.keys()):\n",
    "    # 데이터 정의\n",
    "    sp_data = sp_data_dict[stock_name]\n",
    "    env_data = sp_data.copy() # sp_data 복제\n",
    "\n",
    "    low_price = env_data[\"Low\"].values\n",
    "    high_price = env_data[\"High\"].values\n",
    "    for n in [5, 10, 20]:\n",
    "        env_data[\"MA_\" + str(n)] = env_data[\"Close\"].rolling(n).mean()\n",
    "        for a in [0.05, 0.1, 0.15, 0.2]:\n",
    "            env_data[\"지지선_{}_{}\".format(n, a)] = env_data[\"MA_\" + str(n)] * (1-a)\n",
    "            env_data[\"저항선_{}_{}\".format(n, a)] = env_data[\"MA_\" + str(n)] * (1+a)\n",
    "\n",
    "    env_data_dict[stock_name] = env_data"
   ],
   "metadata": {
    "collapsed": false,
    "pycharm": {
     "name": "#%%\n"
    }
   }
  },
  {
   "cell_type": "code",
   "source": [
    "mean_result = []\n",
    "median_result = []\n",
    "\n",
    "# a가 클수록 이평선과 지지선, 저항선의 거리가 멀어짐\n",
    "for n in [5, 10, 20]:\n",
    "    for a in [0.05, 0.1, 0.15, 0.2]:\n",
    "        ror_list = []\n",
    "        for stock_name in env_data_dict.keys():\n",
    "            env_data = env_data_dict[stock_name]\n",
    "            low_price = env_data[\"Low\"].values\n",
    "            high_price = env_data[\"High\"].values\n",
    "\n",
    "            res = env_data[\"저항선_{}_{}\".format(n, a)].values\n",
    "            sup = env_data[\"지지선_{}_{}\".format(n, a)].values\n",
    "\n",
    "            bp_list = (low_price[1:] <= sup[1:]) & (low_price[:-1] > sup[:-1])\n",
    "            bp_list = np.insert(bp_list, 0, False)\n",
    "            bp_list = env_data.index[bp_list]\n",
    "\n",
    "            sp_list = (high_price[1:] >= res[1:]) & (high_price[:-1] < res[:-1])\n",
    "            sp_list = np.insert(sp_list, 0, False)\n",
    "            sp_list = env_data.index[sp_list]\n",
    "\n",
    "            for bp in bp_list:\n",
    "                if (sum(bp < sp_list) > 0) and (bp + 1 <= env_data.index[-1]):\n",
    "                    buy_price = env_data.loc[bp + 1, \"Close\"]\n",
    "                    sp = sp_list[sp_list > bp][0] + 1\n",
    "                    if sp <= env_data.index[-1]:\n",
    "                        sell_price = env_data.loc[sp, \"Close\"]\n",
    "                        ror = (sell_price - buy_price) / buy_price * 100\n",
    "                        ror_list.append(ror)\n",
    "                else:\n",
    "                    break\n",
    "\n",
    "        mean_result.append(np.mean(ror_list))\n",
    "        median_result.append(np.quantile(ror_list, 0.5))\n",
    "\n",
    "mean_result = np.array(mean_result).reshape(3, 4)\n",
    "median_result = np.array(median_result).reshape(3, 4)"
   ],
   "metadata": {
    "collapsed": false,
    "pycharm": {
     "name": "#%%\n"
    }
   },
   "execution_count": 18,
   "outputs": []
  },
  {
   "cell_type": "code",
   "execution_count": 21,
   "outputs": [
    {
     "data": {
      "text/plain": "<Figure size 432x288 with 2 Axes>",
      "image/png": "[encoded data removed]"
     },
     "metadata": {
      "needs_background": "light"
     },
     "output_type": "display_data"
    },
    {
     "data": {
      "text/plain": "<Figure size 432x288 with 2 Axes>",
      "image/png": "[encoded data removed]"
     },
     "metadata": {
      "needs_background": "light"
     },
     "output_type": "display_data"
    }
   ],
   "source": [
    "# 평균값, 중위수 시각화\n",
    "sns.heatmap(mean_result, annot = True, fmt = \".2f\", linewidth = 1)\n",
    "plt.yticks([0.5, 1.5, 2.5], [5, 10, 20])\n",
    "plt.xticks([0.5, 1.5, 2.5, 3.5], [0.05, 0.1, 0.15, 0.2])\n",
    "plt.ylabel(\"n\")\n",
    "plt.xlabel(\"a\")\n",
    "plt.show()\n",
    "\n",
    "sns.heatmap(median_result, annot = True, fmt = \".2f\", linewidth = 1)\n",
    "plt.yticks([0.5, 1.5, 2.5], [5, 10, 20])\n",
    "plt.xticks([0.5, 1.5, 2.5, 3.5], [0.05, 0.1, 0.15, 0.2])\n",
    "plt.ylabel(\"n\")\n",
    "plt.xlabel(\"a\")\n",
    "plt.show()\n",
    "\n",
    "# 평균과 중위수가 모든 경우에서 양수\n",
    "# a값을 크게, 즉, 지지선을 낮고 저항선을 높에 설정할수록 수익률이 큰 폭으로 좋아짐"
   ],
   "metadata": {
    "collapsed": false,
    "pycharm": {
     "name": "#%%\n"
    }
   }
  }
 ],
 "metadata": {
  "kernelspec": {
   "display_name": "Python 3",
   "language": "python",
   "name": "python3"
  },
  "language_info": {
   "codemirror_mode": {
    "name": "ipython",
    "version": 2
   },
   "file_extension": ".py",
   "mimetype": "text/x-python",
   "name": "python",
   "nbconvert_exporter": "python",
   "pygments_lexer": "ipython2",
   "version": "2.7.6"
  }
 },
 "nbformat": 4,
 "nbformat_minor": 0
}