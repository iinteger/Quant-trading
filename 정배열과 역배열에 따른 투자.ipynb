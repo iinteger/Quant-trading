{
 "cells": [
  {
   "cell_type": "markdown",
   "metadata": {
    "collapsed": true,
    "pycharm": {
     "name": "#%% md\n"
    }
   },
   "source": [
    "* 정배열 : 단기 이동평균선이 가장 위에, 장기 이동평균선이 가장 아래에 위치하도록 이평선들이 순서대로 배치된 상태\n",
    "* 역배열 : 정배열과 반대로 배치된 상태\n",
    "\n",
    "## 정배열이 시작되는 지점에서 매수, 끝나는 지점에서 매도할때의 기대수익 계산"
   ]
  },
  {
   "cell_type": "code",
   "execution_count": 2,
   "outputs": [],
   "source": [
    "import pandas as pd\n",
    "\n",
    "stock_info = pd.read_excel(\"data/211104_시가총액.xlsx\")  # 데이터는 깃허브에서 다운로드받았음\n",
    "\n",
    "# 코스피, 코스닥, 시총 상위 100개의 우량주로 데이터 구분\n",
    "KOSPI_list = stock_info.loc[stock_info[\"시장구분\"] == \"KOSPI\", \"종목명\"].tolist()\n",
    "KOSDAQ_list = stock_info.loc[stock_info[\"시장구분\"] == \"KOSDAQ\", \"종목명\"].tolist()\n",
    "TOP100_list = stock_info.sort_values(by = \"시가총액\", ascending = False)['종목명'].iloc[:100].tolist()"
   ],
   "metadata": {
    "collapsed": false,
    "pycharm": {
     "name": "#%%\n"
    }
   }
  },
  {
   "cell_type": "code",
   "execution_count": 3,
   "outputs": [
    {
     "name": "stderr",
     "output_type": "stream",
     "text": [
      "100%|██████████| 2170/2170 [00:12<00:00, 168.24it/s]\n"
     ]
    }
   ],
   "source": [
    "import os\n",
    "from tqdm import tqdm\n",
    "\n",
    "sp_data_dict = dict()\n",
    "for file_name in tqdm(os.listdir(\"data/주가데이터\")):\n",
    "    stock_name = file_name.replace('.csv', '')\n",
    "    sp_data = pd.read_csv(\"data/주가데이터/\" + file_name, usecols = [\"Date\", \"Close\"], parse_dates = ['Date'])\n",
    "    sp_data_dict[stock_name] = sp_data"
   ],
   "metadata": {
    "collapsed": false,
    "pycharm": {
     "name": "#%%\n"
    }
   }
  },
  {
   "cell_type": "code",
   "execution_count": 4,
   "outputs": [],
   "source": [
    "# 정배열, 역배열 생성\n",
    "\n",
    "for stock_name in sp_data_dict.keys():\n",
    "    sp_data = sp_data_dict[stock_name]\n",
    "    sp_data[\"5일선\"] = sp_data[\"Close\"].rolling(5).mean()\n",
    "    sp_data[\"20일선\"] = sp_data[\"Close\"].rolling(20).mean()\n",
    "    sp_data[\"60일선\"] = sp_data[\"Close\"].rolling(60).mean()\n",
    "    sp_data[\"120일선\"] = sp_data[\"Close\"].rolling(120).mean()\n",
    "    sp_data.dropna(inplace = True)\n",
    "\n",
    "    sp_data[\"정배열\"] = (sp_data[\"5일선\"] >= sp_data[\"20일선\"])\\\n",
    "                          & (sp_data[\"20일선\"] >= sp_data[\"60일선\"])\\\n",
    "                          & (sp_data[\"60일선\"] >= sp_data[\"120일선\"])\n",
    "\n",
    "    sp_data[\"역배열\"] = (sp_data[\"5일선\"] <= sp_data[\"20일선\"])\\\n",
    "                          & (sp_data[\"20일선\"] <= sp_data[\"60일선\"])\\\n",
    "                          & (sp_data[\"60일선\"] <= sp_data[\"120일선\"])"
   ],
   "metadata": {
    "collapsed": false,
    "pycharm": {
     "name": "#%%\n"
    }
   }
  },
  {
   "cell_type": "code",
   "execution_count": 8,
   "outputs": [],
   "source": [
    "# 정배열이 시작될 때 매수하고 정배열이 끝나는 시점에 매도하는 함수\n",
    "\n",
    "import numpy as np\n",
    "\n",
    "def calc_ror_in_forward(sp_data):\n",
    "    ror_list = []\n",
    "\n",
    "    # ex) [2일 종가, 3일 종가, 4일 종가] > [1일 종가, 2일 종가, 3일 종가] 이렇게 비교하며 True인 날 (정배열이 아니었다가 정배열이 된 날)이 매수시점\n",
    "    buy_point_list = sp_data[\"정배열\"].values[1:] > sp_data[\"정배열\"].values[:-1]\n",
    "    buy_point_list = np.insert(buy_point_list, 0, False)  # 1일차는 비교대상이 없으므로 정배열이 새로 발생한건지 알 수 없음. 따라서 매수x\n",
    "    buy_point_list = sp_data.index[buy_point_list]\n",
    "\n",
    "    sell_point_list = sp_data[\"정배열\"].values[:-1] > sp_data[\"정배열\"].values[1:]\n",
    "    sell_point_list = np.insert(sell_point_list, 0, False)\n",
    "    sell_point_list = sp_data.index[sell_point_list]\n",
    "\n",
    "    for buy_point in buy_point_list:\n",
    "        if (sum(buy_point<sell_point_list) > 0) and (buy_point+1 <= sp_data.index[-1]):\n",
    "            buy_price = sp_data.loc[buy_point + 1, \"Close\"]\n",
    "            sell_point = sell_point_list[sell_point_list > buy_point][0] + 1\n",
    "            if sell_point <= sp_data.index[-1]:\n",
    "                sell_price = sp_data.loc[sell_point, \"Close\"]\n",
    "\n",
    "                ror = (sell_price - buy_price) / buy_price * 100\n",
    "                ror_list.append(ror)\n",
    "        else:\n",
    "            break\n",
    "\n",
    "    return ror_list"
   ],
   "metadata": {
    "collapsed": false,
    "pycharm": {
     "name": "#%%\n"
    }
   }
  },
  {
   "cell_type": "code",
   "execution_count": 9,
   "outputs": [
    {
     "name": "stdout",
     "output_type": "stream",
     "text": [
      "count    28.00\n",
      "mean      2.42\n",
      "std      16.92\n",
      "min     -14.96\n",
      "25%      -6.23\n",
      "50%      -1.57\n",
      "75%       1.16\n",
      "max      58.17\n",
      "dtype: float64\n"
     ]
    }
   ],
   "source": [
    "total_ror_list = []\n",
    "\n",
    "for stock_name in sp_data_dict.keys():\n",
    "    sp_data = sp_data_dict[stock_name]\n",
    "    ror_list = calc_ror_in_forward(sp_data)\n",
    "    total_ror_list += ror_list\n",
    "    break\n",
    "\n",
    "print(pd.Series(total_ror_list).describe().round(2))\n",
    "\n",
    "# 평균이 2.42로 양수이지만 중위수가 -1.57이고 max가 비정상적으로 높기 때문에 평균적으로 음수인 결과가 많은것을 알 수 있음\n",
    "# 따라서 좋은 전략은 아님"
   ],
   "metadata": {
    "collapsed": false,
    "pycharm": {
     "name": "#%%\n"
    }
   }
  },
  {
   "cell_type": "code",
   "execution_count": 10,
   "outputs": [],
   "source": [
    "# 정배열이 시작될 때 매수하고 역배열이 시작될 때 매도하는 함수\n",
    "\n",
    "def calc_ror_in_for_rev(sp_data):\n",
    "    ror_list = []\n",
    "    buy_point_list = sp_data[\"정배열\"].values[1:] > sp_data[\"정배열\"].values[:-1]\n",
    "    buy_point_list = np.insert(buy_point_list, 0, False)\n",
    "    buy_point_list = sp_data.index[buy_point_list]\n",
    "\n",
    "    sell_point_list = sp_data[\"역배열\"].values[1:] > sp_data[\"역배열\"].values[:-1]\n",
    "    sell_point_list = np.insert(sell_point_list, 0, False)\n",
    "    sell_point_list = sp_data.index[sell_point_list]\n",
    "\n",
    "    for buy_point in buy_point_list:\n",
    "        if (sum(buy_point<sell_point_list) > 0) and (buy_point+1<=sp_data.index[-1]):\n",
    "            buy_price = sp_data.loc[buy_point + 1, \"Close\"]\n",
    "            sell_point = sell_point_list[sell_point_list > buy_point][0] + 1\n",
    "            if sell_point <= sp_data.index[-1]:\n",
    "                sell_price = sp_data.loc[sell_point, \"Close\"]\n",
    "\n",
    "                ror = (sell_price - buy_price) / buy_price * 100\n",
    "                ror_list.append(ror)\n",
    "        else:\n",
    "            break\n",
    "\n",
    "    return ror_list"
   ],
   "metadata": {
    "collapsed": false,
    "pycharm": {
     "name": "#%%\n"
    }
   }
  },
  {
   "cell_type": "code",
   "execution_count": 11,
   "outputs": [
    {
     "name": "stdout",
     "output_type": "stream",
     "text": [
      "count    52122.00\n",
      "mean         4.28\n",
      "std         57.55\n",
      "min        -95.39\n",
      "25%        -17.62\n",
      "50%         -8.35\n",
      "75%          6.34\n",
      "max       2537.21\n",
      "dtype: float64\n"
     ]
    }
   ],
   "source": [
    "total_ror_list = []\n",
    "\n",
    "for stock_name in sp_data_dict.keys():\n",
    "    sp_data = sp_data_dict[stock_name]\n",
    "    ror_list = calc_ror_in_for_rev(sp_data)\n",
    "    total_ror_list += ror_list\n",
    "\n",
    "print(pd.Series(total_ror_list).describe().round(2))\n",
    "\n",
    "# 평균은 더 높아졌으나 중위수도 더 낮아짐. 정배열 시작 - 정배열 종료 전략에 비해서 수익과 손실 모두 클 수 있음을 의미"
   ],
   "metadata": {
    "collapsed": false,
    "pycharm": {
     "name": "#%%\n"
    }
   }
  },
  {
   "cell_type": "markdown",
   "source": [
    "## 정배열과 역배열을 사용한 전략은 알려진 바와 다르게 수익률이 좋지 못했음\n",
    "## 코드상으로는 전체 종목을 대상으로 했지만 코스닥, 코스피, 우량주의 경우 모두 동일하게 좋지 못한 결과를 보임"
   ],
   "metadata": {
    "collapsed": false,
    "pycharm": {
     "name": "#%% md\n"
    }
   }
  }
 ],
 "metadata": {
  "kernelspec": {
   "display_name": "Python 3",
   "language": "python",
   "name": "python3"
  },
  "language_info": {
   "codemirror_mode": {
    "name": "ipython",
    "version": 2
   },
   "file_extension": ".py",
   "mimetype": "text/x-python",
   "name": "python",
   "nbconvert_exporter": "python",
   "pygments_lexer": "ipython2",
   "version": "2.7.6"
  }
 },
 "nbformat": 4,
 "nbformat_minor": 0
}