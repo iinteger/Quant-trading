{
 "cells": [
  {
   "cell_type": "code",
   "execution_count": null,
   "metadata": {
    "collapsed": true
   },
   "outputs": [],
   "source": [
    "import FinanceDataReader as fdr\n",
    "import time\n",
    "from tqdm import tqdm"
   ]
  },
  {
   "cell_type": "code",
   "execution_count": null,
   "outputs": [],
   "source": [
    "stock_list = fdr.StockListing(\"KRX\")\n",
    "stock_list = stock_list.loc[stock_list[\"Market\"] != \"KONEX\"]  # 코넥스 종목 제거\n",
    "stock_list = stock_list.loc[stock_list[\"Region\"].notnull()]  # 우선주, 선물 등의 종목에는 지역 컬럼이 없으므로 지역으로 필터링하여 삭제\n",
    "stock_list.to_csv(\"data/종목정보.txt\", sep=\"\\t\", index=False, encoding=\"euc-kr\")"
   ],
   "metadata": {
    "collapsed": false,
    "pycharm": {
     "name": "#%%\n"
    }
   }
  },
  {
   "cell_type": "code",
   "execution_count": null,
   "outputs": [],
   "source": [
    "# 2011년 1월 1일부터 2021년9 9월 30일까지의 주가 데이터 저장\n",
    "for code, name in tqdm(stock_list[[\"Symbol\", \"Name\"]].values):\n",
    "    print(code, name)\n",
    "\n",
    "    while True:\n",
    "        try:\n",
    "            data = fdr.DataReader(code, \"2011-01-01\", \"2021-09-30\")\n",
    "            if len(data) > 300:  # 데이터가 너무 적으면 전략 검증에 부적합하므로 어느정도 기간이 찬 데이터만 저장\n",
    "                data.to_csv(\"data/주가데이터/{}.csv\".format(name))\n",
    "            time.sleep(1)\n",
    "            break\n",
    "\n",
    "        except:\n",
    "            time.sleep(10 * 60)"
   ],
   "metadata": {
    "collapsed": false,
    "pycharm": {
     "name": "#%%\n"
    }
   }
  },
  {
   "cell_type": "code",
   "execution_count": null,
   "outputs": [],
   "source": [],
   "metadata": {
    "collapsed": false,
    "pycharm": {
     "name": "#%%\n"
    }
   }
  },
  {
   "cell_type": "code",
   "execution_count": null,
   "outputs": [],
   "source": [],
   "metadata": {
    "collapsed": false,
    "pycharm": {
     "name": "#%%\n"
    }
   }
  }
 ],
 "metadata": {
  "kernelspec": {
   "display_name": "Python 3",
   "language": "python",
   "name": "python3"
  },
  "language_info": {
   "codemirror_mode": {
    "name": "ipython",
    "version": 2
   },
   "file_extension": ".py",
   "mimetype": "text/x-python",
   "name": "python",
   "nbconvert_exporter": "python",
   "pygments_lexer": "ipython2",
   "version": "2.7.6"
  }
 },
 "nbformat": 4,
 "nbformat_minor": 0
}