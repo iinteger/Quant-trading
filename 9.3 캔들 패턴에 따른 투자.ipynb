{
 "cells": [
  {
   "cell_type": "markdown",
   "metadata": {
    "collapsed": true,
    "pycharm": {
     "name": "#%% md\n"
    }
   },
   "source": [
    "## 캔들 패턴에 따른 투자\n",
    "* 캔들 패턴을 바탕으로 매수와 매도 세력중 어느 세력이 강한지 판단하여 투자\n",
    "* 상승장악형, 하락장악형, 적삼병, 흑삼병, 샛별형 다섯가지 캔들 패턴 구현"
   ]
  },
  {
   "cell_type": "code",
   "execution_count": 4,
   "outputs": [
    {
     "name": "stderr",
     "output_type": "stream",
     "text": [
      "100%|██████████| 2170/2170 [00:18<00:00, 116.36it/s]\n"
     ]
    }
   ],
   "source": [
    "import os\n",
    "import pandas as pd\n",
    "from tqdm import tqdm\n",
    "\n",
    "sp_data_dict = dict()\n",
    "for file_name in tqdm(os.listdir(\"data/주가데이터\")):\n",
    "    sp_data = pd.read_csv(\"data/주가데이터/\" + file_name, parse_dates = ['Date'])\n",
    "    stock_name = file_name.replace('.csv', '')\n",
    "    sp_data_dict[stock_name] = sp_data"
   ],
   "metadata": {
    "collapsed": false,
    "pycharm": {
     "name": "#%%\n"
    }
   }
  },
  {
   "cell_type": "code",
   "execution_count": 5,
   "outputs": [],
   "source": [
    "import seaborn as sns\n",
    "from matplotlib import pyplot as plt\n",
    "from matplotlib import rcParams\n",
    "sns.set()\n",
    "%matplotlib inline\n",
    "rcParams['font.family'] = 'Malgun Gothic'\n",
    "rcParams['axes.unicode_minus'] = False"
   ],
   "metadata": {
    "collapsed": false,
    "pycharm": {
     "name": "#%%\n"
    }
   }
  },
  {
   "cell_type": "code",
   "execution_count": 6,
   "outputs": [],
   "source": [
    "import warnings\n",
    "warnings.filterwarnings(\"ignore\")"
   ],
   "metadata": {
    "collapsed": false,
    "pycharm": {
     "name": "#%%\n"
    }
   }
  },
  {
   "cell_type": "markdown",
   "source": [
    "### 상승장악형\n",
    "* 음봉 다음에 음봉을 완전히 감싸는 양봉이 나오는 패턴\n",
    "* 대표적인 매수 신호 패턴\n",
    "* 전일에 음봉 생성 : 전일 시가 > 전일 종가\n",
    "* 당일에 양봉 생성 : 당일 시가 < 당일 종가\n",
    "* 전일 음봉이 당일 양봉에 포함 : 전일 저가 > 당일 시가 & 전일 고가 < 당일 종가\n",
    "![상승장악형](images/상승장악형.jpg)"
   ],
   "metadata": {
    "collapsed": false,
    "pycharm": {
     "name": "#%% md\n"
    }
   }
  },
  {
   "cell_type": "code",
   "execution_count": 7,
   "outputs": [],
   "source": [
    "# 현대차를 예시로\n",
    "\n",
    "sample_data = sp_data_dict[\"현대차\"]"
   ],
   "metadata": {
    "collapsed": false,
    "pycharm": {
     "name": "#%%\n"
    }
   }
  },
  {
   "cell_type": "code",
   "execution_count": 9,
   "outputs": [],
   "source": [
    "import numpy as np\n",
    "from tqdm import tqdm\n",
    "\n",
    "cond_1 = (sample_data['Open'] > sample_data['Close']).values[:-1]\n",
    "cond_2 = (sample_data['Open'] < sample_data['Close']).values[1:]\n",
    "cond_3 = (sample_data['Low'].values[:-1] > sample_data['Open'].values[1:])\n",
    "cond_4 = (sample_data['High'].values[:-1] < sample_data['Close'].values[1:])\n",
    "\n",
    "cond = cond_1 & cond_2 & cond_3 & cond_4\n",
    "cond = np.insert(cond, 0, False)\n",
    "sample_data[\"상승장악형\"] = cond"
   ],
   "metadata": {
    "collapsed": false,
    "pycharm": {
     "name": "#%%\n"
    }
   }
  },
  {
   "cell_type": "code",
   "execution_count": 10,
   "outputs": [
    {
     "name": "stderr",
     "output_type": "stream",
     "text": [
      "100%|██████████| 2170/2170 [00:01<00:00, 1759.57it/s]\n"
     ]
    }
   ],
   "source": [
    "for stock_name in tqdm(sp_data_dict.keys()):\n",
    "    sp_data = sp_data_dict[stock_name]\n",
    "    cond_1 = (sp_data['Open'] > sp_data['Close']).values[:-1]\n",
    "    cond_2 = (sp_data['Open'] < sp_data['Close']).values[1:]\n",
    "    cond_3 = (sp_data['Low'].values[:-1] > sp_data['Open'].values[1:])\n",
    "    cond_4 = (sp_data['High'].values[:-1] < sp_data['Close'].values[1:])\n",
    "\n",
    "    cond = cond_1 & cond_2 & cond_3 & cond_4\n",
    "    cond = np.insert(cond, 0, False)\n",
    "    sp_data[\"상승장악형\"] = cond"
   ],
   "metadata": {
    "collapsed": false,
    "pycharm": {
     "name": "#%%\n"
    }
   }
  },
  {
   "cell_type": "code",
   "execution_count": 11,
   "outputs": [],
   "source": [
    "# 기대수익계산\n",
    "# 상승장악형 패턴이 발생하고 n 영업일 이후의 수익률과 발생하지 않았을 때의 n 영업일 이후의 수익률 비교\n",
    "\n",
    "def calc_ror_after_patt(sp_data, patt_col, n):\n",
    "    patt_idx_list = sp_data.loc[sp_data[patt_col]].index\n",
    "    no_patt_idx_list = sp_data.index.difference(patt_idx_list)\n",
    "    max_idx = max(sp_data.index)\n",
    "\n",
    "    patt_bidx_list = patt_idx_list[patt_idx_list + n < max_idx] + 1\n",
    "    patt_sidx_list = patt_bidx_list + n\n",
    "    no_patt_bidx_list = no_patt_idx_list[no_patt_idx_list + n < max_idx] + 1\n",
    "    no_patt_sidx_list = no_patt_bidx_list + n\n",
    "\n",
    "    # 패턴 발생 후 수익률 계산\n",
    "    patt_bp_list = sp_data.loc[patt_bidx_list, 'Close'].values\n",
    "    patt_sp_list = sp_data.loc[patt_sidx_list, 'Close'].values\n",
    "    patt_ror_list = (patt_sp_list - patt_bp_list) / patt_bp_list * 100\n",
    "\n",
    "    # 패턴 미 발생 후 수익률 계산\n",
    "    no_patt_bp_list = sp_data.loc[no_patt_bidx_list, 'Close'].values\n",
    "    no_patt_sp_list = sp_data.loc[no_patt_sidx_list, 'Close'].values\n",
    "    no_patt_ror_list = (no_patt_sp_list - no_patt_bp_list) / no_patt_bp_list * 100\n",
    "\n",
    "    return patt_ror_list.tolist(), no_patt_ror_list.tolist()"
   ],
   "metadata": {
    "collapsed": false,
    "pycharm": {
     "name": "#%%\n"
    }
   }
  },
  {
   "cell_type": "code",
   "execution_count": 12,
   "outputs": [
    {
     "name": "stderr",
     "output_type": "stream",
     "text": [
      "100%|██████████| 4/4 [00:20<00:00,  5.10s/it]\n"
     ]
    }
   ],
   "source": [
    "result_dict = dict()\n",
    "\n",
    "# 5, 20, 60, 120일 이후의 수익률\n",
    "for n in tqdm([5, 20, 60, 120]):\n",
    "    total_patt_ror_list = []\n",
    "    total_no_patt_ror_list = []\n",
    "    for stock_name in sp_data_dict.keys():\n",
    "        sp_data = sp_data_dict[stock_name]\n",
    "        patt_ror_list, no_patt_ror_list = calc_ror_after_patt(sp_data, \"상승장악형\", n)\n",
    "        total_patt_ror_list += patt_ror_list\n",
    "        total_no_patt_ror_list += no_patt_ror_list\n",
    "    result_dict[n] = total_patt_ror_list, total_no_patt_ror_list"
   ],
   "metadata": {
    "collapsed": false,
    "pycharm": {
     "name": "#%%\n"
    }
   }
  },
  {
   "cell_type": "code",
   "execution_count": 13,
   "outputs": [
    {
     "data": {
      "text/plain": "<Figure size 432x288 with 1 Axes>",
      "image/png": "[encoded data removed]"
     },
     "metadata": {
      "needs_background": "light"
     },
     "output_type": "display_data"
    }
   ],
   "source": [
    "# 5 영업일 보유 시 수익 비교\n",
    "\n",
    "plt.title(\"상승장악형 - 5영업일 이후\")\n",
    "plt.boxplot(result_dict[5])\n",
    "plt.xticks([1, 2], [\"패턴발생\", \"패턴미발생\"])\n",
    "plt.ylim(-100, 100)\n",
    "plt.show()\n",
    "\n",
    "# 패턴이 발생한 경우 아랫쪽 꼬리가 짧긴 하지만, 유의미하진 않음\n",
    "# 다른 일수도 마찬가지"
   ],
   "metadata": {
    "collapsed": false,
    "pycharm": {
     "name": "#%%\n"
    }
   }
  },
  {
   "cell_type": "markdown",
   "source": [
    "### 하락장악형\n",
    "* 양봉 다음에 양봉을 완전히 감싸는 음봉이 나오는 패턴\n",
    "* 대표적인 매도 신호 패턴\n",
    "* 전일에 양봉 생성 : 전일 시가 < 전일 종가\n",
    "* 당일에 음봉 생성 : 당일 시가 > 당일 종가\n",
    "* 전일 양봉이 당일 음봉에 포함 : 전일 고가 < 당일 시가 & 전일 저가 > 당일 종가\n",
    "![하락장악형](images/하락장악형.jpg)"
   ],
   "metadata": {
    "collapsed": false,
    "pycharm": {
     "name": "#%% md\n"
    }
   }
  },
  {
   "cell_type": "code",
   "execution_count": 15,
   "outputs": [],
   "source": [
    "for stock_name in sp_data_dict.keys():\n",
    "    sp_data = sp_data_dict[stock_name]\n",
    "    cond_1 = (sp_data['Open'] < sp_data['Close']).values[:-1]\n",
    "    cond_2 = (sp_data['Open'] > sp_data['Close']).values[1:]\n",
    "    cond_3 = (sp_data['High'].values[:-1] < sp_data['Open'].values[1:])\n",
    "    cond_4 = (sp_data['Low'].values[:-1] > sp_data['Close'].values[1:])\n",
    "\n",
    "    cond = cond_1 & cond_2 & cond_3 & cond_4\n",
    "    cond = np.insert(cond, 0, False)\n",
    "    sp_data[\"하락장악형\"] = cond"
   ],
   "metadata": {
    "collapsed": false,
    "pycharm": {
     "name": "#%%\n"
    }
   }
  },
  {
   "cell_type": "code",
   "execution_count": 16,
   "outputs": [],
   "source": [
    "result_dict = dict()\n",
    "\n",
    "for n in [5, 20, 60, 120]:\n",
    "    total_patt_ror_list = []\n",
    "    total_no_patt_ror_list = []\n",
    "    for stock_name in sp_data_dict.keys():\n",
    "        sp_data = sp_data_dict[stock_name]\n",
    "        patt_ror_list, no_patt_ror_list = calc_ror_after_patt(sp_data, \"하락장악형\", n)\n",
    "        total_patt_ror_list += patt_ror_list\n",
    "        total_no_patt_ror_list += no_patt_ror_list\n",
    "    result_dict[n] = total_patt_ror_list, total_no_patt_ror_list"
   ],
   "metadata": {
    "collapsed": false,
    "pycharm": {
     "name": "#%%\n"
    }
   }
  },
  {
   "cell_type": "code",
   "execution_count": 18,
   "outputs": [
    {
     "name": "stdout",
     "output_type": "stream",
     "text": [
      "           패턴발생       패턴미발생\n",
      "count  20086.00  4743382.00\n",
      "mean       0.43        0.35\n",
      "std        8.61        7.97\n",
      "min      -62.50      -93.39\n",
      "25%       -3.28       -3.21\n",
      "50%        0.00        0.00\n",
      "75%        3.39        3.05\n",
      "max      151.49      900.11\n"
     ]
    }
   ],
   "source": [
    "total_patt_ror_list, total_no_patt_ror_list = result_dict[5]\n",
    "result = pd.concat([pd.Series(total_patt_ror_list).describe(),\n",
    "                   pd.Series(total_no_patt_ror_list).describe()],\n",
    "                   axis = 1)\n",
    "\n",
    "result.columns = ['패턴발생', '패턴미발생']\n",
    "print(result.round(2))\n",
    "\n",
    "# 예상과 반대로 패턴이 발생했을 때의 수익률이 더 높음\n",
    "# 나머지 일자에서도 마찬가지로 수익률이 마이너스가 아니며, 바로 매도하지 않고 가지고 있으면 어느정도 수익률이 나오는것을 알 수 있음"
   ],
   "metadata": {
    "collapsed": false,
    "pycharm": {
     "name": "#%%\n"
    }
   }
  },
  {
   "cell_type": "markdown",
   "source": [
    "### 적삼병\n",
    "* 3일 연속으로 양봉이 나오며 종가가 오르는 현상으로 매수 신호 패턴\n",
    "* 전전일 종가 < 전일 종가 < 당일 종가\n",
    "* 전전일 시가 < 전전일 종가\n",
    "* 전일 시가 < 전일 종가\n",
    "* 당일 시가 < 당일 종가\n",
    "![적삼병](images/적삼병.jpg)"
   ],
   "metadata": {
    "collapsed": false,
    "pycharm": {
     "name": "#%% md\n"
    }
   }
  },
  {
   "cell_type": "code",
   "execution_count": 21,
   "outputs": [],
   "source": [
    "for stock_name in sp_data_dict.keys():\n",
    "    sp_data = sp_data_dict[stock_name]\n",
    "    cur_price = sp_data[\"Close\"].values[2:]\n",
    "    pre_price = sp_data[\"Close\"].values[1:-1]\n",
    "    sec_pre_price = sp_data[\"Close\"].values[:-2]\n",
    "\n",
    "    cond_1 = (cur_price > pre_price) & (pre_price > sec_pre_price)\n",
    "    cond_2 = (sp_data['Open'] < sp_data['Close']).values[:-2]\n",
    "    cond_3 = (sp_data['Open'] < sp_data['Close']).values[1:-1]\n",
    "    cond_4 = (sp_data['Open'] < sp_data['Close']).values[2:]\n",
    "\n",
    "    cond = cond_1 & cond_2 & cond_3 & cond_4\n",
    "    cond = np.insert(cond, [0, 0], False)\n",
    "    sp_data[\"적삼병\"] = cond"
   ],
   "metadata": {
    "collapsed": false,
    "pycharm": {
     "name": "#%%\n"
    }
   }
  },
  {
   "cell_type": "code",
   "execution_count": 22,
   "outputs": [],
   "source": [
    "result_dict = dict()\n",
    "\n",
    "for n in [5, 20, 60, 120]:\n",
    "    total_patt_ror_list = []\n",
    "    total_no_patt_ror_list = []\n",
    "    for stock_name in sp_data_dict.keys():\n",
    "        sp_data = sp_data_dict[stock_name]\n",
    "        patt_ror_list, no_patt_ror_list = calc_ror_after_patt(sp_data, \"적삼병\", n)\n",
    "        total_patt_ror_list += patt_ror_list\n",
    "        total_no_patt_ror_list += no_patt_ror_list\n",
    "    result_dict[n] = total_patt_ror_list, total_no_patt_ror_list"
   ],
   "metadata": {
    "collapsed": false,
    "pycharm": {
     "name": "#%%\n"
    }
   }
  },
  {
   "cell_type": "code",
   "source": [
    "total_patt_ror_list, total_no_patt_ror_list = result_dict[5]\n",
    "result = pd.concat([pd.Series(total_patt_ror_list).describe(),\n",
    "                   pd.Series(total_no_patt_ror_list).describe()],\n",
    "                   axis = 1)\n",
    "\n",
    "result.columns = ['패턴발생', '패턴미발생']\n",
    "print(result.round(2))\n",
    "\n",
    "# 패턴이 발생했을때의 평균이 아주 살짝 높음. 또한 패턴이 발생했을때 중위수가 마이너스임. 패턴이 발생하더라도 손실이 나는 경우가 과반수인것\n",
    "# 나머지 일자도 마찬가지의 결과가 나타났으며, 패턴이 발생했을때 평균이 조금 더 높지만 중위수가 마이너스로, 과반의 주가가 하락하였음"
   ],
   "metadata": {
    "collapsed": false,
    "pycharm": {
     "name": "#%%\n"
    }
   },
   "execution_count": 25,
   "outputs": [
    {
     "name": "stdout",
     "output_type": "stream",
     "text": [
      "            패턴발생       패턴미발생\n",
      "count  275344.00  4488124.00\n",
      "mean        0.41        0.35\n",
      "std         8.58        7.94\n",
      "min       -62.50      -93.39\n",
      "25%        -3.50       -3.19\n",
      "50%        -0.31        0.00\n",
      "75%         3.20        3.04\n",
      "max       197.54      900.11\n"
     ]
    }
   ]
  },
  {
   "cell_type": "markdown",
   "source": [
    "### 흑삼병\n",
    "* 3일 연속으로 음봉이 나오며 종가가 떨어지는 현상으로 매도 신호 패턴\n",
    "* 전전일 종가 > 전일 종가 > 당일 종가\n",
    "* 전전일 시가 > 전전일 종가\n",
    "* 전일 시가 > 전일 종가\n",
    "* 당일 시가 > 당일 종가\n",
    "![흑삼병](images/흑삼병.jpg)"
   ],
   "metadata": {
    "collapsed": false,
    "pycharm": {
     "name": "#%% md\n"
    }
   }
  },
  {
   "cell_type": "code",
   "execution_count": 27,
   "outputs": [],
   "source": [
    "for stock_name in sp_data_dict.keys():\n",
    "    sp_data = sp_data_dict[stock_name]\n",
    "    cur_price = sp_data[\"Close\"].values[2:]\n",
    "    pre_price = sp_data[\"Close\"].values[1:-1]\n",
    "    sec_pre_price = sp_data[\"Close\"].values[:-2]\n",
    "\n",
    "    cond_1 = (cur_price < pre_price) & (pre_price < sec_pre_price)\n",
    "    cond_2 = (sp_data['Open'] > sp_data['Close']).values[:-2]\n",
    "    cond_3 = (sp_data['Open'] > sp_data['Close']).values[1:-1]\n",
    "    cond_4 = (sp_data['Open'] > sp_data['Close']).values[2:]\n",
    "\n",
    "    cond = cond_1 & cond_2 & cond_3 & cond_4\n",
    "    cond = np.insert(cond, [0, 0], False)\n",
    "    sp_data[\"흑삼병\"] = cond"
   ],
   "metadata": {
    "collapsed": false,
    "pycharm": {
     "name": "#%%\n"
    }
   }
  },
  {
   "cell_type": "code",
   "execution_count": 28,
   "outputs": [],
   "source": [
    "result_dict = dict()\n",
    "\n",
    "for n in [5, 20, 60, 120]:\n",
    "    total_patt_ror_list = []\n",
    "    total_no_patt_ror_list = []\n",
    "    for stock_name in sp_data_dict.keys():\n",
    "        sp_data = sp_data_dict[stock_name]\n",
    "        patt_ror_list, no_patt_ror_list = calc_ror_after_patt(sp_data, \"흑삼병\", n)\n",
    "        total_patt_ror_list += patt_ror_list\n",
    "        total_no_patt_ror_list += no_patt_ror_list\n",
    "    result_dict[n] = total_patt_ror_list, total_no_patt_ror_list"
   ],
   "metadata": {
    "collapsed": false,
    "pycharm": {
     "name": "#%%\n"
    }
   }
  },
  {
   "cell_type": "code",
   "execution_count": 30,
   "outputs": [
    {
     "name": "stdout",
     "output_type": "stream",
     "text": [
      "            패턴발생       패턴미발생\n",
      "count  395999.00  4367469.00\n",
      "mean        0.37        0.35\n",
      "std         7.89        7.98\n",
      "min       -69.01      -93.39\n",
      "25%        -3.33       -3.20\n",
      "50%         0.00        0.00\n",
      "75%         3.44        3.01\n",
      "max       220.00      900.11\n"
     ]
    }
   ],
   "source": [
    "total_patt_ror_list, total_no_patt_ror_list = result_dict[5]\n",
    "result = pd.concat([pd.Series(total_patt_ror_list).describe(),\n",
    "                   pd.Series(total_no_patt_ror_list).describe()],\n",
    "                   axis = 1)\n",
    "result.columns = ['패턴발생', '패턴미발생']\n",
    "\n",
    "print(result.round(2))\n",
    "\n",
    "# 예상과 다르게 패턴이 발생한 경우가 약간 더 높은 평균 수익이 발생함\n",
    "# 또한 패턴 발생 여부와 관계없이 과반이 손실을 보고, 반대로 큰 수익이 날 때도 있으므로 패턴이 발생하고 바로 매도하는것은 좋지 않음"
   ],
   "metadata": {
    "collapsed": false,
    "pycharm": {
     "name": "#%%\n"
    }
   }
  },
  {
   "cell_type": "markdown",
   "source": [
    "### 샛별형\n",
    "* 전전날 긴 음봉이 나타나고 짧은 양봉, 그리고 긴 양봉이 순서대로 나타나는 상승 반전 패턴\n",
    "* 전전일 종가 << 전전일 시가 (<< : 10% 이상 차이, < : 1% 미만 차이)\n",
    "* 전일 종가 > 전일 시가\n",
    "* 당일 종가 >> 당일 시가\n",
    "![샛별형](images/샛별형.jpg)"
   ],
   "metadata": {
    "collapsed": false,
    "pycharm": {
     "name": "#%% md\n"
    }
   }
  },
  {
   "cell_type": "code",
   "execution_count": 31,
   "outputs": [],
   "source": [
    "for stock_name in sp_data_dict.keys():\n",
    "    sp_data = sp_data_dict[stock_name]\n",
    "    cond_1 = sp_data[\"Close\"].values[:-2] <= sp_data[\"Open\"].values[:-2] * 1.1\n",
    "    cond_2 = sp_data[\"Close\"].values[1:-1] > sp_data[\"Open\"].values[1:-1]\n",
    "    cond_3 = sp_data[\"Close\"].values[1:-1] < sp_data[\"Open\"].values[1:-1] * 1.01\n",
    "    cond_4 = sp_data[\"Close\"].values[2:] >= sp_data[\"Open\"].values[2:] * 1.1\n",
    "\n",
    "    cond = cond_1 & cond_2 & cond_3 & cond_4\n",
    "    cond = np.insert(cond, [0, 0], False)\n",
    "    sp_data[\"샛별형\"] = cond"
   ],
   "metadata": {
    "collapsed": false,
    "pycharm": {
     "name": "#%%\n"
    }
   }
  },
  {
   "cell_type": "code",
   "execution_count": 32,
   "outputs": [],
   "source": [
    "result_dict = dict()\n",
    "\n",
    "for n in [5, 20, 60, 120]:\n",
    "    total_patt_ror_list = []\n",
    "    total_no_patt_ror_list = []\n",
    "    for stock_name in sp_data_dict.keys():\n",
    "        sp_data = sp_data_dict[stock_name]\n",
    "        patt_ror_list, no_patt_ror_list = calc_ror_after_patt(sp_data, \"샛별형\", n)\n",
    "        total_patt_ror_list += patt_ror_list\n",
    "        total_no_patt_ror_list += no_patt_ror_list\n",
    "    result_dict[n] = total_patt_ror_list, total_no_patt_ror_list"
   ],
   "metadata": {
    "collapsed": false,
    "pycharm": {
     "name": "#%%\n"
    }
   }
  },
  {
   "cell_type": "code",
   "execution_count": 34,
   "outputs": [
    {
     "name": "stdout",
     "output_type": "stream",
     "text": [
      "          패턴발생       패턴미발생\n",
      "count  4726.00  4758742.00\n",
      "mean      0.49        0.35\n",
      "std      13.81        7.97\n",
      "min     -61.58      -93.39\n",
      "25%      -6.48       -3.21\n",
      "50%      -0.96        0.00\n",
      "75%       4.27        3.05\n",
      "max     185.19      900.11\n"
     ]
    }
   ],
   "source": [
    "total_patt_ror_list, total_no_patt_ror_list = result_dict[5]\n",
    "result = pd.concat([pd.Series(total_patt_ror_list).describe(),\n",
    "                   pd.Series(total_no_patt_ror_list).describe()],\n",
    "                   axis = 1)\n",
    "\n",
    "result.columns = ['패턴발생', '패턴미발생']\n",
    "print(result.round(2))\n",
    "\n",
    "# 패턴이 발생했을 때 평균이 더 높으나, 중위수는 더 낮음. 이는 과반은 큰 손해를 보고, 나머지가 큰 이익을 본다는 의미"
   ],
   "metadata": {
    "collapsed": false,
    "pycharm": {
     "name": "#%%\n"
    }
   }
  }
 ],
 "metadata": {
  "kernelspec": {
   "display_name": "Python 3",
   "language": "python",
   "name": "python3"
  },
  "language_info": {
   "codemirror_mode": {
    "name": "ipython",
    "version": 2
   },
   "file_extension": ".py",
   "mimetype": "text/x-python",
   "name": "python",
   "nbconvert_exporter": "python",
   "pygments_lexer": "ipython2",
   "version": "2.7.6"
  }
 },
 "nbformat": 4,
 "nbformat_minor": 0
}