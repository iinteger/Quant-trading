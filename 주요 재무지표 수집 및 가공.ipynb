{
 "cells": [
  {
   "cell_type": "code",
   "execution_count": 18,
   "metadata": {
    "collapsed": true
   },
   "outputs": [],
   "source": [
    "import OpenDartReader\n",
    "import pandas as pd\n",
    "import numpy as np\n",
    "import time\n",
    "from tqdm import tqdm"
   ]
  },
  {
   "cell_type": "code",
   "execution_count": 12,
   "outputs": [],
   "source": [
    "my_api = open(\"dart_api.txt\").read()[1:]\n",
    "dart = OpenDartReader(my_api)"
   ],
   "metadata": {
    "collapsed": false,
    "pycharm": {
     "name": "#%%\n"
    }
   }
  },
  {
   "cell_type": "code",
   "execution_count": 13,
   "outputs": [],
   "source": [
    "# Symbol 컬럼을 숫자로 인식하면 00123이 123으로 변환될 가능성이 있으므로 자료형을 str로 설정\n",
    "\n",
    "stock_list = pd.read_csv(\n",
    "    \"data/종목정보.txt\",\n",
    "    encoding=\"euc-kr\",\n",
    "    sep=\"\\t\",\n",
    "    usecols=[\"Name\", \"Symbol\"],\n",
    "    dtype=str\n",
    ")"
   ],
   "metadata": {
    "collapsed": false,
    "pycharm": {
     "name": "#%%\n"
    }
   }
  },
  {
   "cell_type": "code",
   "execution_count": 14,
   "outputs": [],
   "source": [
    "report = dart.finstate(\"005380\", 2020)\n",
    "\n",
    "# fs_nm 컬럼이 연결재무제표인 행이 있으면 이 행을 필터링. 없으면 재무제표인 행을 사용. 연결재무제표를 발표하는 기업은 연결재무제표 행이 있음\n",
    "# account_nm 컬럼에서 자산총계, 부채총계, 자본총계, 매출액, 영업이익, 당기순이익인 행을 필터링해서 thstrm_amount, frmtrm_amount, bfefrmtrm_amount 컬럼의 값을 가져옴"
   ],
   "metadata": {
    "collapsed": false,
    "pycharm": {
     "name": "#%%\n"
    }
   }
  },
  {
   "cell_type": "code",
   "execution_count": 15,
   "outputs": [],
   "source": [
    "# 데이터 파싱\n",
    "\n",
    "def find_fins_ind_list(stock_code, stock_name, year, ind_list):\n",
    "    try:\n",
    "        report = None\n",
    "        report = dart.finstate(stock_code, year)\n",
    "    except:\n",
    "        pass\n",
    "\n",
    "    if report is None:\n",
    "        # 리포트가 없으면 당기, 전기, 전전기 값 모두 제거\n",
    "        data =[[stock_name, year] + [np.nan] * len(ind_list)]\n",
    "        data.append([stock_name, year - 1] + [np.nan] * len(ind_list))\n",
    "        data.append([stock_name, year - 1] + [np.nan] * len(ind_list))\n",
    "\n",
    "    else:\n",
    "        report = report[report[\"account_nm\"].isin(ind_list)]  # account_nm으로 필터링\n",
    "\n",
    "        # 연결재무제표가 있으면 그대로 쓰고 없으면 재무제표 사용\n",
    "        if sum(report[\"fs_nm\"] == \"연결재무제표\") > 0:\n",
    "            report = report.loc[report[\"fs_nm\"] == \"연결재무제표\"]\n",
    "        else:\n",
    "            report = report.loc[report[\"fs_nm\"] == \"재무제표\"]\n",
    "\n",
    "        data = []\n",
    "        for y, c in zip([year, year-1, year-2], [\"thstrm_amount\", \"frmtrm_amount\", \"bfefrmtrm_amount\"]):\n",
    "            record = [stock_name, y]\n",
    "            for ind in ind_list:\n",
    "                if sum(report[\"account_nm\"] == ind) > 0:\n",
    "                    value = report.loc[report[\"account_nm\"] == ind, c].iloc[0]\n",
    "                else:\n",
    "                    value = np.nan\n",
    "                record.append(value)\n",
    "            data.append(record)\n",
    "\n",
    "    return pd.DataFrame(data, columns=[\"기업\", \"연도\"]+ind_list)"
   ],
   "metadata": {
    "collapsed": false,
    "pycharm": {
     "name": "#%%\n"
    }
   }
  },
  {
   "cell_type": "markdown",
   "source": [],
   "metadata": {
    "collapsed": false
   }
  },
  {
   "cell_type": "code",
   "execution_count": 16,
   "outputs": [
    {
     "data": {
      "text/plain": "     기업    연도                 자산총계                 부채총계                 자본총계  \\\n0  삼성전자  2020  378,235,718,000,000  102,287,702,000,000  275,948,016,000,000   \n1  삼성전자  2019  352,564,497,000,000   89,684,076,000,000  262,880,421,000,000   \n2  삼성전자  2018  339,357,244,000,000   91,604,067,000,000  247,753,177,000,000   \n\n                   매출액                영업이익               당기순이익  \n0  236,806,988,000,000  35,993,876,000,000  26,407,832,000,000  \n1  230,400,881,000,000  27,768,509,000,000  21,738,865,000,000  \n2  243,771,415,000,000  58,886,669,000,000  44,344,857,000,000  ",
      "text/html": "<div>\n<style scoped>\n    .dataframe tbody tr th:only-of-type {\n        vertical-align: middle;\n    }\n\n    .dataframe tbody tr th {\n        vertical-align: top;\n    }\n\n    .dataframe thead th {\n        text-align: right;\n    }\n</style>\n<table border=\"1\" class=\"dataframe\">\n  <thead>\n    <tr style=\"text-align: right;\">\n      <th></th>\n      <th>기업</th>\n      <th>연도</th>\n      <th>자산총계</th>\n      <th>부채총계</th>\n      <th>자본총계</th>\n      <th>매출액</th>\n      <th>영업이익</th>\n      <th>당기순이익</th>\n    </tr>\n  </thead>\n  <tbody>\n    <tr>\n      <th>0</th>\n      <td>삼성전자</td>\n      <td>2020</td>\n      <td>378,235,718,000,000</td>\n      <td>102,287,702,000,000</td>\n      <td>275,948,016,000,000</td>\n      <td>236,806,988,000,000</td>\n      <td>35,993,876,000,000</td>\n      <td>26,407,832,000,000</td>\n    </tr>\n    <tr>\n      <th>1</th>\n      <td>삼성전자</td>\n      <td>2019</td>\n      <td>352,564,497,000,000</td>\n      <td>89,684,076,000,000</td>\n      <td>262,880,421,000,000</td>\n      <td>230,400,881,000,000</td>\n      <td>27,768,509,000,000</td>\n      <td>21,738,865,000,000</td>\n    </tr>\n    <tr>\n      <th>2</th>\n      <td>삼성전자</td>\n      <td>2018</td>\n      <td>339,357,244,000,000</td>\n      <td>91,604,067,000,000</td>\n      <td>247,753,177,000,000</td>\n      <td>243,771,415,000,000</td>\n      <td>58,886,669,000,000</td>\n      <td>44,344,857,000,000</td>\n    </tr>\n  </tbody>\n</table>\n</div>"
     },
     "execution_count": 16,
     "metadata": {},
     "output_type": "execute_result"
    }
   ],
   "source": [
    "ind_list = [\"자산총계\", \"부채총계\", \"자본총계\", \"매출액\", \"영업이익\", \"당기순이익\"]\n",
    "find_fins_ind_list(\"005930\", \"삼성전자\", 2020, ind_list)"
   ],
   "metadata": {
    "collapsed": false,
    "pycharm": {
     "name": "#%%\n"
    }
   }
  },
  {
   "cell_type": "code",
   "execution_count": 25,
   "outputs": [
    {
     "name": "stderr",
     "output_type": "stream",
     "text": [
      "100%|██████████| 2370/2370 [1:30:37<00:00,  2.29s/it]  \n"
     ]
    }
   ],
   "source": [
    "# 데이터 수집\n",
    "# 모든 기업과 연도에 대한 주요 재무지표 가져오기\n",
    "\n",
    "data = pd.DataFrame()\n",
    "\n",
    "for code, name in tqdm(stock_list[[\"Symbol\", \"Name\"]].values):\n",
    "    for year in [2015, 2018, 2020]:\n",
    "        result = find_fins_ind_list(code, name, year, ind_list)\n",
    "        data = pd.concat([data, result], axis=0, ignore_index=True)\n",
    "        time.sleep(0.1)"
   ],
   "metadata": {
    "collapsed": false,
    "pycharm": {
     "name": "#%%\n"
    }
   }
  },
  {
   "cell_type": "code",
   "execution_count": 26,
   "outputs": [],
   "source": [
    "# 데이터 정제\n",
    "# 세 년도에서 전전기, 전기, 당기 데이터를 가져왔으므로 2018년이 중복됨\n",
    "# 2018년 데이터를 드롭하고 기업, 연도 컬럼을 기준으로 정렬\n",
    "\n",
    "data.drop_duplicates(inplace=True)\n",
    "data.sort_values(by=[\"기업\", \"연도\"], inplace=True)"
   ],
   "metadata": {
    "collapsed": false,
    "pycharm": {
     "name": "#%%\n"
    }
   }
  },
  {
   "cell_type": "code",
   "execution_count": 27,
   "outputs": [
    {
     "data": {
      "text/plain": "   기업    연도            자산총계            부채총계            자본총계             매출액  \\\n2  3S  2013  67,660,583,293  19,883,875,822  47,776,707,471  32,236,446,153   \n1  3S  2014  71,312,012,159  28,319,186,484  42,992,825,675  28,862,985,297   \n0  3S  2015  67,359,971,696  29,420,163,240  37,939,808,456  23,210,541,648   \n5  3S  2016  57,746,389,196  23,142,629,825  34,603,759,371  23,742,421,655   \n4  3S  2017  53,706,903,697  24,527,236,916  29,179,666,781  26,486,287,918   \n\n             영업이익           당기순이익  \n2   1,859,291,010     701,146,938  \n1  -2,540,739,501  -4,760,633,476  \n0  -4,157,989,321  -5,599,032,927  \n5   1,176,535,923  -3,403,437,816  \n4  -2,421,224,869  -8,803,810,083  ",
      "text/html": "<div>\n<style scoped>\n    .dataframe tbody tr th:only-of-type {\n        vertical-align: middle;\n    }\n\n    .dataframe tbody tr th {\n        vertical-align: top;\n    }\n\n    .dataframe thead th {\n        text-align: right;\n    }\n</style>\n<table border=\"1\" class=\"dataframe\">\n  <thead>\n    <tr style=\"text-align: right;\">\n      <th></th>\n      <th>기업</th>\n      <th>연도</th>\n      <th>자산총계</th>\n      <th>부채총계</th>\n      <th>자본총계</th>\n      <th>매출액</th>\n      <th>영업이익</th>\n      <th>당기순이익</th>\n    </tr>\n  </thead>\n  <tbody>\n    <tr>\n      <th>2</th>\n      <td>3S</td>\n      <td>2013</td>\n      <td>67,660,583,293</td>\n      <td>19,883,875,822</td>\n      <td>47,776,707,471</td>\n      <td>32,236,446,153</td>\n      <td>1,859,291,010</td>\n      <td>701,146,938</td>\n    </tr>\n    <tr>\n      <th>1</th>\n      <td>3S</td>\n      <td>2014</td>\n      <td>71,312,012,159</td>\n      <td>28,319,186,484</td>\n      <td>42,992,825,675</td>\n      <td>28,862,985,297</td>\n      <td>-2,540,739,501</td>\n      <td>-4,760,633,476</td>\n    </tr>\n    <tr>\n      <th>0</th>\n      <td>3S</td>\n      <td>2015</td>\n      <td>67,359,971,696</td>\n      <td>29,420,163,240</td>\n      <td>37,939,808,456</td>\n      <td>23,210,541,648</td>\n      <td>-4,157,989,321</td>\n      <td>-5,599,032,927</td>\n    </tr>\n    <tr>\n      <th>5</th>\n      <td>3S</td>\n      <td>2016</td>\n      <td>57,746,389,196</td>\n      <td>23,142,629,825</td>\n      <td>34,603,759,371</td>\n      <td>23,742,421,655</td>\n      <td>1,176,535,923</td>\n      <td>-3,403,437,816</td>\n    </tr>\n    <tr>\n      <th>4</th>\n      <td>3S</td>\n      <td>2017</td>\n      <td>53,706,903,697</td>\n      <td>24,527,236,916</td>\n      <td>29,179,666,781</td>\n      <td>26,486,287,918</td>\n      <td>-2,421,224,869</td>\n      <td>-8,803,810,083</td>\n    </tr>\n  </tbody>\n</table>\n</div>"
     },
     "execution_count": 27,
     "metadata": {},
     "output_type": "execute_result"
    }
   ],
   "source": [
    "data.head()"
   ],
   "metadata": {
    "collapsed": false,
    "pycharm": {
     "name": "#%%\n"
    }
   }
  },
  {
   "cell_type": "code",
   "execution_count": 28,
   "outputs": [],
   "source": [
    "# ,와 -을 제거\n",
    "\n",
    "def convert_str_to_float(value):\n",
    "    if type(value) == float:\n",
    "        return value\n",
    "    elif value == \"-\":  # 음수에도 하이픈이 있기 때문에 replace를 쓰면 안됨\n",
    "        return 0\n",
    "    else:\n",
    "        return float(value.replace(\",\", \"\"))\n",
    "\n",
    "for ind in ind_list:\n",
    "    data[ind] = data[ind].apply(convert_str_to_float)"
   ],
   "metadata": {
    "collapsed": false,
    "pycharm": {
     "name": "#%%\n"
    }
   }
  },
  {
   "cell_type": "code",
   "execution_count": 29,
   "outputs": [
    {
     "data": {
      "text/plain": "   기업    연도          자산총계          부채총계          자본총계           매출액  \\\n2  3S  2013  6.766058e+10  1.988388e+10  4.777671e+10  3.223645e+10   \n1  3S  2014  7.131201e+10  2.831919e+10  4.299283e+10  2.886299e+10   \n0  3S  2015  6.735997e+10  2.942016e+10  3.793981e+10  2.321054e+10   \n5  3S  2016  5.774639e+10  2.314263e+10  3.460376e+10  2.374242e+10   \n4  3S  2017  5.370690e+10  2.452724e+10  2.917967e+10  2.648629e+10   \n\n           영업이익         당기순이익  \n2  1.859291e+09  7.011469e+08  \n1 -2.540740e+09 -4.760633e+09  \n0 -4.157989e+09 -5.599033e+09  \n5  1.176536e+09 -3.403438e+09  \n4 -2.421225e+09 -8.803810e+09  ",
      "text/html": "<div>\n<style scoped>\n    .dataframe tbody tr th:only-of-type {\n        vertical-align: middle;\n    }\n\n    .dataframe tbody tr th {\n        vertical-align: top;\n    }\n\n    .dataframe thead th {\n        text-align: right;\n    }\n</style>\n<table border=\"1\" class=\"dataframe\">\n  <thead>\n    <tr style=\"text-align: right;\">\n      <th></th>\n      <th>기업</th>\n      <th>연도</th>\n      <th>자산총계</th>\n      <th>부채총계</th>\n      <th>자본총계</th>\n      <th>매출액</th>\n      <th>영업이익</th>\n      <th>당기순이익</th>\n    </tr>\n  </thead>\n  <tbody>\n    <tr>\n      <th>2</th>\n      <td>3S</td>\n      <td>2013</td>\n      <td>6.766058e+10</td>\n      <td>1.988388e+10</td>\n      <td>4.777671e+10</td>\n      <td>3.223645e+10</td>\n      <td>1.859291e+09</td>\n      <td>7.011469e+08</td>\n    </tr>\n    <tr>\n      <th>1</th>\n      <td>3S</td>\n      <td>2014</td>\n      <td>7.131201e+10</td>\n      <td>2.831919e+10</td>\n      <td>4.299283e+10</td>\n      <td>2.886299e+10</td>\n      <td>-2.540740e+09</td>\n      <td>-4.760633e+09</td>\n    </tr>\n    <tr>\n      <th>0</th>\n      <td>3S</td>\n      <td>2015</td>\n      <td>6.735997e+10</td>\n      <td>2.942016e+10</td>\n      <td>3.793981e+10</td>\n      <td>2.321054e+10</td>\n      <td>-4.157989e+09</td>\n      <td>-5.599033e+09</td>\n    </tr>\n    <tr>\n      <th>5</th>\n      <td>3S</td>\n      <td>2016</td>\n      <td>5.774639e+10</td>\n      <td>2.314263e+10</td>\n      <td>3.460376e+10</td>\n      <td>2.374242e+10</td>\n      <td>1.176536e+09</td>\n      <td>-3.403438e+09</td>\n    </tr>\n    <tr>\n      <th>4</th>\n      <td>3S</td>\n      <td>2017</td>\n      <td>5.370690e+10</td>\n      <td>2.452724e+10</td>\n      <td>2.917967e+10</td>\n      <td>2.648629e+10</td>\n      <td>-2.421225e+09</td>\n      <td>-8.803810e+09</td>\n    </tr>\n  </tbody>\n</table>\n</div>"
     },
     "execution_count": 29,
     "metadata": {},
     "output_type": "execute_result"
    }
   ],
   "source": [
    "data.head()"
   ],
   "metadata": {
    "collapsed": false,
    "pycharm": {
     "name": "#%%\n"
    }
   }
  },
  {
   "cell_type": "code",
   "execution_count": 30,
   "outputs": [
    {
     "data": {
      "text/plain": "2    70.612320\n1    60.288336\n0    56.323967\n5    59.923676\n4    54.331315\nName: 부채비율, dtype: float64"
     },
     "execution_count": 30,
     "metadata": {},
     "output_type": "execute_result"
    }
   ],
   "source": [
    "# 부채비율 계산\n",
    "# 부채비율 = 자본총계 / 자산총계 * 100\n",
    "\n",
    "data[\"부채비율\"] = data[\"자본총계\"] / data[\"자산총계\"] * 100\n",
    "data[\"부채비율\"].head()"
   ],
   "metadata": {
    "collapsed": false,
    "pycharm": {
     "name": "#%%\n"
    }
   }
  },
  {
   "cell_type": "code",
   "execution_count": 31,
   "outputs": [],
   "source": [
    "# 매출액 증가율, 영업이익 증가율, 당기순이익 증가율 계싼\n",
    "# 매출액 증가율 = (당기 매출액 - 전기 매출액) / 전기 매출액 * 100\n",
    "# 영업이익 증가율 = (당기 영업이익 - 전기 영업이익) / 전기 영업이익 * 100\n",
    "# 당기순이익 증가율 = (당기 당기순이익 - 전기 당기순이익) / 전기 당기순이익 * 100\n",
    "\n",
    "# 기업, 연도 컬럼을 기준으로 오름차순 정렬되어있으므로 간단하게 코드 작성 가능\n",
    "\n",
    "data[\"매출액증가율\"] = data[\"매출액\"].diff() / data[\"매출액\"] * 100\n",
    "data.loc[data[\"연도\"] == 2013, \"매출액증가율\"] = np.nan  # data 시작이 2013년도이기 때문에 이 해의 이전년도 데이터는 다른 종목의 데이터. 따라서 2013년도 데이터는 없애야함\n",
    "data[\"영업이익증가율\"] = data[\"영업이익\"].diff() / data[\"영업이익\"] * 100\n",
    "data.loc[data[\"연도\"] == 2013, \"영업이익증가율\"] = np.nan\n",
    "data[\"당기순이익증가율\"] = data[\"당기순이익\"].diff() / data[\"당기순이익\"] * 100\n",
    "data.loc[data[\"연도\"] == 2013, \"당기순이익증가율\"] = np.nan"
   ],
   "metadata": {
    "collapsed": false,
    "pycharm": {
     "name": "#%%\n"
    }
   }
  },
  {
   "cell_type": "code",
   "execution_count": 32,
   "outputs": [],
   "source": [
    "# 위 지표들 중 음수가 들어가있는 값이 있으면 증가율이 이상하게 나옴. 보조지표로 이를 보완\n",
    "\n",
    "def add_state(data, col):\n",
    "    data[col + \"_상태\"] = np.nan\n",
    "    value = data[col].values\n",
    "    cur_value = value[1:]\n",
    "    pre_value = value[:-1]\n",
    "\n",
    "    # 흑자지속\n",
    "    cond1 = (cur_value > 0) & (pre_value > 0)\n",
    "    cond1 = np.insert(cond1, 0, np.nan)\n",
    "\n",
    "    # 적자지속\n",
    "    cond2 = (cur_value <= 0) & (pre_value <= 0)\n",
    "    cond2 = np.insert(cond2, 0, np.nan)\n",
    "\n",
    "    # 흑자전환\n",
    "    cond3 = (cur_value > 0) & (pre_value <= 0)\n",
    "    cond3 = np.insert(cond3, 0, np.nan)\n",
    "\n",
    "    # 적자전환\n",
    "    cond4 = (cur_value <= 0) & (pre_value > 0)\n",
    "    cond4 = np.insert(cond4, 0, np.nan)\n",
    "\n",
    "    data.loc[cond1, col+\"_상태\"] = \"훅자지속\"\n",
    "    data.loc[cond2, col+\"_상태\"] = \"적자지속\"\n",
    "    data.loc[cond3, col+\"_상태\"] = \"훅자전환\"\n",
    "    data.loc[cond4, col+\"_상태\"] = \"적자전환\""
   ],
   "metadata": {
    "collapsed": false,
    "pycharm": {
     "name": "#%%\n"
    }
   }
  },
  {
   "cell_type": "code",
   "execution_count": 33,
   "outputs": [],
   "source": [
    "add_state(data, \"매출액\")\n",
    "add_state(data, \"영업이익\")\n",
    "add_state(data, \"당기순이익\")"
   ],
   "metadata": {
    "collapsed": false,
    "pycharm": {
     "name": "#%%\n"
    }
   }
  },
  {
   "cell_type": "code",
   "execution_count": 34,
   "outputs": [],
   "source": [
    "# ROA\n",
    "# ROA = 당기순이익 / 자산총계 * 100\n",
    "\n",
    "data[\"ROA\"] = data[\"당기순이익\"] / data[\"자산총계\"] * 100"
   ],
   "metadata": {
    "collapsed": false,
    "pycharm": {
     "name": "#%%\n"
    }
   }
  },
  {
   "cell_type": "code",
   "execution_count": 35,
   "outputs": [],
   "source": [
    "# ROE\n",
    "# ROE = 당기순이익 / 평균 자기자본 * 100\n",
    "# 평균 자기자본 = (전기 자본총계 + 당기 자본총계) / 2\n",
    "\n",
    "average_equity = data[\"자본총계\"].rolling(2).mean()\n",
    "data[\"ROE\"] = data[\"당기순이익\"] / average_equity * 100\n",
    "data.loc[data[\"연도\"] == 2013, \"ROE\"] = np.nan"
   ],
   "metadata": {
    "collapsed": false,
    "pycharm": {
     "name": "#%%\n"
    }
   }
  },
  {
   "cell_type": "code",
   "execution_count": 36,
   "outputs": [],
   "source": [
    "data.to_csv(\"data/주요재무지표.csv\", index=False, encoding=\"euc-kr\")"
   ],
   "metadata": {
    "collapsed": false,
    "pycharm": {
     "name": "#%%\n"
    }
   }
  },
  {
   "cell_type": "code",
   "execution_count": 37,
   "outputs": [
    {
     "data": {
      "text/plain": "       기업    연도          자산총계          부채총계          자본총계           매출액  \\\n2      3S  2013  6.766058e+10  1.988388e+10  4.777671e+10  3.223645e+10   \n1      3S  2014  7.131201e+10  2.831919e+10  4.299283e+10  2.886299e+10   \n0      3S  2015  6.735997e+10  2.942016e+10  3.793981e+10  2.321054e+10   \n5      3S  2016  5.774639e+10  2.314263e+10  3.460376e+10  2.374242e+10   \n4      3S  2017  5.370690e+10  2.452724e+10  2.917967e+10  2.648629e+10   \n...    ..   ...           ...           ...           ...           ...   \n21321  힘스  2015           NaN           NaN           NaN           NaN   \n21325  힘스  2017           NaN           NaN           NaN           NaN   \n21324  힘스  2018           NaN           NaN           NaN           NaN   \n21328  힘스  2019           NaN           NaN           NaN           NaN   \n21327  힘스  2020           NaN           NaN           NaN           NaN   \n\n               영업이익         당기순이익       부채비율     매출액증가율     영업이익증가율  \\\n2      1.859291e+09  7.011469e+08  70.612320        NaN         NaN   \n1     -2.540740e+09 -4.760633e+09  60.288336 -11.687845  173.179128   \n0     -4.157989e+09 -5.599033e+09  56.323967 -24.352916   38.894997   \n5      1.176536e+09 -3.403438e+09  59.923676   2.240210  453.409466   \n4     -2.421225e+09 -8.803810e+09  54.331315  10.359573  148.592592   \n...             ...           ...        ...        ...         ...   \n21321           NaN           NaN        NaN        NaN         NaN   \n21325           NaN           NaN        NaN        NaN         NaN   \n21324           NaN           NaN        NaN        NaN         NaN   \n21328           NaN           NaN        NaN        NaN         NaN   \n21327           NaN           NaN        NaN        NaN         NaN   \n\n         당기순이익증가율 매출액_상태 영업이익_상태 당기순이익_상태        ROA        ROE  \n2             NaN   적자전환    적자전환     적자전환   1.036271        NaN  \n1      114.728018   훅자지속    적자전환     적자전환  -6.675781 -10.489496  \n0       14.974005   훅자지속    적자지속     적자지속  -8.312107 -13.836280  \n5      -64.511098   훅자지속    훅자전환     적자지속  -5.893767  -9.383155  \n4       61.341308   훅자지속    적자전환     적자지속 -16.392325 -27.605322  \n...           ...    ...     ...      ...        ...        ...  \n21321         NaN    NaN     NaN      NaN        NaN        NaN  \n21325         NaN    NaN     NaN      NaN        NaN        NaN  \n21324         NaN    NaN     NaN      NaN        NaN        NaN  \n21328         NaN    NaN     NaN      NaN        NaN        NaN  \n21327         NaN    NaN     NaN      NaN        NaN        NaN  \n\n[18044 rows x 17 columns]",
      "text/html": "<div>\n<style scoped>\n    .dataframe tbody tr th:only-of-type {\n        vertical-align: middle;\n    }\n\n    .dataframe tbody tr th {\n        vertical-align: top;\n    }\n\n    .dataframe thead th {\n        text-align: right;\n    }\n</style>\n<table border=\"1\" class=\"dataframe\">\n  <thead>\n    <tr style=\"text-align: right;\">\n      <th></th>\n      <th>기업</th>\n      <th>연도</th>\n      <th>자산총계</th>\n      <th>부채총계</th>\n      <th>자본총계</th>\n      <th>매출액</th>\n      <th>영업이익</th>\n      <th>당기순이익</th>\n      <th>부채비율</th>\n      <th>매출액증가율</th>\n      <th>영업이익증가율</th>\n      <th>당기순이익증가율</th>\n      <th>매출액_상태</th>\n      <th>영업이익_상태</th>\n      <th>당기순이익_상태</th>\n      <th>ROA</th>\n      <th>ROE</th>\n    </tr>\n  </thead>\n  <tbody>\n    <tr>\n      <th>2</th>\n      <td>3S</td>\n      <td>2013</td>\n      <td>6.766058e+10</td>\n      <td>1.988388e+10</td>\n      <td>4.777671e+10</td>\n      <td>3.223645e+10</td>\n      <td>1.859291e+09</td>\n      <td>7.011469e+08</td>\n      <td>70.612320</td>\n      <td>NaN</td>\n      <td>NaN</td>\n      <td>NaN</td>\n      <td>적자전환</td>\n      <td>적자전환</td>\n      <td>적자전환</td>\n      <td>1.036271</td>\n      <td>NaN</td>\n    </tr>\n    <tr>\n      <th>1</th>\n      <td>3S</td>\n      <td>2014</td>\n      <td>7.131201e+10</td>\n      <td>2.831919e+10</td>\n      <td>4.299283e+10</td>\n      <td>2.886299e+10</td>\n      <td>-2.540740e+09</td>\n      <td>-4.760633e+09</td>\n      <td>60.288336</td>\n      <td>-11.687845</td>\n      <td>173.179128</td>\n      <td>114.728018</td>\n      <td>훅자지속</td>\n      <td>적자전환</td>\n      <td>적자전환</td>\n      <td>-6.675781</td>\n      <td>-10.489496</td>\n    </tr>\n    <tr>\n      <th>0</th>\n      <td>3S</td>\n      <td>2015</td>\n      <td>6.735997e+10</td>\n      <td>2.942016e+10</td>\n      <td>3.793981e+10</td>\n      <td>2.321054e+10</td>\n      <td>-4.157989e+09</td>\n      <td>-5.599033e+09</td>\n      <td>56.323967</td>\n      <td>-24.352916</td>\n      <td>38.894997</td>\n      <td>14.974005</td>\n      <td>훅자지속</td>\n      <td>적자지속</td>\n      <td>적자지속</td>\n      <td>-8.312107</td>\n      <td>-13.836280</td>\n    </tr>\n    <tr>\n      <th>5</th>\n      <td>3S</td>\n      <td>2016</td>\n      <td>5.774639e+10</td>\n      <td>2.314263e+10</td>\n      <td>3.460376e+10</td>\n      <td>2.374242e+10</td>\n      <td>1.176536e+09</td>\n      <td>-3.403438e+09</td>\n      <td>59.923676</td>\n      <td>2.240210</td>\n      <td>453.409466</td>\n      <td>-64.511098</td>\n      <td>훅자지속</td>\n      <td>훅자전환</td>\n      <td>적자지속</td>\n      <td>-5.893767</td>\n      <td>-9.383155</td>\n    </tr>\n    <tr>\n      <th>4</th>\n      <td>3S</td>\n      <td>2017</td>\n      <td>5.370690e+10</td>\n      <td>2.452724e+10</td>\n      <td>2.917967e+10</td>\n      <td>2.648629e+10</td>\n      <td>-2.421225e+09</td>\n      <td>-8.803810e+09</td>\n      <td>54.331315</td>\n      <td>10.359573</td>\n      <td>148.592592</td>\n      <td>61.341308</td>\n      <td>훅자지속</td>\n      <td>적자전환</td>\n      <td>적자지속</td>\n      <td>-16.392325</td>\n      <td>-27.605322</td>\n    </tr>\n    <tr>\n      <th>...</th>\n      <td>...</td>\n      <td>...</td>\n      <td>...</td>\n      <td>...</td>\n      <td>...</td>\n      <td>...</td>\n      <td>...</td>\n      <td>...</td>\n      <td>...</td>\n      <td>...</td>\n      <td>...</td>\n      <td>...</td>\n      <td>...</td>\n      <td>...</td>\n      <td>...</td>\n      <td>...</td>\n      <td>...</td>\n    </tr>\n    <tr>\n      <th>21321</th>\n      <td>힘스</td>\n      <td>2015</td>\n      <td>NaN</td>\n      <td>NaN</td>\n      <td>NaN</td>\n      <td>NaN</td>\n      <td>NaN</td>\n      <td>NaN</td>\n      <td>NaN</td>\n      <td>NaN</td>\n      <td>NaN</td>\n      <td>NaN</td>\n      <td>NaN</td>\n      <td>NaN</td>\n      <td>NaN</td>\n      <td>NaN</td>\n      <td>NaN</td>\n    </tr>\n    <tr>\n      <th>21325</th>\n      <td>힘스</td>\n      <td>2017</td>\n      <td>NaN</td>\n      <td>NaN</td>\n      <td>NaN</td>\n      <td>NaN</td>\n      <td>NaN</td>\n      <td>NaN</td>\n      <td>NaN</td>\n      <td>NaN</td>\n      <td>NaN</td>\n      <td>NaN</td>\n      <td>NaN</td>\n      <td>NaN</td>\n      <td>NaN</td>\n      <td>NaN</td>\n      <td>NaN</td>\n    </tr>\n    <tr>\n      <th>21324</th>\n      <td>힘스</td>\n      <td>2018</td>\n      <td>NaN</td>\n      <td>NaN</td>\n      <td>NaN</td>\n      <td>NaN</td>\n      <td>NaN</td>\n      <td>NaN</td>\n      <td>NaN</td>\n      <td>NaN</td>\n      <td>NaN</td>\n      <td>NaN</td>\n      <td>NaN</td>\n      <td>NaN</td>\n      <td>NaN</td>\n      <td>NaN</td>\n      <td>NaN</td>\n    </tr>\n    <tr>\n      <th>21328</th>\n      <td>힘스</td>\n      <td>2019</td>\n      <td>NaN</td>\n      <td>NaN</td>\n      <td>NaN</td>\n      <td>NaN</td>\n      <td>NaN</td>\n      <td>NaN</td>\n      <td>NaN</td>\n      <td>NaN</td>\n      <td>NaN</td>\n      <td>NaN</td>\n      <td>NaN</td>\n      <td>NaN</td>\n      <td>NaN</td>\n      <td>NaN</td>\n      <td>NaN</td>\n    </tr>\n    <tr>\n      <th>21327</th>\n      <td>힘스</td>\n      <td>2020</td>\n      <td>NaN</td>\n      <td>NaN</td>\n      <td>NaN</td>\n      <td>NaN</td>\n      <td>NaN</td>\n      <td>NaN</td>\n      <td>NaN</td>\n      <td>NaN</td>\n      <td>NaN</td>\n      <td>NaN</td>\n      <td>NaN</td>\n      <td>NaN</td>\n      <td>NaN</td>\n      <td>NaN</td>\n      <td>NaN</td>\n    </tr>\n  </tbody>\n</table>\n<p>18044 rows × 17 columns</p>\n</div>"
     },
     "execution_count": 37,
     "metadata": {},
     "output_type": "execute_result"
    }
   ],
   "source": [
    "data"
   ],
   "metadata": {
    "collapsed": false,
    "pycharm": {
     "name": "#%%\n"
    }
   }
  }
 ],
 "metadata": {
  "kernelspec": {
   "display_name": "Python 3",
   "language": "python",
   "name": "python3"
  },
  "language_info": {
   "codemirror_mode": {
    "name": "ipython",
    "version": 2
   },
   "file_extension": ".py",
   "mimetype": "text/x-python",
   "name": "python",
   "nbconvert_exporter": "python",
   "pygments_lexer": "ipython2",
   "version": "2.7.6"
  }
 },
 "nbformat": 4,
 "nbformat_minor": 0
}