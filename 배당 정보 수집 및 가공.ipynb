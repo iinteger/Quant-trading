{
 "cells": [
  {
   "cell_type": "code",
   "execution_count": 6,
   "metadata": {
    "collapsed": true
   },
   "outputs": [],
   "source": [
    "import OpenDartReader\n",
    "import numpy as np\n",
    "import pandas as pd\n",
    "import time\n",
    "from tqdm import tqdm\n",
    "pd.set_option('display.max_columns', 20)"
   ]
  },
  {
   "cell_type": "code",
   "execution_count": 14,
   "outputs": [
    {
     "ename": "ValueError",
     "evalue": "{'status': '020', 'message': '사용한도를 초과하였습니다.'}",
     "output_type": "error",
     "traceback": [
      "\u001B[1;31m---------------------------------------------------------------------------\u001B[0m",
      "\u001B[1;31mValueError\u001B[0m                                Traceback (most recent call last)",
      "\u001B[1;32m~\\AppData\\Local\\Temp/ipykernel_14960/3569459600.py\u001B[0m in \u001B[0;36m<module>\u001B[1;34m\u001B[0m\n\u001B[0;32m      1\u001B[0m \u001B[0mmy_api\u001B[0m \u001B[1;33m=\u001B[0m \u001B[0mopen\u001B[0m\u001B[1;33m(\u001B[0m\u001B[1;34m\"dart_api.txt\"\u001B[0m\u001B[1;33m)\u001B[0m\u001B[1;33m.\u001B[0m\u001B[0mread\u001B[0m\u001B[1;33m(\u001B[0m\u001B[1;33m)\u001B[0m\u001B[1;33m[\u001B[0m\u001B[1;36m1\u001B[0m\u001B[1;33m:\u001B[0m\u001B[1;33m]\u001B[0m\u001B[1;33m\u001B[0m\u001B[1;33m\u001B[0m\u001B[0m\n\u001B[1;32m----> 2\u001B[1;33m \u001B[0mdart\u001B[0m \u001B[1;33m=\u001B[0m \u001B[0mOpenDartReader\u001B[0m\u001B[1;33m(\u001B[0m\u001B[0mmy_api\u001B[0m\u001B[1;33m)\u001B[0m\u001B[1;33m\u001B[0m\u001B[1;33m\u001B[0m\u001B[0m\n\u001B[0m",
      "\u001B[1;32m~\\anaconda3\\envs\\data\\lib\\site-packages\\OpenDartReader\\dart.py\u001B[0m in \u001B[0;36m__init__\u001B[1;34m(self, api_key)\u001B[0m\n\u001B[0;32m     39\u001B[0m             \u001B[0mos\u001B[0m\u001B[1;33m.\u001B[0m\u001B[0mremove\u001B[0m\u001B[1;33m(\u001B[0m\u001B[0mfn_rm\u001B[0m\u001B[1;33m)\u001B[0m\u001B[1;33m\u001B[0m\u001B[1;33m\u001B[0m\u001B[0m\n\u001B[0;32m     40\u001B[0m         \u001B[1;32mif\u001B[0m \u001B[1;32mnot\u001B[0m \u001B[0mos\u001B[0m\u001B[1;33m.\u001B[0m\u001B[0mpath\u001B[0m\u001B[1;33m.\u001B[0m\u001B[0mexists\u001B[0m\u001B[1;33m(\u001B[0m\u001B[0mfn_cache\u001B[0m\u001B[1;33m)\u001B[0m\u001B[1;33m:\u001B[0m\u001B[1;33m\u001B[0m\u001B[1;33m\u001B[0m\u001B[0m\n\u001B[1;32m---> 41\u001B[1;33m             \u001B[0mdf\u001B[0m \u001B[1;33m=\u001B[0m \u001B[0mdart_search\u001B[0m\u001B[1;33m.\u001B[0m\u001B[0mcorp_codes\u001B[0m\u001B[1;33m(\u001B[0m\u001B[0mapi_key\u001B[0m\u001B[1;33m)\u001B[0m\u001B[1;33m\u001B[0m\u001B[1;33m\u001B[0m\u001B[0m\n\u001B[0m\u001B[0;32m     42\u001B[0m             \u001B[0mdf\u001B[0m\u001B[1;33m.\u001B[0m\u001B[0mto_pickle\u001B[0m\u001B[1;33m(\u001B[0m\u001B[0mfn_cache\u001B[0m\u001B[1;33m)\u001B[0m\u001B[1;33m\u001B[0m\u001B[1;33m\u001B[0m\u001B[0m\n\u001B[0;32m     43\u001B[0m \u001B[1;33m\u001B[0m\u001B[0m\n",
      "\u001B[1;32m~\\anaconda3\\envs\\data\\lib\\site-packages\\OpenDartReader\\dart_search.py\u001B[0m in \u001B[0;36mcorp_codes\u001B[1;34m(api_key)\u001B[0m\n\u001B[0;32m    154\u001B[0m             \u001B[0mmessage\u001B[0m \u001B[1;33m=\u001B[0m \u001B[0mtree\u001B[0m\u001B[1;33m.\u001B[0m\u001B[0mfind\u001B[0m\u001B[1;33m(\u001B[0m\u001B[1;34m'message'\u001B[0m\u001B[1;33m)\u001B[0m\u001B[1;33m.\u001B[0m\u001B[0mtext\u001B[0m\u001B[1;33m\u001B[0m\u001B[1;33m\u001B[0m\u001B[0m\n\u001B[0;32m    155\u001B[0m             \u001B[1;32mif\u001B[0m \u001B[0mstatus\u001B[0m \u001B[1;33m!=\u001B[0m \u001B[1;34m'000'\u001B[0m\u001B[1;33m:\u001B[0m\u001B[1;33m\u001B[0m\u001B[1;33m\u001B[0m\u001B[0m\n\u001B[1;32m--> 156\u001B[1;33m                 \u001B[1;32mraise\u001B[0m \u001B[0mValueError\u001B[0m\u001B[1;33m(\u001B[0m\u001B[1;33m{\u001B[0m\u001B[1;34m'status'\u001B[0m\u001B[1;33m:\u001B[0m \u001B[0mstatus\u001B[0m\u001B[1;33m,\u001B[0m \u001B[1;34m'message'\u001B[0m\u001B[1;33m:\u001B[0m \u001B[0mmessage\u001B[0m\u001B[1;33m}\u001B[0m\u001B[1;33m)\u001B[0m\u001B[1;33m\u001B[0m\u001B[1;33m\u001B[0m\u001B[0m\n\u001B[0m\u001B[0;32m    157\u001B[0m         \u001B[1;32mexcept\u001B[0m \u001B[0mET\u001B[0m\u001B[1;33m.\u001B[0m\u001B[0mParseError\u001B[0m \u001B[1;32mas\u001B[0m \u001B[0me\u001B[0m\u001B[1;33m:\u001B[0m\u001B[1;33m\u001B[0m\u001B[1;33m\u001B[0m\u001B[0m\n\u001B[0;32m    158\u001B[0m             \u001B[1;32mpass\u001B[0m\u001B[1;33m\u001B[0m\u001B[1;33m\u001B[0m\u001B[0m\n",
      "\u001B[1;31mValueError\u001B[0m: {'status': '020', 'message': '사용한도를 초과하였습니다.'}"
     ]
    }
   ],
   "source": [
    "my_api = open(\"dart_api.txt\").read()[1:]\n",
    "dart = OpenDartReader(my_api)"
   ],
   "metadata": {
    "collapsed": false,
    "pycharm": {
     "name": "#%%\n"
    }
   }
  },
  {
   "cell_type": "code",
   "execution_count": 15,
   "outputs": [],
   "source": [
    "def find_div_and_EPS(stock, year):\n",
    "    report = dart.report(stock, \"배당\", year, \"11011\")\n",
    "    output = dict()\n",
    "\n",
    "    if report is None:  # 리포트가 없으면 None을 반환하므로 더미값 삽입\n",
    "        output[\"주당배당금\"] = np.nan, np.nan, np.nan\n",
    "        output[\"주당순이익\"] = np.nan, np.nan, np.nan\n",
    "    else:\n",
    "        # 주당배당금 관련 행 필터링\n",
    "        div_row = report.loc[(report['se'] == '주당 현금배당금(원)')].iloc[0]\n",
    "\n",
    "        # 배당 기록이 없으면 '-' 으로 나타남\n",
    "        cur_div = int(div_row[\"thstrm\"].replace(\"-\", \"0\").replace(\",\", \"\"))  # 당기(current)\n",
    "        pre_div = int(div_row[\"frmtrm\"].replace(\"-\", \"0\").replace(\",\", \"\"))  # 전기(previous)\n",
    "        spre_div = int(div_row[\"lwfr\"].replace(\"-\", \"0\").replace(\",\", \"\"))  # 전전기(second previous)\n",
    "        output[\"주당배당금\"] = spre_div, pre_div, cur_div\n",
    "\n",
    "        # 주당순이익 관련 행 필터링\n",
    "        EPS_row = report.loc[(report['se'].str.contains('주당순이익'))].iloc[0]\n",
    "\n",
    "        cur_EPS = int(EPS_row['thstrm'].replace('-', '0').replace(',', ''))\n",
    "        pre_EPS = int(EPS_row['frmtrm'].replace('-', '0').replace(',', ''))\n",
    "        spre_EPS = int(EPS_row['lwfr'].replace('-', '0').replace(',', ''))\n",
    "        output[\"주당순이익\"] = spre_EPS, pre_EPS, cur_EPS\n",
    "\n",
    "    return output"
   ],
   "metadata": {
    "collapsed": false,
    "pycharm": {
     "name": "#%%\n"
    }
   }
  },
  {
   "cell_type": "code",
   "execution_count": 16,
   "outputs": [],
   "source": [
    "stock_list = pd.read_csv(\"data/종목정보.txt\", sep=\"\\t\", encoding=\"euc-kr\")\n",
    "stock_name_list = stock_list[\"Name\"].values\n",
    "div_data = []\n",
    "EPS_data = []"
   ],
   "metadata": {
    "collapsed": false,
    "pycharm": {
     "name": "#%%\n"
    }
   }
  },
  {
   "cell_type": "code",
   "execution_count": 17,
   "outputs": [
    {
     "name": "stderr",
     "output_type": "stream",
     "text": [
      "0it [00:00, ?it/s]"
     ]
    },
    {
     "name": "stdout",
     "output_type": "stream",
     "text": [
      "1 / 2370\n"
     ]
    },
    {
     "name": "stderr",
     "output_type": "stream",
     "text": [
      "0it [00:10, ?it/s]\n"
     ]
    },
    {
     "ename": "KeyboardInterrupt",
     "evalue": "",
     "output_type": "error",
     "traceback": [
      "\u001B[1;31m---------------------------------------------------------------------------\u001B[0m",
      "\u001B[1;31mNameError\u001B[0m                                 Traceback (most recent call last)",
      "\u001B[1;32m~\\AppData\\Local\\Temp/ipykernel_14960/3055219418.py\u001B[0m in \u001B[0;36m<module>\u001B[1;34m\u001B[0m\n\u001B[0;32m     10\u001B[0m             \u001B[1;32mtry\u001B[0m\u001B[1;33m:\u001B[0m\u001B[1;33m\u001B[0m\u001B[1;33m\u001B[0m\u001B[0m\n\u001B[1;32m---> 11\u001B[1;33m                 \u001B[0moutput\u001B[0m \u001B[1;33m=\u001B[0m \u001B[0mfind_div_and_EPS\u001B[0m\u001B[1;33m(\u001B[0m\u001B[0mstock_name\u001B[0m\u001B[1;33m,\u001B[0m \u001B[0myear\u001B[0m\u001B[1;33m)\u001B[0m\u001B[1;33m\u001B[0m\u001B[1;33m\u001B[0m\u001B[0m\n\u001B[0m\u001B[0;32m     12\u001B[0m                 \u001B[0mtime\u001B[0m\u001B[1;33m.\u001B[0m\u001B[0msleep\u001B[0m\u001B[1;33m(\u001B[0m\u001B[1;36m0.5\u001B[0m\u001B[1;33m)\u001B[0m\u001B[1;33m\u001B[0m\u001B[1;33m\u001B[0m\u001B[0m\n",
      "\u001B[1;32m~\\AppData\\Local\\Temp/ipykernel_14960/992090302.py\u001B[0m in \u001B[0;36mfind_div_and_EPS\u001B[1;34m(stock, year)\u001B[0m\n\u001B[0;32m      1\u001B[0m \u001B[1;32mdef\u001B[0m \u001B[0mfind_div_and_EPS\u001B[0m\u001B[1;33m(\u001B[0m\u001B[0mstock\u001B[0m\u001B[1;33m,\u001B[0m \u001B[0myear\u001B[0m\u001B[1;33m)\u001B[0m\u001B[1;33m:\u001B[0m\u001B[1;33m\u001B[0m\u001B[1;33m\u001B[0m\u001B[0m\n\u001B[1;32m----> 2\u001B[1;33m     \u001B[0mreport\u001B[0m \u001B[1;33m=\u001B[0m \u001B[0mdart\u001B[0m\u001B[1;33m.\u001B[0m\u001B[0mreport\u001B[0m\u001B[1;33m(\u001B[0m\u001B[0mstock\u001B[0m\u001B[1;33m,\u001B[0m \u001B[1;34m\"배당\"\u001B[0m\u001B[1;33m,\u001B[0m \u001B[0myear\u001B[0m\u001B[1;33m,\u001B[0m \u001B[1;34m\"11011\"\u001B[0m\u001B[1;33m)\u001B[0m\u001B[1;33m\u001B[0m\u001B[1;33m\u001B[0m\u001B[0m\n\u001B[0m\u001B[0;32m      3\u001B[0m     \u001B[0moutput\u001B[0m \u001B[1;33m=\u001B[0m \u001B[0mdict\u001B[0m\u001B[1;33m(\u001B[0m\u001B[1;33m)\u001B[0m\u001B[1;33m\u001B[0m\u001B[1;33m\u001B[0m\u001B[0m\n",
      "\u001B[1;31mNameError\u001B[0m: name 'dart' is not defined",
      "\nDuring handling of the above exception, another exception occurred:\n",
      "\u001B[1;31mKeyboardInterrupt\u001B[0m                         Traceback (most recent call last)",
      "\u001B[1;32m~\\AppData\\Local\\Temp/ipykernel_14960/3055219418.py\u001B[0m in \u001B[0;36m<module>\u001B[1;34m\u001B[0m\n\u001B[0;32m     13\u001B[0m                 \u001B[1;32mbreak\u001B[0m\u001B[1;33m\u001B[0m\u001B[1;33m\u001B[0m\u001B[0m\n\u001B[0;32m     14\u001B[0m             \u001B[1;32mexcept\u001B[0m\u001B[1;33m:\u001B[0m\u001B[1;33m\u001B[0m\u001B[1;33m\u001B[0m\u001B[0m\n\u001B[1;32m---> 15\u001B[1;33m                 \u001B[0mtime\u001B[0m\u001B[1;33m.\u001B[0m\u001B[0msleep\u001B[0m\u001B[1;33m(\u001B[0m\u001B[1;36m10\u001B[0m\u001B[1;33m)\u001B[0m\u001B[1;33m\u001B[0m\u001B[1;33m\u001B[0m\u001B[0m\n\u001B[0m\u001B[0;32m     16\u001B[0m \u001B[1;33m\u001B[0m\u001B[0m\n\u001B[0;32m     17\u001B[0m         \u001B[1;31m# 주당 배당금 정리\u001B[0m\u001B[1;33m\u001B[0m\u001B[1;33m\u001B[0m\u001B[1;33m\u001B[0m\u001B[0m\n",
      "\u001B[1;31mKeyboardInterrupt\u001B[0m: "
     ]
    }
   ],
   "source": [
    "for idx, stock_name in tqdm(enumerate(stock_name_list)):\n",
    "    print(idx + 1, \"/\", len(stock_name_list))\n",
    "\n",
    "    # 레코드 초기화\n",
    "    div_record = [stock_name]\n",
    "    EPS_record = [stock_name]\n",
    "\n",
    "    for year in [2015, 2018, 2020]:  # 한번당 3년을 가져오기 때문에 간격을 고려해서 루프\n",
    "        while True:\n",
    "            try:\n",
    "                output = find_div_and_EPS(stock_name, year)\n",
    "                time.sleep(0.5)\n",
    "                break\n",
    "            except:\n",
    "                time.sleep(10)\n",
    "\n",
    "        # 주당 배당금 정리\n",
    "        spre_divs, pre_divs, cur_divs = output[\"주당배당금\"]\n",
    "        if year != 2020:\n",
    "            div_record += [spre_divs, pre_divs, cur_divs]\n",
    "        else:\n",
    "            div_record += [pre_divs, cur_divs]  # 2020년이 되면 18년이 중복되므로 제외\n",
    "\n",
    "        # 주당 순이익 정리\n",
    "        spre_EPS, pre_EPS, cur_EPS = output[\"주당순이익\"]\n",
    "        if year != 2020:\n",
    "            div_record += [spre_EPS, pre_EPS, cur_EPS]\n",
    "        else:\n",
    "            div_record += [pre_EPS, cur_EPS]\n",
    "\n",
    "    div_data.append(div_record)\n",
    "    EPS_data.append(EPS_record)"
   ],
   "metadata": {
    "collapsed": false,
    "pycharm": {
     "name": "#%%\n"
    }
   }
  },
  {
   "cell_type": "code",
   "execution_count": 18,
   "outputs": [],
   "source": [
    "# 데이터프레임으로 변환 및 저장\n",
    "columns = [\"stock_name\", \"2013\", \"2014\", \"2015\", \"2016\", \"2017\", \"2018\", \"2019\", \"2020\"]\n",
    "div_data = pd.DataFrame(div_data, columns=columns)\n",
    "EPS_data = pd.DataFrame(EPS_data, columns=columns)\n",
    "\n",
    "div_data.to_csv(\"data/주당배당금.csv\", encoding=\"euc-kr\", index=False)\n",
    "EPS_data.to_csv(\"data/주당순이익.csv\", encoding=\"euc-kr\", index=False)"
   ],
   "metadata": {
    "collapsed": false,
    "pycharm": {
     "name": "#%%\n"
    }
   }
  },
  {
   "cell_type": "code",
   "execution_count": 19,
   "outputs": [],
   "source": [
    "# 제출 마감일 계산\n",
    "# 사업보고서 제출 시점은 사업연도 경과 후 기준일 이후 90일째 되는 날\n",
    "# ex) 결산 월이 12월인 기업의 사업연도 경과 후 기준일은 다음 날인 1월 1일이고 90일째 되는 날은 3월 31일. 이때 당일이 공휴일이라면(2019년은 당일이 일요일) 가장 가까운 다음 평일이 제출 시점이 됨\n",
    "\n",
    "sub_due_data = []  # 제출 마감일을 담을 데이터\n",
    "\n",
    "for settle_month in range(1, 13):  # 결산 월\n",
    "    for year in range(2013, 2021):  # 사업연도\n",
    "        # 사업연도 경과 후 기준일 계산\n",
    "        if settle_month < 12:\n",
    "            after_bs_year_day = pd.to_datetime(\"{}-{}-1\".format(year, settle_month+1))\n",
    "        else:\n",
    "            after_bs_year_day = pd.to_datetime(\"{}-1-1\".format(year+1))\n",
    "\n",
    "        due_date = after_bs_year_day + pd.to_timedelta(90, \"D\")\n",
    "        sub_due_data.append([settle_month, year, due_date])\n",
    "\n",
    "sub_due_data = pd.DataFrame(sub_due_data, columns=[\"결산 월\", \"사업연도\", \"제출마감일\"])\n",
    "sub_due_data.to_csv(\"data/사업보고서_제출마감일.csv\", index=False, encoding=\"euc-kr\")"
   ],
   "metadata": {
    "collapsed": false,
    "pycharm": {
     "name": "#%%\n"
    }
   }
  },
  {
   "cell_type": "code",
   "execution_count": 20,
   "outputs": [],
   "source": [
    "# 장이 열리는 가장 가까운 날짜의 주가 찾기\n",
    "# 주가 데이터와 날짜가 입력됐을 때 해당 날짜를 포함해서 가장 가까운 미래의 주가를 반환하는 함수\n",
    "\n",
    "def find_closest_stock_price(sp_data, date):\n",
    "    date = pd.to_datetime(date)\n",
    "\n",
    "    # 주가 데이터를 벗어나는 범위의 날짜가 입력되면 결측을 반환\n",
    "    if sp_data[\"Date\"].max() < date:\n",
    "        return np.nan\n",
    "    else:\n",
    "        while True:\n",
    "            # date와 같은 날짜가 Date에 있으면 해당 날짜의 종가를 저장\n",
    "            if sum(sp_data[\"Date\"] == date) > 0:\n",
    "                value = sp_data.loc[sp_data[\"Date\"] == date, \"Close\"].iloc[0]\n",
    "                break\n",
    "            else:  # date와 같은 날짜의 Date가 없으면 당일에 장이 열리지 않은것이므로 date에 1을 더해서 다음날 장이 열렸는지 확인\n",
    "                date += pd.to_timedelta(1, 'D')\n",
    "        return value"
   ],
   "metadata": {
    "collapsed": false,
    "pycharm": {
     "name": "#%%\n"
    }
   }
  },
  {
   "cell_type": "code",
   "execution_count": 21,
   "outputs": [
    {
     "name": "stdout",
     "output_type": "stream",
     "text": [
      "48700\n"
     ]
    }
   ],
   "source": [
    "# 정의한 함수를 삼성전자의 2020년 4월 4일로 확인. 이날은 토요일\n",
    "\n",
    "sp_data = pd.read_csv(\"data/주가데이터/삼성전자.csv\")\n",
    "sp_data[\"Date\"] = pd.to_datetime(sp_data[\"Date\"])\n",
    "date = \"2020-04-04\"\n",
    "print(find_closest_stock_price(sp_data, date))  # 4월 6일의 종가인 48700을 올바르게 반환"
   ],
   "metadata": {
    "collapsed": false,
    "pycharm": {
     "name": "#%%\n"
    }
   }
  },
  {
   "cell_type": "code",
   "execution_count": 22,
   "outputs": [],
   "source": [
    "# 주가 데이터를 EPS_data와 동일하게 변환\n",
    "\n",
    "settle_month_dict = stock_list.set_index(\"Name\")[\"SettleMonth\"]\n",
    "settle_month_dict = settle_month_dict.apply(lambda  x:int(x[:-1])).to_dict()\n",
    "sub_due_dict = sub_due_data.set_index([\"결산 월\", \"사업연도\"])[\"제출마감일\"].to_dict()"
   ],
   "metadata": {
    "collapsed": false,
    "pycharm": {
     "name": "#%%\n"
    }
   }
  },
  {
   "cell_type": "code",
   "execution_count": 25,
   "outputs": [
    {
     "name": "stdout",
     "output_type": "stream",
     "text": [
      "12\n",
      "2018-04-01 00:00:00\n"
     ]
    }
   ],
   "source": [
    "print(settle_month_dict[\"삼성전자\"])\n",
    "print(sub_due_dict[12, 2017])\n",
    "\n",
    "# 삼성전자의 결산 월은 12월이고, 2017년 12월의 제출마감일은 2018년 4월 1일 00시"
   ],
   "metadata": {
    "collapsed": false,
    "pycharm": {
     "name": "#%%\n"
    }
   }
  },
  {
   "cell_type": "code",
   "execution_count": 32,
   "outputs": [
    {
     "name": "stderr",
     "output_type": "stream",
     "text": [
      "100%|██████████| 2370/2370 [11:19<00:00,  3.49it/s]\n"
     ]
    }
   ],
   "source": [
    "# EPS_data의 stock_name에 속한 모든 종목의 연도별 사업보고서 제출 마감일의 종가 저장\n",
    "\n",
    "import os\n",
    "sp_data = []\n",
    "\n",
    "EPS_data = pd.read_csv(\"data/주당배당금.csv\", encoding=\"euc-kr\")\n",
    "\n",
    "for sn in tqdm(EPS_data[\"stock_name\"].values):\n",
    "    record = [sn]\n",
    "    if sn + \".csv\" not in os.listdir(\"data/주가데이터\"):\n",
    "        # 주가데이터 폴더 내에 해당 파일이 없으면 전부 결측으로 채움\n",
    "        record += [np.nan] * (len(EPS_data.columns) - 1)\n",
    "    else:\n",
    "        # 주가 데이터 불러오기\n",
    "        sn_sp_data = pd.read_csv(\"data/주가데이터/{}.csv\".format(sn), parse_dates=[\"Date\"])\n",
    "        settle_month = settle_month_dict[sn]\n",
    "\n",
    "        for year in range(2013, 2021):\n",
    "            # 제출 마감일의 주가 찾기\n",
    "            sub_date = sub_due_dict[settle_month, year]\n",
    "            sp = find_closest_stock_price(sn_sp_data, sub_date)\n",
    "            record.append(sp)\n",
    "\n",
    "    sp_data.append(record)\n",
    "sp_data = pd.DataFrame(sp_data, columns=EPS_data.columns)"
   ],
   "metadata": {
    "collapsed": false,
    "pycharm": {
     "name": "#%%\n"
    }
   }
  },
  {
   "cell_type": "code",
   "execution_count": 33,
   "outputs": [
    {
     "name": "stdout",
     "output_type": "stream",
     "text": [
      "  stock_name     2013     2014     2015     2016     2017     2018     2019  \\\n",
      "0         3S   6100.0   4350.0   2535.0   3595.0   2320.0   2685.0   2700.0   \n",
      "1     AJ네트웍스   7100.0   7100.0   8300.0   5800.0   7170.0   4810.0   2950.0   \n",
      "2      AK홀딩스  55731.0  98500.0  56100.0  61200.0  74600.0  52400.0  18000.0   \n",
      "3     APS홀딩스   6504.0   6929.0  13672.0  20750.0   7210.0   4420.0   6450.0   \n",
      "4      AP시스템  41700.0  41700.0  41700.0  41700.0  27150.0  28800.0  24500.0   \n",
      "\n",
      "      2020  \n",
      "0   2420.0  \n",
      "1   4620.0  \n",
      "2  26900.0  \n",
      "3   9800.0  \n",
      "4  28800.0  \n"
     ]
    }
   ],
   "source": [
    "print(sp_data.head())"
   ],
   "metadata": {
    "collapsed": false,
    "pycharm": {
     "name": "#%%\n"
    }
   }
  },
  {
   "cell_type": "code",
   "execution_count": 35,
   "outputs": [],
   "source": [
    "# sp_data를 EPS_data로 나누어 PER 계산\n",
    "# PER = 주가/EPS\n",
    "# EPS가 0일땐 계산이 되지 않으므로 nan으로 대체. nan은 연산해도 nan\n",
    "PER_data = sp_data.values[:, 1:] / EPS_data.replace(0, np.nan).values[:, 1:]\n",
    "PER_data = pd.DataFrame(PER_data, columns=EPS_data.columns[1:])\n",
    "PER_data[\"stock_name\"] = EPS_data[\"stock_name\"]"
   ],
   "metadata": {
    "collapsed": false,
    "pycharm": {
     "name": "#%%\n"
    }
   }
  },
  {
   "cell_type": "code",
   "execution_count": 36,
   "outputs": [
    {
     "data": {
      "text/plain": "      2013        2014   2015        2016        2017       2018      2019  \\\n0      NaN         NaN    NaN         NaN         NaN        NaN       NaN   \n1      NaN         NaN    NaN   96.666667   83.372093       48.1  9.833333   \n2  278.655  281.428571  112.2  111.272727  114.769231  69.866667      24.0   \n3      NaN         NaN    NaN         NaN         NaN        NaN       NaN   \n4      NaN         NaN    NaN         NaN         NaN      192.0     490.0   \n\n    2020 stock_name  \n0    NaN         3S  \n1   22.0     AJ네트웍스  \n2  67.25      AK홀딩스  \n3    NaN     APS홀딩스  \n4  240.0      AP시스템  ",
      "text/html": "<div>\n<style scoped>\n    .dataframe tbody tr th:only-of-type {\n        vertical-align: middle;\n    }\n\n    .dataframe tbody tr th {\n        vertical-align: top;\n    }\n\n    .dataframe thead th {\n        text-align: right;\n    }\n</style>\n<table border=\"1\" class=\"dataframe\">\n  <thead>\n    <tr style=\"text-align: right;\">\n      <th></th>\n      <th>2013</th>\n      <th>2014</th>\n      <th>2015</th>\n      <th>2016</th>\n      <th>2017</th>\n      <th>2018</th>\n      <th>2019</th>\n      <th>2020</th>\n      <th>stock_name</th>\n    </tr>\n  </thead>\n  <tbody>\n    <tr>\n      <th>0</th>\n      <td>NaN</td>\n      <td>NaN</td>\n      <td>NaN</td>\n      <td>NaN</td>\n      <td>NaN</td>\n      <td>NaN</td>\n      <td>NaN</td>\n      <td>NaN</td>\n      <td>3S</td>\n    </tr>\n    <tr>\n      <th>1</th>\n      <td>NaN</td>\n      <td>NaN</td>\n      <td>NaN</td>\n      <td>96.666667</td>\n      <td>83.372093</td>\n      <td>48.1</td>\n      <td>9.833333</td>\n      <td>22.0</td>\n      <td>AJ네트웍스</td>\n    </tr>\n    <tr>\n      <th>2</th>\n      <td>278.655</td>\n      <td>281.428571</td>\n      <td>112.2</td>\n      <td>111.272727</td>\n      <td>114.769231</td>\n      <td>69.866667</td>\n      <td>24.0</td>\n      <td>67.25</td>\n      <td>AK홀딩스</td>\n    </tr>\n    <tr>\n      <th>3</th>\n      <td>NaN</td>\n      <td>NaN</td>\n      <td>NaN</td>\n      <td>NaN</td>\n      <td>NaN</td>\n      <td>NaN</td>\n      <td>NaN</td>\n      <td>NaN</td>\n      <td>APS홀딩스</td>\n    </tr>\n    <tr>\n      <th>4</th>\n      <td>NaN</td>\n      <td>NaN</td>\n      <td>NaN</td>\n      <td>NaN</td>\n      <td>NaN</td>\n      <td>192.0</td>\n      <td>490.0</td>\n      <td>240.0</td>\n      <td>AP시스템</td>\n    </tr>\n  </tbody>\n</table>\n</div>"
     },
     "execution_count": 36,
     "metadata": {},
     "output_type": "execute_result"
    }
   ],
   "source": [
    "PER_data.head()"
   ],
   "metadata": {
    "collapsed": false,
    "pycharm": {
     "name": "#%%\n"
    }
   }
  },
  {
   "cell_type": "code",
   "execution_count": 37,
   "outputs": [],
   "source": [
    "PER_data.to_csv(\"data/PER.csv\", encoding=\"euc-kr\", index=False)"
   ],
   "metadata": {
    "collapsed": false,
    "pycharm": {
     "name": "#%%\n"
    }
   }
  }
 ],
 "metadata": {
  "kernelspec": {
   "display_name": "Python 3",
   "language": "python",
   "name": "python3"
  },
  "language_info": {
   "codemirror_mode": {
    "name": "ipython",
    "version": 2
   },
   "file_extension": ".py",
   "mimetype": "text/x-python",
   "name": "python",
   "nbconvert_exporter": "python",
   "pygments_lexer": "ipython2",
   "version": "2.7.6"
  }
 },
 "nbformat": 4,
 "nbformat_minor": 0
}