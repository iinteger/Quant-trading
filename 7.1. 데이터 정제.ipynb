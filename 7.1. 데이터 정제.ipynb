{
 "cells": [
  {
   "cell_type": "code",
   "execution_count": 20,
   "metadata": {
    "collapsed": true
   },
   "outputs": [],
   "source": [
    "import os\n",
    "from builtins import int\n",
    "\n",
    "import pandas as pd\n",
    "\n",
    "data = pd.read_csv(\"data/주요재무지표.csv\", encoding=\"euc-kr\")\n",
    "# 분석에 사용하지 않을 컬럼 드랍\n",
    "data.drop([\"자산총계\", \"부채총계\", \"자본총계\", \"매출액\", \"영업이익\", \"당기순이익\"], axis=1, inplace=True)"
   ]
  },
  {
   "cell_type": "code",
   "execution_count": 21,
   "outputs": [],
   "source": [
    "# settle_month_dict -> 기업별 결산 월\n",
    "\n",
    "stock_info_data = pd.read_csv(\"data/종목정보.txt\", sep=\"\\t\", encoding=\"euc-kr\")\n",
    "settle_month_dict = stock_info_data.set_index(\"Name\")[\"SettleMonth\"]\n",
    "settle_month_dict = settle_month_dict.apply(lambda x:int(x[:-1])).to_dict()"
   ],
   "metadata": {
    "collapsed": false,
    "pycharm": {
     "name": "#%%\n"
    }
   }
  },
  {
   "cell_type": "code",
   "execution_count": 22,
   "outputs": [],
   "source": [
    "# sub_due_dict -> {[결산월, 사업연도] : 제출마감일}\n",
    "\n",
    "sub_due_data = pd.read_csv(\"data/사업보고서_제출마감일.csv\", encoding=\"euc-kr\")\n",
    "sub_due_dict = sub_due_data.set_index([\"결산 월\", \"사업연도\"])[\"제출마감일\"].to_dict()"
   ],
   "metadata": {
    "collapsed": false,
    "pycharm": {
     "name": "#%%\n"
    }
   }
  },
  {
   "cell_type": "code",
   "execution_count": 23,
   "outputs": [
    {
     "name": "stderr",
     "output_type": "stream",
     "text": [
      "100%|██████████| 2370/2370 [00:19<00:00, 118.88it/s]\n"
     ]
    }
   ],
   "source": [
    "# sp_data_dict -> {종목명 : 주가 데이터}\n",
    "import os\n",
    "from tqdm import tqdm\n",
    "\n",
    "sp_data_dict = dict()\n",
    "for stock in tqdm(data[\"기업\"].unique()):\n",
    "    if stock + \".csv\" in os.listdir(\"data/주가데이터\"):\n",
    "        sp_data = pd.read_csv(\"data/주가데이터/\" + stock + \".csv\", usecols=[\"Date\", \"Close\"], parse_dates=[\"Date\"])\n",
    "        sp_data_dict[stock] = sp_data"
   ],
   "metadata": {
    "collapsed": false,
    "pycharm": {
     "name": "#%%\n"
    }
   }
  },
  {
   "cell_type": "code",
   "execution_count": 24,
   "outputs": [],
   "source": [
    "# 데이터 병합\n",
    "# 주가 데이터와 날짜가 입력됐을 때, 해당 날짜를 포함해서 가장 가까운 미래의 종가를 반환하는 함수\n",
    "import numpy as np\n",
    "\n",
    "\n",
    "def find_closest_stock_price(sp_data, date):\n",
    "    date = pd.to_datetime(date)\n",
    "    # 주가 데이터를 벗어나면 결측으로 반환\n",
    "    if sp_data[\"Date\"].max() < date:\n",
    "        return np.nan\n",
    "    else:\n",
    "        while True:\n",
    "            if sum(sp_data[\"Date\"] == date) > 0:\n",
    "                value = sp_data.loc[sp_data[\"Date\"] == date, \"Close\"].iloc[0]\n",
    "                break\n",
    "            else:\n",
    "                date += pd.to_timedelta(1, 'D')\n",
    "\n",
    "        return value\n",
    "\n"
   ],
   "metadata": {
    "collapsed": false,
    "pycharm": {
     "name": "#%%\n"
    }
   }
  },
  {
   "cell_type": "code",
   "execution_count": 25,
   "outputs": [
    {
     "name": "stderr",
     "output_type": "stream",
     "text": [
      "100%|██████████| 18044/18044 [06:40<00:00, 45.08it/s] \n"
     ]
    }
   ],
   "source": [
    "cur_sp_list = []  # 현재 주가\n",
    "next_sp_list = []  # 미래 주가\n",
    "\n",
    "for corp, year in tqdm(data[[\"기업\", \"연도\"]].values):\n",
    "    if corp not in sp_data_dict.keys():\n",
    "        cur_sp_list.append(np.nan)\n",
    "        next_sp_list.append(np.nan)\n",
    "    else:\n",
    "        sp_data = sp_data_dict[corp]\n",
    "        settle_month = settle_month_dict[corp]\n",
    "\n",
    "        # 현재 주가 탐색 및 추가\n",
    "        try:\n",
    "            cur_date = sub_due_dict[settle_month, year]\n",
    "            cur_sp = find_closest_stock_price(sp_data, cur_date)\n",
    "            cur_sp_list.append(cur_sp)\n",
    "        except:\n",
    "            cur_sp_list.append(np.nan)\n",
    "\n",
    "        # 미래 주가 탐색 및 추가\n",
    "        try:\n",
    "            next_date = sub_due_dict[settle_month, year+1]\n",
    "            next_sp = find_closest_stock_price(sp_data, next_date)\n",
    "            next_sp_list.append(next_sp)\n",
    "        except:\n",
    "            next_sp_list.append(np.nan)\n",
    "\n",
    "\n",
    "data[\"현재_주가\"] = cur_sp_list\n",
    "data[\"미래_주가\"] = next_sp_list"
   ],
   "metadata": {
    "collapsed": false,
    "pycharm": {
     "name": "#%%\n"
    }
   }
  },
  {
   "cell_type": "code",
   "execution_count": 26,
   "outputs": [],
   "source": [
    "# 배당금 및 PER 데이터 병합\n",
    "\n",
    "div_data = pd.read_csv(\"data/주당배당금.csv\", encoding=\"euc-kr\")\n",
    "PER_data = pd.read_csv(\"data/PER.csv\", encoding=\"euc-kr\")"
   ],
   "metadata": {
    "collapsed": false,
    "pycharm": {
     "name": "#%%\n"
    }
   }
  },
  {
   "cell_type": "code",
   "execution_count": 27,
   "outputs": [
    {
     "name": "stdout",
     "output_type": "stream",
     "text": [
      "  stock_name   2013   2014   2015   2016   2017   2018   2019   2020\n",
      "0         3S    NaN    NaN    NaN    0.0    0.0    0.0    0.0    0.0\n",
      "1     AJ네트웍스    0.0    0.0    0.0   60.0   86.0  100.0  300.0  210.0\n",
      "2      AK홀딩스  200.0  350.0  500.0  550.0  650.0  750.0  750.0  400.0\n",
      "3     APS홀딩스    0.0    0.0    0.0    0.0    0.0    0.0    0.0    0.0\n",
      "4      AP시스템    NaN    NaN    NaN    0.0    0.0  150.0   50.0  120.0\n",
      "      2013        2014   2015        2016        2017        2018        2019  \\\n",
      "0      NaN         NaN    NaN         NaN         NaN         NaN         NaN   \n",
      "1      NaN         NaN    NaN   96.666667   83.372093   48.100000    9.833333   \n",
      "2  278.655  281.428571  112.2  111.272727  114.769231   69.866667   24.000000   \n",
      "3      NaN         NaN    NaN         NaN         NaN         NaN         NaN   \n",
      "4      NaN         NaN    NaN         NaN         NaN  192.000000  490.000000   \n",
      "\n",
      "     2020 stock_name  \n",
      "0     NaN         3S  \n",
      "1   22.00     AJ네트웍스  \n",
      "2   67.25      AK홀딩스  \n",
      "3     NaN     APS홀딩스  \n",
      "4  240.00      AP시스템  \n"
     ]
    }
   ],
   "source": [
    "print(div_data.head())\n",
    "print(PER_data.head())"
   ],
   "metadata": {
    "collapsed": false,
    "pycharm": {
     "name": "#%%\n"
    }
   }
  },
  {
   "cell_type": "code",
   "execution_count": 28,
   "outputs": [],
   "source": [
    "# 데이터 구조 변환\n",
    "# div와 PER 데이터가 하나의 행이 한 기업과 사업 연도의 배당금과 PER을 나타내도록 변환\n",
    "\n",
    "year_col_list = [\"2013\",\"2014\",\"2015\",\"2016\",\"2017\",\"2018\",\"2019\",\"2020\"]\n",
    "div_data = div_data.melt(id_vars=[\"stock_name\"], value_vars=year_col_list)"
   ],
   "metadata": {
    "collapsed": false,
    "pycharm": {
     "name": "#%%\n"
    }
   }
  },
  {
   "cell_type": "code",
   "execution_count": 29,
   "outputs": [
    {
     "data": {
      "text/plain": "  stock_name variable  value\n0         3S     2013    NaN\n1     AJ네트웍스     2013    0.0\n2      AK홀딩스     2013  200.0\n3     APS홀딩스     2013    0.0\n4      AP시스템     2013    NaN",
      "text/html": "<div>\n<style scoped>\n    .dataframe tbody tr th:only-of-type {\n        vertical-align: middle;\n    }\n\n    .dataframe tbody tr th {\n        vertical-align: top;\n    }\n\n    .dataframe thead th {\n        text-align: right;\n    }\n</style>\n<table border=\"1\" class=\"dataframe\">\n  <thead>\n    <tr style=\"text-align: right;\">\n      <th></th>\n      <th>stock_name</th>\n      <th>variable</th>\n      <th>value</th>\n    </tr>\n  </thead>\n  <tbody>\n    <tr>\n      <th>0</th>\n      <td>3S</td>\n      <td>2013</td>\n      <td>NaN</td>\n    </tr>\n    <tr>\n      <th>1</th>\n      <td>AJ네트웍스</td>\n      <td>2013</td>\n      <td>0.0</td>\n    </tr>\n    <tr>\n      <th>2</th>\n      <td>AK홀딩스</td>\n      <td>2013</td>\n      <td>200.0</td>\n    </tr>\n    <tr>\n      <th>3</th>\n      <td>APS홀딩스</td>\n      <td>2013</td>\n      <td>0.0</td>\n    </tr>\n    <tr>\n      <th>4</th>\n      <td>AP시스템</td>\n      <td>2013</td>\n      <td>NaN</td>\n    </tr>\n  </tbody>\n</table>\n</div>"
     },
     "execution_count": 29,
     "metadata": {},
     "output_type": "execute_result"
    }
   ],
   "source": [
    "div_data.head()"
   ],
   "metadata": {
    "collapsed": false,
    "pycharm": {
     "name": "#%%\n"
    }
   }
  },
  {
   "cell_type": "code",
   "execution_count": 30,
   "outputs": [],
   "source": [
    "div_data.rename({\"stock_name\":\"기업\", \"variable\":\"연도\", \"value\":\"배당금\"}, axis=1, inplace=True)\n",
    "div_data[\"연도\"] = div_data[\"연도\"].astype(int)"
   ],
   "metadata": {
    "collapsed": false,
    "pycharm": {
     "name": "#%%\n"
    }
   }
  },
  {
   "cell_type": "code",
   "execution_count": 31,
   "outputs": [],
   "source": [
    "PER_data = PER_data.melt(id_vars=[\"stock_name\"], value_vars=year_col_list)\n",
    "PER_data.rename({\"stock_name\":\"기업\", \"variable\":\"연도\", \"value\":\"PER\"}, axis=1, inplace=True)\n",
    "PER_data[\"연도\"] = PER_data[\"연도\"].astype(int)"
   ],
   "metadata": {
    "collapsed": false,
    "pycharm": {
     "name": "#%%\n"
    }
   }
  },
  {
   "cell_type": "code",
   "execution_count": 32,
   "outputs": [],
   "source": [
    "data = pd.merge(data, div_data, on=[\"기업\", \"연도\"], how=\"left\")\n",
    "data = pd.merge(data, PER_data, on=[\"기업\", \"연도\"], how=\"left\")"
   ],
   "metadata": {
    "collapsed": false,
    "pycharm": {
     "name": "#%%\n"
    }
   }
  },
  {
   "cell_type": "code",
   "execution_count": 33,
   "outputs": [
    {
     "data": {
      "text/plain": "   기업    연도       부채비율     매출액증가율     영업이익증가율    당기순이익증가율 매출액_상태 영업이익_상태  \\\n0  3S  2013  70.612320        NaN         NaN         NaN   적자전환    적자전환   \n1  3S  2014  60.288336 -11.687845  173.179128  114.728018   훅자지속    적자전환   \n2  3S  2015  56.323967 -24.352916   38.894997   14.974005   훅자지속    적자지속   \n3  3S  2016  59.923676   2.240210  453.409466  -64.511098   훅자지속    훅자전환   \n4  3S  2017  54.331315  10.359573  148.592592   61.341308   훅자지속    적자전환   \n\n  당기순이익_상태        ROA        ROE   현재_주가   미래_주가  배당금  PER  \n0     적자전환   1.036271        NaN  6100.0  4350.0  NaN  NaN  \n1     적자전환  -6.675781 -10.489496  4350.0  2535.0  NaN  NaN  \n2     적자지속  -8.312107 -13.836280  2535.0  3595.0  NaN  NaN  \n3     적자지속  -5.893767  -9.383155  3595.0  2320.0  0.0  NaN  \n4     적자지속 -16.392325 -27.605322  2320.0  2685.0  0.0  NaN  ",
      "text/html": "<div>\n<style scoped>\n    .dataframe tbody tr th:only-of-type {\n        vertical-align: middle;\n    }\n\n    .dataframe tbody tr th {\n        vertical-align: top;\n    }\n\n    .dataframe thead th {\n        text-align: right;\n    }\n</style>\n<table border=\"1\" class=\"dataframe\">\n  <thead>\n    <tr style=\"text-align: right;\">\n      <th></th>\n      <th>기업</th>\n      <th>연도</th>\n      <th>부채비율</th>\n      <th>매출액증가율</th>\n      <th>영업이익증가율</th>\n      <th>당기순이익증가율</th>\n      <th>매출액_상태</th>\n      <th>영업이익_상태</th>\n      <th>당기순이익_상태</th>\n      <th>ROA</th>\n      <th>ROE</th>\n      <th>현재_주가</th>\n      <th>미래_주가</th>\n      <th>배당금</th>\n      <th>PER</th>\n    </tr>\n  </thead>\n  <tbody>\n    <tr>\n      <th>0</th>\n      <td>3S</td>\n      <td>2013</td>\n      <td>70.612320</td>\n      <td>NaN</td>\n      <td>NaN</td>\n      <td>NaN</td>\n      <td>적자전환</td>\n      <td>적자전환</td>\n      <td>적자전환</td>\n      <td>1.036271</td>\n      <td>NaN</td>\n      <td>6100.0</td>\n      <td>4350.0</td>\n      <td>NaN</td>\n      <td>NaN</td>\n    </tr>\n    <tr>\n      <th>1</th>\n      <td>3S</td>\n      <td>2014</td>\n      <td>60.288336</td>\n      <td>-11.687845</td>\n      <td>173.179128</td>\n      <td>114.728018</td>\n      <td>훅자지속</td>\n      <td>적자전환</td>\n      <td>적자전환</td>\n      <td>-6.675781</td>\n      <td>-10.489496</td>\n      <td>4350.0</td>\n      <td>2535.0</td>\n      <td>NaN</td>\n      <td>NaN</td>\n    </tr>\n    <tr>\n      <th>2</th>\n      <td>3S</td>\n      <td>2015</td>\n      <td>56.323967</td>\n      <td>-24.352916</td>\n      <td>38.894997</td>\n      <td>14.974005</td>\n      <td>훅자지속</td>\n      <td>적자지속</td>\n      <td>적자지속</td>\n      <td>-8.312107</td>\n      <td>-13.836280</td>\n      <td>2535.0</td>\n      <td>3595.0</td>\n      <td>NaN</td>\n      <td>NaN</td>\n    </tr>\n    <tr>\n      <th>3</th>\n      <td>3S</td>\n      <td>2016</td>\n      <td>59.923676</td>\n      <td>2.240210</td>\n      <td>453.409466</td>\n      <td>-64.511098</td>\n      <td>훅자지속</td>\n      <td>훅자전환</td>\n      <td>적자지속</td>\n      <td>-5.893767</td>\n      <td>-9.383155</td>\n      <td>3595.0</td>\n      <td>2320.0</td>\n      <td>0.0</td>\n      <td>NaN</td>\n    </tr>\n    <tr>\n      <th>4</th>\n      <td>3S</td>\n      <td>2017</td>\n      <td>54.331315</td>\n      <td>10.359573</td>\n      <td>148.592592</td>\n      <td>61.341308</td>\n      <td>훅자지속</td>\n      <td>적자전환</td>\n      <td>적자지속</td>\n      <td>-16.392325</td>\n      <td>-27.605322</td>\n      <td>2320.0</td>\n      <td>2685.0</td>\n      <td>0.0</td>\n      <td>NaN</td>\n    </tr>\n  </tbody>\n</table>\n</div>"
     },
     "execution_count": 33,
     "metadata": {},
     "output_type": "execute_result"
    }
   ],
   "source": [
    "data.head()"
   ],
   "metadata": {
    "collapsed": false,
    "pycharm": {
     "name": "#%%\n"
    }
   }
  },
  {
   "cell_type": "code",
   "execution_count": 34,
   "outputs": [],
   "source": [
    "data.to_csv(\"data/재무제표_분석용데이터.csv\", index=False, encoding=\"euc-kr\")"
   ],
   "metadata": {
    "collapsed": false,
    "pycharm": {
     "name": "#%%\n"
    }
   }
  }
 ],
 "metadata": {
  "kernelspec": {
   "display_name": "Python 3",
   "language": "python",
   "name": "python3"
  },
  "language_info": {
   "codemirror_mode": {
    "name": "ipython",
    "version": 2
   },
   "file_extension": ".py",
   "mimetype": "text/x-python",
   "name": "python",
   "nbconvert_exporter": "python",
   "pygments_lexer": "ipython2",
   "version": "2.7.6"
  }
 },
 "nbformat": 4,
 "nbformat_minor": 0
}