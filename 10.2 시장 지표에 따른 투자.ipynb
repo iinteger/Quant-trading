{
 "cells": [
  {
   "cell_type": "markdown",
   "metadata": {
    "collapsed": true,
    "pycharm": {
     "name": "#%% md\n"
    }
   },
   "source": [
    "## 시장 지표에 따른 투자\n",
    "* 주가의 추세나 변동성의 강도를 나타내는 지표로 주로 거래량을 사용함\n",
    "* EOM, RSI, MFI 등.."
   ]
  },
  {
   "cell_type": "code",
   "execution_count": 2,
   "outputs": [],
   "source": [
    "import os\n",
    "import pandas as pd\n",
    "from tqdm import tqdm\n",
    "\n",
    "sp_data_dict = dict()\n",
    "for file_name in os.listdir(\"data/주가데이터\"):\n",
    "    sp_data = pd.read_csv(\"data/주가데이터/\" + file_name, parse_dates = ['Date'])\n",
    "    stock_name = file_name.replace('.csv', '')\n",
    "    sp_data_dict[stock_name] = sp_data"
   ],
   "metadata": {
    "collapsed": false,
    "pycharm": {
     "name": "#%%\n"
    }
   }
  },
  {
   "cell_type": "code",
   "execution_count": 3,
   "outputs": [],
   "source": [
    "import warnings\n",
    "\n",
    "warnings.filterwarnings(\"ignore\")"
   ],
   "metadata": {
    "collapsed": false,
    "pycharm": {
     "name": "#%%\n"
    }
   }
  },
  {
   "cell_type": "code",
   "execution_count": 4,
   "outputs": [],
   "source": [
    "import seaborn as sns\n",
    "from matplotlib import pyplot as plt\n",
    "from matplotlib import rcParams\n",
    "\n",
    "sns.set()\n",
    "%matplotlib inline\n",
    "rcParams['font.family'] = 'Malgun Gothic'\n",
    "rcParams['axes.unicode_minus'] = False"
   ],
   "metadata": {
    "collapsed": false,
    "pycharm": {
     "name": "#%%\n"
    }
   }
  },
  {
   "cell_type": "markdown",
   "source": [
    "## EOM 지수\n",
    "* 주가와 거래량의 상관관계를 바탕으로 한 지수\n",
    "* 거래량이 적은데 주가가 상승하면 EOM 지수가 크고 하락하면 EOM 지수가 작음\n",
    "* 거래양이 많고 주가 변동이 없으면 0 근처에서 변동\n",
    "* 즉, EOM 지수나 EOM 이동평균선이 0을 상향 돌파하면 매수 신호, 하향 돌파하면 매도 신호로 볼 수 있음\n",
    "* EOM = midpoint move / box ratio\n",
    "* modpoint move = ((당일 고가 + 당일 저가) - (전일 고가 + 전일 저가)) / 2\n",
    "* box ratio = (거래량 / 10000) / (당일 고가 - 당일 저가)"
   ],
   "metadata": {
    "collapsed": false,
    "pycharm": {
     "name": "#%% md\n"
    }
   }
  },
  {
   "cell_type": "code",
   "execution_count": 5,
   "outputs": [
    {
     "name": "stderr",
     "output_type": "stream",
     "text": [
      "100%|██████████| 2170/2170 [00:07<00:00, 290.80it/s]\n"
     ]
    }
   ],
   "source": [
    "import numpy as np\n",
    "\n",
    "# 종목별 eom 지수 계산\n",
    "eom_data_dict = dict()\n",
    "\n",
    "for stock_name in tqdm(sp_data_dict.keys()):\n",
    "    eom_data = sp_data_dict[stock_name].copy()\n",
    "    high_price = eom_data[\"High\"].values\n",
    "    low_price = eom_data[\"Low\"].values\n",
    "    volume = eom_data[\"Volume\"].values\n",
    "\n",
    "    MM = ((high_price[1:] + low_price[1:]) - (high_price[:-1] + low_price[:-1])) / 2\n",
    "    BR = (volume[1:] / 10000) / (high_price[1:] - low_price[1:])\n",
    "    EOM = MM / BR\n",
    "\n",
    "    eom_data.drop(0, inplace = True)\n",
    "    eom_data[\"EOM\"] = EOM\n",
    "    eom_data[\"EOM_5\"] = eom_data[\"EOM\"].rolling(5).mean()\n",
    "    eom_data[\"EOM_10\"] = eom_data[\"EOM\"].rolling(10).mean()\n",
    "    eom_data[\"EOM_20\"] = eom_data[\"EOM\"].rolling(20).mean()\n",
    "\n",
    "    eom_data_dict[stock_name] = eom_data"
   ],
   "metadata": {
    "collapsed": false,
    "pycharm": {
     "name": "#%%\n"
    }
   }
  },
  {
   "cell_type": "code",
   "execution_count": 8,
   "outputs": [],
   "source": [
    "# eom 지수가 이동평균선이 0을 상향 돌파하면 매수, 하향 돌파하면 매도\n",
    "\n",
    "def ror_using_EOM(eom_data_dict, EOM_col):\n",
    "    ror_list = []\n",
    "    for stock_name in tqdm(eom_data_dict.keys()):\n",
    "        eom_data = eom_data_dict[stock_name]\n",
    "        EOM = eom_data[EOM_col].values\n",
    "        buy_point_list = (EOM[1:] > 0) & (EOM[:-1] <= 0)\n",
    "        buy_point_list = np.insert(buy_point_list, 0, False)\n",
    "        buy_point_list = eom_data.index[buy_point_list]\n",
    "\n",
    "        sell_point_list = (EOM[1:] < 0) & (EOM[:-1] >= 0)\n",
    "        sell_point_list = np.insert(sell_point_list, 0, False)\n",
    "        sell_point_list = eom_data.index[sell_point_list]\n",
    "        for bp in buy_point_list:\n",
    "            if (sum(bp < sell_point_list) > 0) and (bp + 1 <= eom_data.index[-1]):\n",
    "                buy_price = eom_data.loc[bp + 1, \"Close\"]\n",
    "                sp = sell_point_list[sell_point_list > bp][0] + 1\n",
    "                if sp <= eom_data.index[-1]:\n",
    "                    sell_price = eom_data.loc[sp, \"Close\"]\n",
    "                    ror = (sell_price - buy_price) / buy_price * 100\n",
    "                    ror_list.append(ror)\n",
    "            else:\n",
    "                break\n",
    "    return np.array(ror_list)"
   ],
   "metadata": {
    "collapsed": false,
    "pycharm": {
     "name": "#%%\n"
    }
   }
  },
  {
   "cell_type": "code",
   "execution_count": 9,
   "outputs": [
    {
     "name": "stderr",
     "output_type": "stream",
     "text": [
      "100%|██████████| 2170/2170 [21:52<00:00,  1.65it/s]\n",
      "100%|██████████| 2170/2170 [04:27<00:00,  8.11it/s]\n",
      "100%|██████████| 2170/2170 [02:18<00:00, 15.63it/s]\n",
      "100%|██████████| 2170/2170 [01:16<00:00, 28.21it/s]\n"
     ]
    }
   ],
   "source": [
    "EOM_1_ror = ror_using_EOM(eom_data_dict, \"EOM\")\n",
    "EOM_5_ror = ror_using_EOM(eom_data_dict, \"EOM_5\")\n",
    "EOM_10_ror = ror_using_EOM(eom_data_dict, \"EOM_10\")\n",
    "EOM_20_ror = ror_using_EOM(eom_data_dict, \"EOM_20\")"
   ],
   "metadata": {
    "collapsed": false,
    "pycharm": {
     "name": "#%%\n"
    }
   }
  },
  {
   "cell_type": "code",
   "execution_count": 10,
   "outputs": [
    {
     "data": {
      "text/plain": "<Figure size 432x288 with 1 Axes>",
      "image/png": "[encoded data removed]"
     },
     "metadata": {
      "needs_background": "light"
     },
     "output_type": "display_data"
    },
    {
     "name": "stdout",
     "output_type": "stream",
     "text": [
      "                 0           1           2           3\n",
      "count  1033917.000  445371.000  311662.000  213402.000\n",
      "mean         0.176       0.272       0.516       0.673\n",
      "std          5.645       8.320      10.280      12.296\n",
      "min        -90.295     -91.836     -71.042     -84.088\n",
      "25%         -1.962      -2.861      -3.081      -3.180\n",
      "50%         -0.219      -0.543      -0.574      -0.624\n",
      "75%          1.448       1.645       1.770       1.731\n",
      "max        664.131     588.158     857.627    1138.938\n"
     ]
    }
   ],
   "source": [
    "# eom 지수 수치를 사용하여 얻은 수익률을 박스플롯으로 시각화\n",
    "\n",
    "plt.boxplot([EOM_1_ror, EOM_5_ror, EOM_10_ror, EOM_20_ror])\n",
    "plt.xticks([1, 2, 3, 4], [1, 5, 10, 20])\n",
    "plt.ylim(-10, 10)\n",
    "plt.show()\n",
    "\n",
    "result = pd.concat([pd.Series(EOM_1_ror).describe(),\n",
    "                    pd.Series(EOM_5_ror).describe(),\n",
    "                    pd.Series(EOM_10_ror).describe(),\n",
    "                    pd.Series(EOM_20_ror).describe()], axis = 1)\n",
    "\n",
    "print(result.round(3))\n",
    "\n",
    "# 이상치는 대부분 잘렸으나 박스가 -2.5 ~ 2.5 사이에서 형성됨\n",
    "# 중위수인 주황선이 모두 0 아래에서 형성되었고, 평균도 0 근처로 형성되어 결과는 좋지 않다고 볼 수 있음"
   ],
   "metadata": {
    "collapsed": false,
    "pycharm": {
     "name": "#%%\n"
    }
   }
  },
  {
   "cell_type": "markdown",
   "source": [
    "## RSI\n",
    "* 매수와 매도 압력 간의 상대적인 강도를 나타내는 지표\n",
    "* 0.7 이상이면 초과 매수, 0.3 미만이면 초과 매도 국면\n",
    "* RSI = n영업일의 상승 폭 합계 / (n영업일의 상승 폭 합계 + n영업일의 하락 폭 합계)"
   ],
   "metadata": {
    "collapsed": false,
    "pycharm": {
     "name": "#%% md\n"
    }
   }
  },
  {
   "cell_type": "code",
   "execution_count": 11,
   "outputs": [
    {
     "name": "stderr",
     "output_type": "stream",
     "text": [
      "100%|██████████| 2170/2170 [00:10<00:00, 204.52it/s]\n"
     ]
    }
   ],
   "source": [
    "rsi_data_dict = dict()\n",
    "\n",
    "for stock_name in tqdm(sp_data_dict.keys()):\n",
    "    rsi_data = sp_data_dict[stock_name][['Close']].copy()\n",
    "    price = rsi_data[\"Close\"].values\n",
    "    rise = price[1:] - price[:-1]\n",
    "    rise[rise < 0] = 0\n",
    "    fall = price[:-1] - price[1:]\n",
    "    fall[fall < 0] = 0\n",
    "\n",
    "    rsi_data.drop(0, inplace = True)\n",
    "    rsi_data[\"상승폭\"] = rise\n",
    "    rsi_data[\"하락폭\"] = fall\n",
    "\n",
    "    for n in [5, 10, 20]:\n",
    "        sum_rise_n = rsi_data[\"상승폭\"].rolling(n).sum()\n",
    "        sum_fall_n = rsi_data[\"하락폭\"].rolling(n).sum()\n",
    "        rsi_data[\"RSI_\" + str(n)] = sum_rise_n / (sum_rise_n + sum_fall_n)\n",
    "\n",
    "    rsi_data_dict[stock_name] = rsi_data"
   ],
   "metadata": {
    "collapsed": false,
    "pycharm": {
     "name": "#%%\n"
    }
   }
  },
  {
   "cell_type": "code",
   "execution_count": 12,
   "outputs": [
    {
     "name": "stderr",
     "output_type": "stream",
     "text": [
      "100%|██████████| 2170/2170 [04:13<00:00,  8.54it/s]\n",
      "100%|██████████| 2170/2170 [01:15<00:00, 28.70it/s]\n",
      "100%|██████████| 2170/2170 [00:20<00:00, 106.17it/s]"
     ]
    },
    {
     "name": "stdout",
     "output_type": "stream",
     "text": [
      "                  5              10            20\n",
      "count  408912.000000  227385.000000  98768.000000\n",
      "mean        0.785783       1.686163      5.531243\n",
      "std         9.171162      13.361089     21.966329\n",
      "min       -96.281762     -96.525670    -95.512098\n",
      "25%        -2.469136      -4.043127     -5.408187\n",
      "50%         1.219512       2.542373      5.920702\n",
      "75%         4.681055       7.823129     15.663390\n",
      "max       622.311176     638.362760    900.113766\n"
     ]
    },
    {
     "name": "stderr",
     "output_type": "stream",
     "text": [
      "\n"
     ]
    }
   ],
   "source": [
    "# RSI가 0.3 미만이면 매수, 0.7 이상이면 매도하는 전략\n",
    "\n",
    "result = pd.DataFrame()\n",
    "\n",
    "for n in [5, 10, 20]:\n",
    "    record = []\n",
    "    for stock_name in tqdm(rsi_data_dict.keys()):\n",
    "        rsi_data = rsi_data_dict[stock_name]\n",
    "        RSI = rsi_data[\"RSI_\" + str(n)].values\n",
    "\n",
    "        buy_point_list = (RSI[1:] < 0.3) & (RSI[:-1] >= 0.3)\n",
    "        buy_point_list = np.insert(buy_point_list, 0, False)\n",
    "        buy_point_list = rsi_data.index[buy_point_list]\n",
    "        sell_point_list = (RSI[1:] >= 0.7) & (RSI[:-1] < 0.7)\n",
    "        sell_point_list = np.insert(sell_point_list, 0, False)\n",
    "        sell_point_list = rsi_data.index[sell_point_list]\n",
    "\n",
    "        for bp in buy_point_list:\n",
    "            if (sum(bp < sell_point_list) > 0) and (bp + 1 <= rsi_data.index[-1]):\n",
    "                buy_price = rsi_data.loc[bp + 1, \"Close\"]\n",
    "                sp = sell_point_list[sell_point_list > bp][0] + 1\n",
    "                if sp <= rsi_data.index[-1]:\n",
    "                    sell_price = rsi_data.loc[sp, \"Close\"]\n",
    "                    profit = (sell_price - buy_price) / buy_price * 100\n",
    "                    record.append(profit)\n",
    "            else:\n",
    "                break\n",
    "\n",
    "    result = pd.concat([result, pd.Series(record).describe()], axis = 1)\n",
    "\n",
    "result.columns = [5, 10, 20]\n",
    "print(result)\n",
    "\n",
    "# 모든 경우에서 평균과 중위수가 양수이며, 기간이 길어질수록 수익률이 높아짐\n",
    "# 1분위수와 3분위수가 중위값과 멀리 있기 때문에 편차가 크지만 일반적으로 좋은 전략임"
   ],
   "metadata": {
    "collapsed": false,
    "pycharm": {
     "name": "#%%\n"
    }
   }
  },
  {
   "cell_type": "code",
   "execution_count": 13,
   "outputs": [
    {
     "name": "stderr",
     "output_type": "stream",
     "text": [
      "100%|██████████| 2170/2170 [06:13<00:00,  5.81it/s]\n",
      "100%|██████████| 2170/2170 [02:44<00:00, 13.19it/s]\n",
      "100%|██████████| 2170/2170 [01:39<00:00, 21.77it/s]"
     ]
    },
    {
     "name": "stdout",
     "output_type": "stream",
     "text": [
      "                  5              10             20\n",
      "count  491235.000000  339638.000000  236894.000000\n",
      "mean        0.271884       0.573149       0.715459\n",
      "std         8.732927      11.349884      14.099954\n",
      "min       -93.047619     -90.734824     -90.075529\n",
      "25%        -2.829568      -3.109656      -3.283582\n",
      "50%        -0.588235      -0.623053      -0.708299\n",
      "75%         1.451430       1.486989       1.347638\n",
      "max       994.017094     975.498575    1241.880342\n"
     ]
    },
    {
     "name": "stderr",
     "output_type": "stream",
     "text": [
      "\n"
     ]
    }
   ],
   "source": [
    "# RSI가 0.5 상향 돌파하면 매수, 0.5 하향 돌파하면 매도\n",
    "\n",
    "result = pd.DataFrame()\n",
    "\n",
    "for n in [5, 10, 20]:\n",
    "    record = []\n",
    "    for stock_name in tqdm(rsi_data_dict.keys()):\n",
    "        rsi_data = rsi_data_dict[stock_name]\n",
    "        RSI = rsi_data[\"RSI_\" + str(n)].values\n",
    "\n",
    "        buy_point_list = (RSI[1:] >= 0.5) & (RSI[:-1] < 0.5)\n",
    "        buy_point_list = np.insert(buy_point_list, 0, False)\n",
    "        buy_point_list = rsi_data.index[buy_point_list]\n",
    "        sell_point_list = (RSI[1:] < 0.5) & (RSI[:-1] >= 0.5)\n",
    "        sell_point_list = np.insert(sell_point_list, 0, False)\n",
    "        sell_point_list = rsi_data.index[sell_point_list]\n",
    "\n",
    "        for bp in buy_point_list:\n",
    "            if (sum(bp < sell_point_list) > 0) and (bp + 1 <= rsi_data.index[-1]):\n",
    "                buy_price = rsi_data.loc[bp + 1, \"Close\"]\n",
    "                sp = sell_point_list[sell_point_list > bp][0] + 1\n",
    "                if sp <= rsi_data.index[-1]:\n",
    "                    sell_price = rsi_data.loc[sp, \"Close\"]\n",
    "                    profit = (sell_price - buy_price) / buy_price * 100\n",
    "                    record.append(profit)\n",
    "            else:\n",
    "                break\n",
    "\n",
    "    result = pd.concat([result, pd.Series(record).describe()], axis = 1)\n",
    "\n",
    "result.columns = [5, 10, 20]\n",
    "print(result)\n",
    "\n",
    "# 평균은 0에 근접하고, 중위수가 모두 음수임. 과반이 실패하는 전략임을 의미"
   ],
   "metadata": {
    "collapsed": false,
    "pycharm": {
     "name": "#%%\n"
    }
   }
  },
  {
   "cell_type": "markdown",
   "source": [
    "## MFI\n",
    "* 자금의 유입과 유출로 가격의 추세전환 시기와 과열 정도를 측정하는 지표. RSI에 거래량을 추가로 고려함\n",
    "* MFI(Money Flow Index) = MR / (1 + MR)\n",
    "* MR(Money Ratio) = PMF / NMF\n",
    "* Positive : 당일 가격이 전일 가격보다 상승 했을때의 MF 합계. N은 하락했을때\n",
    "* MF(Money Flow) = 거래량 * (당일 고가 + 당일 저가 + 당일 종가) / 3"
   ],
   "metadata": {
    "collapsed": false,
    "pycharm": {
     "name": "#%% md\n"
    }
   }
  },
  {
   "cell_type": "code",
   "execution_count": 14,
   "outputs": [
    {
     "name": "stderr",
     "output_type": "stream",
     "text": [
      "100%|██████████| 2170/2170 [00:10<00:00, 215.42it/s]\n"
     ]
    }
   ],
   "source": [
    "mfi_data_dict = dict()\n",
    "\n",
    "# 종목별 MFI 계산\n",
    "for stock_name in tqdm(sp_data_dict.keys()):\n",
    "    mfi_data = sp_data_dict[stock_name][['Close']].copy()\n",
    "    sp_data = sp_data_dict[stock_name]\n",
    "    close_price = sp_data[\"Close\"].values\n",
    "    low_price = sp_data[\"Low\"].values\n",
    "    high_price = sp_data[\"High\"].values\n",
    "    volume = sp_data[\"Volume\"].values\n",
    "\n",
    "    MF = volume[1:] * (high_price[1:] + low_price[1:] + close_price[1:]) / 3\n",
    "    PMF = np.zeros(len(MF))\n",
    "    NMF = np.zeros(len(MF))\n",
    "\n",
    "    PMF[close_price[1:] > close_price[:-1]] = MF[close_price[1:] > close_price[:-1]]\n",
    "    NMF[close_price[1:] < close_price[:-1]] = MF[close_price[1:] < close_price[:-1]]\n",
    "\n",
    "    mfi_data.drop(0, inplace = True)\n",
    "    mfi_data[\"PMF\"] = PMF\n",
    "    mfi_data[\"NMF\"] = NMF\n",
    "\n",
    "    for n in [5, 10, 20]:\n",
    "        PMF_n = mfi_data[\"PMF\"].rolling(n).sum()\n",
    "        NMF_n = mfi_data[\"NMF\"].rolling(n).sum()\n",
    "        MR = PMF_n / NMF_n\n",
    "        mfi_data[\"MFI_\" + str(n)] = MR / (1 + MR)\n",
    "\n",
    "    mfi_data_dict[stock_name] = mfi_data"
   ],
   "metadata": {
    "collapsed": false,
    "pycharm": {
     "name": "#%%\n"
    }
   }
  },
  {
   "cell_type": "code",
   "execution_count": 16,
   "outputs": [
    {
     "name": "stderr",
     "output_type": "stream",
     "text": [
      "100%|██████████| 2170/2170 [03:11<00:00, 11.35it/s]\n",
      "100%|██████████| 2170/2170 [01:08<00:00, 31.68it/s]\n",
      "100%|██████████| 2170/2170 [19:11<00:00,  1.88it/s]  "
     ]
    },
    {
     "name": "stdout",
     "output_type": "stream",
     "text": [
      "                  5              10            20\n",
      "count  380488.000000  206862.000000  91223.000000\n",
      "mean        0.781614       1.517623      3.905129\n",
      "std         9.449640      12.654692     17.805018\n",
      "min       -95.197728     -94.395542    -96.027014\n",
      "25%        -2.727273      -3.827963     -4.501608\n",
      "50%         1.101591       2.087287      4.087591\n",
      "75%         4.817518       7.395456     12.184228\n",
      "max       547.479881     587.077308    643.178120\n"
     ]
    },
    {
     "name": "stderr",
     "output_type": "stream",
     "text": [
      "\n"
     ]
    }
   ],
   "source": [
    "# MFI가 0.3 미만이면 매수, 0.7 이상이면 매도하는 전략\n",
    "\n",
    "result = pd.DataFrame()\n",
    "for n in [5, 10, 20]:\n",
    "    record = []\n",
    "    for stock_name in tqdm(mfi_data_dict.keys()):\n",
    "        mfi_data = mfi_data_dict[stock_name]\n",
    "        MFI = mfi_data[\"MFI_\" + str(n)].values\n",
    "\n",
    "        buy_point_list = (MFI[1:] < 0.3) & (MFI[:-1] >= 0.3)\n",
    "        buy_point_list = np.insert(buy_point_list, 0, False)\n",
    "        buy_point_list = mfi_data.index[buy_point_list]\n",
    "        sell_point_list = (MFI[1:] >= 0.7) & (MFI[:-1] < 0.7)\n",
    "        sell_point_list = np.insert(sell_point_list, 0, False)\n",
    "        sell_point_list = mfi_data.index[sell_point_list]\n",
    "\n",
    "        for bp in buy_point_list:\n",
    "            if (sum(bp < sell_point_list) > 0) and (bp + 1 <= mfi_data.index[-1]):\n",
    "                buy_price = mfi_data.loc[bp + 1, \"Close\"]\n",
    "                sp = sell_point_list[sell_point_list > bp][0] + 1\n",
    "                if sp <= mfi_data.index[-1]:\n",
    "                    sell_price = mfi_data.loc[sp, \"Close\"]\n",
    "                    profit = (sell_price - buy_price) / buy_price * 100\n",
    "                    record.append(profit)\n",
    "            else:\n",
    "                break\n",
    "    result = pd.concat([result, pd.Series(record).describe()], axis = 1)\n",
    "\n",
    "result.columns = [5, 10, 20]\n",
    "print(result)\n",
    "\n",
    "# 평균값과 중위수 모두 0 이상\n",
    "# RSI와 같이 기간이 늘어날수록 수익률도 높아짐\n",
    "# RSI에 비해서 수익률은 약간 낮지만 편차도 작아서 보다 안정적으로 수익을 얻을 수 있음"
   ],
   "metadata": {
    "collapsed": false,
    "pycharm": {
     "name": "#%%\n"
    }
   }
  },
  {
   "cell_type": "code",
   "execution_count": 19,
   "outputs": [
    {
     "name": "stderr",
     "output_type": "stream",
     "text": [
      "100%|██████████| 2170/2170 [05:31<00:00,  6.54it/s]\n",
      "100%|██████████| 2170/2170 [02:17<00:00, 15.75it/s]\n",
      "100%|██████████| 2170/2170 [01:08<00:00, 31.75it/s]\n"
     ]
    },
    {
     "name": "stdout",
     "output_type": "stream",
     "text": [
      "                  5              10             20\n",
      "count  469610.000000  313292.000000  205043.000000\n",
      "mean        0.325552       0.649578       0.960813\n",
      "std         9.199008      12.522949      16.473313\n",
      "min       -85.443291     -85.283546     -90.828829\n",
      "25%        -2.957912      -3.365005      -3.797285\n",
      "50%        -0.551876      -0.613497      -0.701425\n",
      "75%         1.668387       1.840491       1.869159\n",
      "max       694.736842    1322.222222    1011.111111\n"
     ]
    }
   ],
   "source": [
    "# MFI가 0.5를 상향 돌파하면 매수, 하향 돌파하면 매도\n",
    "\n",
    "result = pd.DataFrame()\n",
    "\n",
    "for n in [5, 10, 20]:\n",
    "    record = []\n",
    "    for stock_name in tqdm(mfi_data_dict.keys()):\n",
    "        mfi_data = mfi_data_dict[stock_name]\n",
    "        MFI = mfi_data[\"MFI_\" + str(n)].values\n",
    "\n",
    "        buy_point_list = (MFI[1:] >= 0.5) & (MFI[:-1] < 0.5)\n",
    "        buy_point_list = np.insert(buy_point_list, 0, False)\n",
    "        buy_point_list = mfi_data.index[buy_point_list]\n",
    "        sell_point_list = (MFI[1:] < 0.5) & (MFI[:-1] >= 0.5)\n",
    "        sell_point_list = np.insert(sell_point_list, 0, False)\n",
    "        sell_point_list = mfi_data.index[sell_point_list]\n",
    "\n",
    "        for bp in buy_point_list:\n",
    "            if (sum(bp < sell_point_list) > 0) and (bp + 1 <= mfi_data.index[-1]):\n",
    "                buy_price = mfi_data.loc[bp + 1, \"Close\"]\n",
    "                sp = sell_point_list[sell_point_list > bp][0] + 1\n",
    "                if sp <= mfi_data.index[-1]:\n",
    "                    sell_price = mfi_data.loc[sp, \"Close\"]\n",
    "                    profit = (sell_price - buy_price) / buy_price * 100\n",
    "                    record.append(profit)\n",
    "            else:\n",
    "                break\n",
    "    result = pd.concat([result, pd.Series(record).describe()], axis = 1)\n",
    "\n",
    "result.columns = [5, 10, 20]\n",
    "print(result)\n",
    "\n",
    "# 평균이 0 근처, 중위수가 모두 음수이므로 좋은 전략은 아님"
   ],
   "metadata": {
    "collapsed": false,
    "pycharm": {
     "name": "#%%\n"
    }
   }
  }
 ],
 "metadata": {
  "kernelspec": {
   "display_name": "Python 3",
   "language": "python",
   "name": "python3"
  },
  "language_info": {
   "codemirror_mode": {
    "name": "ipython",
    "version": 2
   },
   "file_extension": ".py",
   "mimetype": "text/x-python",
   "name": "python",
   "nbconvert_exporter": "python",
   "pygments_lexer": "ipython2",
   "version": "2.7.6"
  }
 },
 "nbformat": 4,
 "nbformat_minor": 0
}