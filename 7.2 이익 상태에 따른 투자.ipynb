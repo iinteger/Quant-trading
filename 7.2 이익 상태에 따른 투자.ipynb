{
 "cells": [
  {
   "cell_type": "markdown",
   "metadata": {
    "collapsed": true,
    "pycharm": {
     "name": "#%% md\n"
    }
   },
   "source": [
    "# 영업이익과 당기순이익의 상태에 따라 투자했을 때의 기대수익 비교"
   ]
  },
  {
   "cell_type": "code",
   "execution_count": 10,
   "outputs": [],
   "source": [
    "# 데이터 준비\n",
    "\n",
    "import pandas as pd\n",
    "\n",
    "cols = [\"기업\", \"연도\", \"현재_주가\", \"미래_주가\", \"영업이익_상태\", \"당기순이익_상태\"]\n",
    "data = pd.read_csv(\"data/재무제표_분석용데이터.csv\", usecols=cols, encoding=\"euc-kr\")"
   ],
   "metadata": {
    "collapsed": false,
    "pycharm": {
     "name": "#%%\n"
    }
   }
  },
  {
   "cell_type": "code",
   "execution_count": 11,
   "outputs": [],
   "source": [
    "# 결측치는 제거\n",
    "data.dropna(inplace=True)"
   ],
   "metadata": {
    "collapsed": false,
    "pycharm": {
     "name": "#%%\n"
    }
   }
  },
  {
   "cell_type": "code",
   "execution_count": 12,
   "outputs": [],
   "source": [
    "import warnings\n",
    "warnings.filterwarnings(\"ignore\")"
   ],
   "metadata": {
    "collapsed": false,
    "pycharm": {
     "name": "#%%\n"
    }
   }
  },
  {
   "cell_type": "code",
   "execution_count": 13,
   "outputs": [],
   "source": [
    "import seaborn as sns\n",
    "import matplotlib.pyplot as plt\n",
    "from matplotlib import rcParams\n",
    "sns.set()\n",
    "%matplotlib inline\n",
    "rcParams['font.family'] = 'Malgun Gothic'\n",
    "rcParams['axes.unicode_minus'] = False"
   ],
   "metadata": {
    "collapsed": false,
    "pycharm": {
     "name": "#%%\n"
    }
   }
  },
  {
   "cell_type": "code",
   "execution_count": 14,
   "outputs": [
    {
     "name": "stdout",
     "output_type": "stream",
     "text": [
      "흑자지속    0.656179\n",
      "적자지속    0.145142\n",
      "흑자전환    0.100817\n",
      "적자전환    0.097862\n",
      "Name: 영업이익_상태, dtype: float64\n",
      "흑자지속    0.564401\n",
      "적자지속    0.192856\n",
      "흑자전환    0.122371\n",
      "적자전환    0.120372\n",
      "Name: 당기순이익_상태, dtype: float64\n"
     ]
    }
   ],
   "source": [
    "# 상태 변수 분포 확인\n",
    "\n",
    "print(data[\"영업이익_상태\"].value_counts(normalize=True))\n",
    "print(data[\"당기순이익_상태\"].value_counts(normalize=True))\n",
    "\n",
    "# 두 컬럼 모두 흑자지속-적자지속-적자전환-흑자전환 순으로 빈도가 높음"
   ],
   "metadata": {
    "collapsed": false,
    "pycharm": {
     "name": "#%%\n"
    }
   }
  },
  {
   "cell_type": "code",
   "execution_count": 16,
   "outputs": [
    {
     "data": {
      "text/plain": "Text(0, 0.5, '수익률')"
     },
     "execution_count": 16,
     "metadata": {},
     "output_type": "execute_result"
    },
    {
     "data": {
      "text/plain": "<Figure size 720x432 with 1 Axes>",
      "image/png": "[encoded data removed]"
     },
     "metadata": {
      "needs_background": "light"
     },
     "output_type": "display_data"
    }
   ],
   "source": [
    "# 영업이익 상태에 따르 수익률 시각화\n",
    "\n",
    "data[\"수익률\"] = (data[\"미래_주가\"]-data[\"현재_주가\"]) / data[\"현재_주가\"]*100\n",
    "\n",
    "plt.figure(figsize=(10, 6))\n",
    "graph_data = []\n",
    "\n",
    "for state in [\"흑자지속\", \"적자지속\", \"흑자전환\", \"적자전환\"]:\n",
    "    value = data.loc[data[\"영업이익_상태\"]==state, \"수익률\"]\n",
    "    graph_data.append(value)\n",
    "\n",
    "plt.boxplot(graph_data)\n",
    "plt.ylim(-100, 100)\n",
    "plt.xticks([1, 2, 3, 4], [\"흑자지속\", \"적자지속\", \"흑자전환\", \"적자전환\"])\n",
    "plt.ylabel(\"수익률\")\n",
    "\n",
    "# 흑자전환일 때 박스가 가장 높게 위치하고 적자지속일때 아랫쪽에 위치하나, 완벽하게 선형관계인것은 아님"
   ],
   "metadata": {
    "collapsed": false,
    "pycharm": {
     "name": "#%%\n"
    }
   }
  },
  {
   "cell_type": "code",
   "execution_count": 18,
   "outputs": [
    {
     "data": {
      "text/plain": "Text(0, 0.5, '수익률')"
     },
     "execution_count": 18,
     "metadata": {},
     "output_type": "execute_result"
    },
    {
     "data": {
      "text/plain": "<Figure size 720x432 with 1 Axes>",
      "image/png": "[encoded data removed]"
     },
     "metadata": {
      "needs_background": "light"
     },
     "output_type": "display_data"
    }
   ],
   "source": [
    "# 당기순이익 상태에 따르 수익률 시각화\n",
    "\n",
    "plt.figure(figsize=(10, 6))\n",
    "graph_data = []\n",
    "\n",
    "for state in [\"흑자지속\", \"적자지속\", \"흑자전환\", \"적자전환\"]:\n",
    "    value = data.loc[data[\"당기순이익_상태\"]==state, \"수익률\"]\n",
    "    graph_data.append(value)\n",
    "\n",
    "plt.boxplot(graph_data)\n",
    "plt.ylim(-100, 100)\n",
    "plt.xticks([1, 2, 3, 4], [\"흑자지속\", \"적자지속\", \"흑자전환\", \"적자전환\"])\n",
    "plt.ylabel(\"수익률\")\n",
    "\n",
    "# 영업이익-수익률 분포는 당기순이익-수익률 분포와 비슷함"
   ],
   "metadata": {
    "collapsed": false,
    "pycharm": {
     "name": "#%%\n"
    }
   }
  },
  {
   "cell_type": "code",
   "execution_count": 20,
   "outputs": [
    {
     "name": "stdout",
     "output_type": "stream",
     "text": [
      "          count   mean     std    min    25%   50%    75%      max\n",
      "영업이익_상태                                                           \n",
      "적자전환     1126.0  21.61   85.27 -91.53 -27.12  0.00  42.39   763.73\n",
      "적자지속     1670.0  19.03  102.25 -89.87 -34.69 -3.30  37.42  1863.16\n",
      "흑자전환     1160.0  26.87   98.92 -86.09 -21.23  2.08  40.41  1603.51\n",
      "흑자지속     7550.0  15.16   69.86 -89.08 -23.23 -1.86  31.55  2202.02\n"
     ]
    }
   ],
   "source": [
    "# 상태에 따른 수익률 통계량\n",
    "\n",
    "print(data.groupby([\"영업이익_상태\"])[\"수익률\"].describe().round(2))\n",
    "\n",
    "# 흑자 전환의 평균, 1, 3분위수, 중간값이 다른값보다 높으며, 특히 중간값이 양수인데 이는 투자하면 반 이상이 2.34%의 수익을 얻을 수 있다는 의미\n",
    "# 적, 흑자를 가리지 않고 지속되는 경우보다 전환된 경우의 기대수익이 더 높음"
   ],
   "metadata": {
    "collapsed": false,
    "pycharm": {
     "name": "#%%\n"
    }
   }
  },
  {
   "cell_type": "code",
   "execution_count": 21,
   "outputs": [
    {
     "name": "stdout",
     "output_type": "stream",
     "text": [
      "           count   mean     std    min    25%   50%    75%      max\n",
      "당기순이익_상태                                                           \n",
      "적자전환      1385.0  21.31   80.02 -91.53 -26.54 -0.62  44.03   579.64\n",
      "적자지속      2219.0  20.07  105.24 -89.87 -32.85 -3.30  37.91  1863.16\n",
      "흑자전환      1408.0  23.32   80.56 -86.09 -20.41  1.63  38.45  1066.29\n",
      "흑자지속      6494.0  14.60   69.41 -89.08 -22.93 -1.87  30.74  2202.02\n"
     ]
    }
   ],
   "source": [
    "print(data.groupby([\"당기순이익_상태\"])[\"수익률\"].describe().round(2))\n",
    "\n",
    "# 영업이익과 동일하지만 기대수익은 더 낮음"
   ],
   "metadata": {
    "collapsed": false,
    "pycharm": {
     "name": "#%%\n"
    }
   }
  }
 ],
 "metadata": {
  "kernelspec": {
   "display_name": "Python 3",
   "language": "python",
   "name": "python3"
  },
  "language_info": {
   "codemirror_mode": {
    "name": "ipython",
    "version": 2
   },
   "file_extension": ".py",
   "mimetype": "text/x-python",
   "name": "python",
   "nbconvert_exporter": "python",
   "pygments_lexer": "ipython2",
   "version": "2.7.6"
  }
 },
 "nbformat": 4,
 "nbformat_minor": 0
}